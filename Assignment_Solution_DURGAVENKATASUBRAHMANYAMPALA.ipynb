{
  "nbformat": 4,
  "nbformat_minor": 0,
  "metadata": {
    "colab": {
      "name": "Assignment_Solution_DURGAVENKATASUBRAHMANYAMPALA.ipynb",
      "provenance": [],
      "collapsed_sections": [],
      "authorship_tag": "ABX9TyOEaCcPxR2U95qnXLY9GnrD",
      "include_colab_link": true
    },
    "kernelspec": {
      "name": "python3",
      "display_name": "Python 3"
    },
    "language_info": {
      "name": "python"
    }
  },
  "cells": [
    {
      "cell_type": "markdown",
      "metadata": {
        "id": "view-in-github",
        "colab_type": "text"
      },
      "source": [
        "<a href=\"https://colab.research.google.com/github/subbupala/500-AI-Machine-learning-Deep-learning-Computer-vision-NLP-Projects-with-code/blob/main/Assignment_Solution_DURGAVENKATASUBRAHMANYAMPALA.ipynb\" target=\"_parent\"><img src=\"https://colab.research.google.com/assets/colab-badge.svg\" alt=\"Open In Colab\"/></a>"
      ]
    },
    {
      "cell_type": "markdown",
      "source": [
        "**Section 1: Environment setup and data loading**"
      ],
      "metadata": {
        "id": "F0V0uwIf__3K"
      }
    },
    {
      "cell_type": "markdown",
      "source": [
        "step1: Update currently installed packages in your Google Colab Notebook's runtime"
      ],
      "metadata": {
        "id": "FOXkm1phAr7m"
      }
    },
    {
      "cell_type": "code",
      "source": [
        "!apt-get update -y"
      ],
      "metadata": {
        "colab": {
          "base_uri": "https://localhost:8080/"
        },
        "id": "CJCA6XuIBm6G",
        "outputId": "aef4e9e8-fa31-48e8-aef5-88e77f2599ca"
      },
      "execution_count": 272,
      "outputs": [
        {
          "output_type": "stream",
          "name": "stdout",
          "text": [
            "Get:1 https://cloud.r-project.org/bin/linux/ubuntu bionic-cran40/ InRelease [3,626 B]\n",
            "Get:2 http://security.ubuntu.com/ubuntu bionic-security InRelease [88.7 kB]\n",
            "Hit:3 http://ppa.launchpad.net/c2d4u.team/c2d4u4.0+/ubuntu bionic InRelease\n",
            "Ign:4 https://developer.download.nvidia.com/compute/machine-learning/repos/ubuntu1804/x86_64  InRelease\n",
            "Hit:5 https://developer.download.nvidia.com/compute/cuda/repos/ubuntu1804/x86_64  InRelease\n",
            "Hit:6 http://archive.ubuntu.com/ubuntu bionic InRelease\n",
            "Hit:7 https://developer.download.nvidia.com/compute/machine-learning/repos/ubuntu1804/x86_64  Release\n",
            "Get:8 http://archive.ubuntu.com/ubuntu bionic-updates InRelease [88.7 kB]\n",
            "Hit:9 http://ppa.launchpad.net/cran/libgit2/ubuntu bionic InRelease\n",
            "Hit:10 http://ppa.launchpad.net/deadsnakes/ppa/ubuntu bionic InRelease\n",
            "Get:11 http://archive.ubuntu.com/ubuntu bionic-backports InRelease [74.6 kB]\n",
            "Hit:12 http://ppa.launchpad.net/graphics-drivers/ppa/ubuntu bionic InRelease\n",
            "Get:14 http://archive.ubuntu.com/ubuntu bionic-updates/universe amd64 Packages [2,310 kB]\n",
            "Fetched 2,566 kB in 3s (828 kB/s)\n",
            "Reading package lists... Done\n"
          ]
        }
      ]
    },
    {
      "cell_type": "markdown",
      "source": [
        "step2: Spark is written in the Scala programming language and requires the Java Virtual Machine (JVM) to run. Therefore, our first task is to\n",
        "download Java."
      ],
      "metadata": {
        "id": "AV9PikiaCBOH"
      }
    },
    {
      "cell_type": "code",
      "source": [
        "!apt-get install openjdk-8-jdk-headless -qq > /dev/null"
      ],
      "metadata": {
        "id": "btE6J3OiCZBg"
      },
      "execution_count": null,
      "outputs": []
    },
    {
      "cell_type": "markdown",
      "source": [
        "step3: Next, we will download and unzip Apache Spark with Hadoop 2.7 to install it.\n"
      ],
      "metadata": {
        "id": "-w5wJZCTC7mp"
      }
    },
    {
      "cell_type": "code",
      "source": [
        "!wget -q https://archive.apache.org/dist/spark/spark-3.1.2/spark-3.1.2-bin-hadoop2.7.tgz"
      ],
      "metadata": {
        "id": "sFWaUu3lC-r3"
      },
      "execution_count": 273,
      "outputs": []
    },
    {
      "cell_type": "code",
      "source": [
        "!tar xf spark-3.1.2-bin-hadoop2.7.tgz"
      ],
      "metadata": {
        "id": "_O1mezGyCZEc"
      },
      "execution_count": 274,
      "outputs": []
    },
    {
      "cell_type": "markdown",
      "source": [
        "step4: Setup Environment variables for Java and Spark"
      ],
      "metadata": {
        "id": "5oG8_uvFDOW1"
      }
    },
    {
      "cell_type": "code",
      "source": [
        "import os\n",
        "os.environ[\"JAVA_HOME\"] = \"/usr/lib/jvm/java-8-openjdk-amd64\"\n",
        "os.environ[\"SPARK_HOME\"] = \"/content/spark-3.1.2-bin-hadoop2.7\""
      ],
      "metadata": {
        "id": "d7rsjLUXDTuo"
      },
      "execution_count": 275,
      "outputs": []
    },
    {
      "cell_type": "markdown",
      "source": [
        "step5: Then we need to install and import the 'findspark' library that will locate Spark on the system and import it as a regular library"
      ],
      "metadata": {
        "id": "oiq7Dvr8DfLD"
      }
    },
    {
      "cell_type": "code",
      "source": [
        "!pip install -q findspark\n",
        "import findspark\n",
        "findspark.init()"
      ],
      "metadata": {
        "id": "R4Cm6Er-Dhni"
      },
      "execution_count": 276,
      "outputs": []
    },
    {
      "cell_type": "markdown",
      "source": [
        "step6: Now, import SparkSession from pyspark.sql and create a SparkSession, which will be the entry point to Spark"
      ],
      "metadata": {
        "id": "Weo8PPdCD62c"
      }
    },
    {
      "cell_type": "code",
      "source": [
        "from pyspark.sql import SparkSession\n",
        "spark = (SparkSession\n",
        " .builder\n",
        " .appName(\"<app_name>\")\n",
        " .getOrCreate())"
      ],
      "metadata": {
        "id": "lqZseV61D9QF"
      },
      "execution_count": 277,
      "outputs": []
    },
    {
      "cell_type": "code",
      "source": [
        "pip install pyspark ##installing pyspark"
      ],
      "metadata": {
        "colab": {
          "base_uri": "https://localhost:8080/"
        },
        "id": "OTkL8EICxs7M",
        "outputId": "ab931c8c-2e92-44f3-ac54-463c17e001e4"
      },
      "execution_count": 278,
      "outputs": [
        {
          "output_type": "stream",
          "name": "stdout",
          "text": [
            "Looking in indexes: https://pypi.org/simple, https://us-python.pkg.dev/colab-wheels/public/simple/\n",
            "Requirement already satisfied: pyspark in /usr/local/lib/python3.7/dist-packages (3.3.0)\n",
            "Requirement already satisfied: py4j==0.10.9.5 in /usr/local/lib/python3.7/dist-packages (from pyspark) (0.10.9.5)\n"
          ]
        }
      ]
    },
    {
      "cell_type": "code",
      "source": [
        "import pyspark # importing the pyspark moduke for further analysis"
      ],
      "metadata": {
        "id": "2MAL1DmwxzzD"
      },
      "execution_count": 279,
      "outputs": []
    },
    {
      "cell_type": "markdown",
      "source": [
        "**Section 2: Using pySpark for data analysis**"
      ],
      "metadata": {
        "id": "Si_9lwEMEmWu"
      }
    },
    {
      "cell_type": "markdown",
      "source": [
        "Here we are creating spark session"
      ],
      "metadata": {
        "id": "MkbJc44MyROe"
      }
    },
    {
      "cell_type": "code",
      "source": [
        "from pyspark.sql import SparkSession\n",
        "spark = SparkSession.builder.appName(\"subbu\").getOrCreate()     #creating the spark session "
      ],
      "metadata": {
        "id": "oM1-gixiydas"
      },
      "execution_count": 282,
      "outputs": []
    },
    {
      "cell_type": "code",
      "source": [
        "# downloading files from gdrive to colab gdown is useful for that "
      ],
      "metadata": {
        "id": "_MYsXFlzEkA6"
      },
      "execution_count": 283,
      "outputs": []
    },
    {
      "cell_type": "markdown",
      "source": [
        "installing gdown"
      ],
      "metadata": {
        "id": "8PYK6JxOLIZS"
      }
    },
    {
      "cell_type": "code",
      "source": [
        "pip install gdown   #gdown supports direct download of big files from google drive"
      ],
      "metadata": {
        "colab": {
          "base_uri": "https://localhost:8080/"
        },
        "id": "CjMx0qoHLLQd",
        "outputId": "6c71b289-56be-43c0-dc80-d6bfc15f2ff9"
      },
      "execution_count": 284,
      "outputs": [
        {
          "output_type": "stream",
          "name": "stdout",
          "text": [
            "Looking in indexes: https://pypi.org/simple, https://us-python.pkg.dev/colab-wheels/public/simple/\n",
            "Requirement already satisfied: gdown in /usr/local/lib/python3.7/dist-packages (4.4.0)\n",
            "Requirement already satisfied: requests[socks] in /usr/local/lib/python3.7/dist-packages (from gdown) (2.23.0)\n",
            "Requirement already satisfied: tqdm in /usr/local/lib/python3.7/dist-packages (from gdown) (4.64.0)\n",
            "Requirement already satisfied: beautifulsoup4 in /usr/local/lib/python3.7/dist-packages (from gdown) (4.6.3)\n",
            "Requirement already satisfied: filelock in /usr/local/lib/python3.7/dist-packages (from gdown) (3.8.0)\n",
            "Requirement already satisfied: six in /usr/local/lib/python3.7/dist-packages (from gdown) (1.15.0)\n",
            "Requirement already satisfied: chardet<4,>=3.0.2 in /usr/local/lib/python3.7/dist-packages (from requests[socks]->gdown) (3.0.4)\n",
            "Requirement already satisfied: urllib3!=1.25.0,!=1.25.1,<1.26,>=1.21.1 in /usr/local/lib/python3.7/dist-packages (from requests[socks]->gdown) (1.24.3)\n",
            "Requirement already satisfied: certifi>=2017.4.17 in /usr/local/lib/python3.7/dist-packages (from requests[socks]->gdown) (2022.6.15)\n",
            "Requirement already satisfied: idna<3,>=2.5 in /usr/local/lib/python3.7/dist-packages (from requests[socks]->gdown) (2.10)\n",
            "Requirement already satisfied: PySocks!=1.5.7,>=1.5.6 in /usr/local/lib/python3.7/dist-packages (from requests[socks]->gdown) (1.7.1)\n"
          ]
        }
      ]
    },
    {
      "cell_type": "code",
      "execution_count": 285,
      "metadata": {
        "colab": {
          "base_uri": "https://localhost:8080/"
        },
        "id": "qw2A0uJg7R-F",
        "outputId": "cfd06bee-ad48-4499-d188-11c42952af39"
      },
      "outputs": [
        {
          "output_type": "stream",
          "name": "stdout",
          "text": [
            "/usr/local/lib/python3.7/dist-packages/gdown/cli.py:131: FutureWarning: Option `--id` was deprecated in version 4.3.1 and will be removed in 5.0. You don't need to pass it anymore to use a file ID.\n",
            "  category=FutureWarning,\n",
            "Downloading...\n",
            "From: https://drive.google.com/uc?id=1UBoiIGhfg-Yxk9wXbc48Lx9Z9ZzWg_4Z\n",
            "To: /content/chess_wc_history_game_info.csv\n",
            "100% 596k/596k [00:00<00:00, 80.2MB/s]\n"
          ]
        }
      ],
      "source": [
        "!gdown --id 1UBoiIGhfg-Yxk9wXbc48Lx9Z9ZzWg_4Z  # downloding the files from gdrive to colab using the link ( file name - chess_wc_history_game_info)"
      ]
    },
    {
      "cell_type": "code",
      "source": [
        "!gdown --id 1Th6rP8rVchIvXV25bzO5Er_SvyRoNaic #(file name - chess_wc_history_moves)"
      ],
      "metadata": {
        "id": "UEIELIjizqf1",
        "outputId": "64a8eb84-398a-4469-c38e-6ad5c3455673",
        "colab": {
          "base_uri": "https://localhost:8080/"
        }
      },
      "execution_count": 286,
      "outputs": [
        {
          "output_type": "stream",
          "name": "stdout",
          "text": [
            "/usr/local/lib/python3.7/dist-packages/gdown/cli.py:131: FutureWarning: Option `--id` was deprecated in version 4.3.1 and will be removed in 5.0. You don't need to pass it anymore to use a file ID.\n",
            "  category=FutureWarning,\n",
            "Downloading...\n",
            "From: https://drive.google.com/uc?id=1Th6rP8rVchIvXV25bzO5Er_SvyRoNaic\n",
            "To: /content/chess_wc_history_moves.csv\n",
            "100% 112M/112M [00:00<00:00, 266MB/s]\n"
          ]
        }
      ]
    },
    {
      "cell_type": "code",
      "source": [
        "!gdown --id 1eysHHc8I905r8YVeALYydQBl0E9caNNI  #(file name - eco_codes )"
      ],
      "metadata": {
        "id": "u7t8tUl2z4_j",
        "outputId": "1f631082-afa1-4db3-a6db-6eb2c6c514a4",
        "colab": {
          "base_uri": "https://localhost:8080/"
        }
      },
      "execution_count": 287,
      "outputs": [
        {
          "output_type": "stream",
          "name": "stdout",
          "text": [
            "/usr/local/lib/python3.7/dist-packages/gdown/cli.py:131: FutureWarning: Option `--id` was deprecated in version 4.3.1 and will be removed in 5.0. You don't need to pass it anymore to use a file ID.\n",
            "  category=FutureWarning,\n",
            "Downloading...\n",
            "From: https://drive.google.com/uc?id=1eysHHc8I905r8YVeALYydQBl0E9caNNI\n",
            "To: /content/eco_codes.csv\n",
            "100% 45.6k/45.6k [00:00<00:00, 42.3MB/s]\n"
          ]
        }
      ]
    },
    {
      "cell_type": "markdown",
      "source": [
        "Now we are reading our csv files by giving name to the tables and converting them into dataframes using pyspark functions"
      ],
      "metadata": {
        "id": "uxUqxGx_Edkt"
      }
    },
    {
      "cell_type": "code",
      "source": [
        "# reading first csv file chess_wc_history_game_info"
      ],
      "metadata": {
        "id": "PhKqx2sIz0Ei"
      },
      "execution_count": 288,
      "outputs": []
    },
    {
      "cell_type": "code",
      "source": [
        "pyspark_df1=spark.read.option(\"header\",\"true\").csv(\"/content/chess_wc_history_game_info.csv\") "
      ],
      "metadata": {
        "id": "LT2cw5t3CZHd"
      },
      "execution_count": 289,
      "outputs": []
    },
    {
      "cell_type": "code",
      "source": [
        "pyspark_df1.show()"
      ],
      "metadata": {
        "colab": {
          "base_uri": "https://localhost:8080/"
        },
        "id": "yBib0LEHzXaT",
        "outputId": "ae6ce1b1-0ddf-437c-bca1-51fed8319f99"
      },
      "execution_count": 290,
      "outputs": [
        {
          "output_type": "stream",
          "name": "stdout",
          "text": [
            "+--------------------+----------+--------+----------+-----------+-----+----------------+----------------+-------+---------+---------+-----------+-----------+---------+----------+----------------+---------+---------------------+---+--------------------+---------------+\n",
            "|             game_id|game_order|   event|      site|date_played|round|           white|           black| result|white_elo|black_elo|white_title|black_title|   winner|winner_elo|           loser|loser_elo|winner_loser_elo_diff|eco|        date_created|tournament_name|\n",
            "+--------------------+----------+--------+----------+-----------+-----+----------------+----------------+-------+---------+---------+-----------+-----------+---------+----------+----------------+---------+---------------------+---+--------------------+---------------+\n",
            "|86e0b7f5-7b94-4ae...|         1|WCh 2021| Dubai UAE| 2021.11.26|    1|Nepomniachtchi,I|       Carlsen,M|1/2-1/2|     2782|     2855|       null|       null|     draw|      null|            draw|     null|                    0|C88|2022-07-22T22:33:...| WorldChamp2021|\n",
            "|dc4a10ab-54cf-49d...|         2|WCh 2021| Dubai UAE| 2021.11.27|    2|       Carlsen,M|Nepomniachtchi,I|1/2-1/2|     2855|     2782|       null|       null|     draw|      null|            draw|     null|                    0|E06|2022-07-22T22:33:...| WorldChamp2021|\n",
            "|f042ca37-8899-488...|         3|WCh 2021| Dubai UAE| 2021.11.28|    3|Nepomniachtchi,I|       Carlsen,M|1/2-1/2|     2782|     2855|       null|       null|     draw|      null|            draw|     null|                    0|C88|2022-07-22T22:33:...| WorldChamp2021|\n",
            "|f70e4bbc-21e3-46f...|         4|WCh 2021| Dubai UAE| 2021.11.30|    4|       Carlsen,M|Nepomniachtchi,I|1/2-1/2|     2855|     2782|       null|       null|     draw|      null|            draw|     null|                    0|C42|2022-07-22T22:33:...| WorldChamp2021|\n",
            "|c941c323-308a-4c8...|         5|WCh 2021| Dubai UAE| 2021.12.01|    5|Nepomniachtchi,I|       Carlsen,M|1/2-1/2|     2782|     2855|       null|       null|     draw|      null|            draw|     null|                    0|C88|2022-07-22T22:33:...| WorldChamp2021|\n",
            "|58e83255-93bb-4d5...|         6|WCh 2021| Dubai UAE| 2021.12.03|    6|       Carlsen,M|Nepomniachtchi,I|    1-0|     2855|     2782|       null|       null|Carlsen,M|      2855|Nepomniachtchi,I|     2782|                   73|D02|2022-07-22T22:33:...| WorldChamp2021|\n",
            "|29181d93-73f4-4fb...|         7|WCh 2021| Dubai UAE| 2021.12.04|    7|Nepomniachtchi,I|       Carlsen,M|1/2-1/2|     2782|     2855|       null|       null|     draw|      null|            draw|     null|                    0|C88|2022-07-22T22:33:...| WorldChamp2021|\n",
            "|8a4ccd8c-d437-429...|         8|WCh 2021| Dubai UAE| 2021.12.05|    8|       Carlsen,M|Nepomniachtchi,I|    1-0|     2855|     2782|       null|       null|Carlsen,M|      2855|Nepomniachtchi,I|     2782|                   73|C43|2022-07-22T22:33:...| WorldChamp2021|\n",
            "|55a122db-27d1-495...|         9|WCh 2021| Dubai UAE| 2021.12.07|    9|Nepomniachtchi,I|       Carlsen,M|    0-1|     2782|     2855|       null|       null|Carlsen,M|      2855|Nepomniachtchi,I|     2782|                   73|A13|2022-07-22T22:33:...| WorldChamp2021|\n",
            "|1f900d18-5ea3-4f4...|        10|WCh 2021| Dubai UAE| 2021.12.08|   10|       Carlsen,M|Nepomniachtchi,I|1/2-1/2|     2855|     2782|       null|       null|     draw|      null|            draw|     null|                    0|C42|2022-07-22T22:33:...| WorldChamp2021|\n",
            "|c512a953-a341-47c...|        11|WCh 2021| Dubai UAE| 2021.12.10|   11|Nepomniachtchi,I|       Carlsen,M|    0-1|     2782|     2855|       null|       null|Carlsen,M|      2855|Nepomniachtchi,I|     2782|                   73|C50|2022-07-22T22:33:...| WorldChamp2021|\n",
            "|99d39a93-427e-4d1...|         1|WCh 2018|London ENG| 2018.11.09|    1|Caruana, Fabiano| Carlsen, Magnus|1/2-1/2|     2832|     2835|         GM|         GM|     draw|      null|            draw|     null|                    0|B31|2022-07-22T22:33:...| WorldChamp2018|\n",
            "|c87ceb3e-67a7-45d...|         2|WCh 2018|London ENG| 2018.11.10|    2| Carlsen, Magnus|Caruana, Fabiano|1/2-1/2|     2835|     2832|         GM|         GM|     draw|      null|            draw|     null|                    0|D37|2022-07-22T22:33:...| WorldChamp2018|\n",
            "|d50510ea-9c1a-460...|         3|WCh 2018|London ENG| 2018.11.12|    3|Caruana, Fabiano| Carlsen, Magnus|1/2-1/2|     2832|     2835|         GM|         GM|     draw|      null|            draw|     null|                    0|B31|2022-07-22T22:33:...| WorldChamp2018|\n",
            "|e899e16a-281e-41b...|         4|WCh 2018|London ENG| 2018.11.13|    4| Carlsen, Magnus|Caruana, Fabiano|1/2-1/2|     2835|     2832|         GM|         GM|     draw|      null|            draw|     null|                    0|A29|2022-07-22T22:33:...| WorldChamp2018|\n",
            "|59f8da88-fd21-405...|         5|WCh 2018|London ENG| 2018.11.15|    5|Caruana, Fabiano| Carlsen, Magnus|1/2-1/2|     2832|     2835|         GM|         GM|     draw|      null|            draw|     null|                    0|B31|2022-07-22T22:33:...| WorldChamp2018|\n",
            "|6dcc4b46-3155-47e...|         6|WCh 2018|London ENG| 2018.11.16|    6| Carlsen, Magnus|Caruana, Fabiano|1/2-1/2|     2835|     2832|         GM|         GM|     draw|      null|            draw|     null|                    0|C42|2022-07-22T22:33:...| WorldChamp2018|\n",
            "|c0c727cf-03ec-4b4...|         7|WCh 2018|London ENG| 2018.11.18|    7| Carlsen, Magnus|Caruana, Fabiano|1/2-1/2|     2835|     2832|         GM|         GM|     draw|      null|            draw|     null|                    0|D37|2022-07-22T22:33:...| WorldChamp2018|\n",
            "|4c14e044-cacc-405...|         8|WCh 2018|London ENG| 2018.11.19|    8|Caruana, Fabiano| Carlsen, Magnus|1/2-1/2|     2832|     2835|         GM|         GM|     draw|      null|            draw|     null|                    0|B33|2022-07-22T22:33:...| WorldChamp2018|\n",
            "|3f4eb26e-3cd1-43b...|         9|WCh 2018|London ENG| 2018.11.21|    9| Carlsen, Magnus|Caruana, Fabiano|1/2-1/2|     2835|     2832|         GM|         GM|     draw|      null|            draw|     null|                    0|A29|2022-07-22T22:33:...| WorldChamp2018|\n",
            "+--------------------+----------+--------+----------+-----------+-----+----------------+----------------+-------+---------+---------+-----------+-----------+---------+----------+----------------+---------+---------------------+---+--------------------+---------------+\n",
            "only showing top 20 rows\n",
            "\n"
          ]
        }
      ]
    },
    {
      "cell_type": "code",
      "source": [
        "#reading second csv file chess_wc_history_moves"
      ],
      "metadata": {
        "id": "Z3Xybnz5zXdI"
      },
      "execution_count": null,
      "outputs": []
    },
    {
      "cell_type": "code",
      "source": [
        "pyspark_df2=spark.read.option(\"header\",\"true\").csv(\"/content/chess_wc_history_moves.csv\")"
      ],
      "metadata": {
        "id": "QTE94TyH0K8J"
      },
      "execution_count": 291,
      "outputs": []
    },
    {
      "cell_type": "code",
      "source": [
        "pyspark_df2.show()"
      ],
      "metadata": {
        "colab": {
          "base_uri": "https://localhost:8080/"
        },
        "id": "dxi_3JsRzXoF",
        "outputId": "8e0cef19-433a-4d73-cd1b-592ca1d1655c"
      },
      "execution_count": 292,
      "outputs": [
        {
          "output_type": "stream",
          "name": "stdout",
          "text": [
            "+--------------------+-------+------------+----------------+--------+----+-----------+---------+-----+-----+--------------------+--------+-------------+--------------+----------------------+------------+------------------------+-----------+-----------+----------------+----------------+-----------------+-----------------+------------------+------------------+------------------+------------------+----------------+----------------+------------------------+------------------------+--------------------+--------------------+--------------------+--------------------+--------------------+--------------------+--------------------+--------------------+--------------------+--------------------+--------------------+--------------------+--------------------+--------------------+--------------------+--------------------+--------------------+--------------------+--------------------+--------------------+--------------------+--------------------+--------------------+--------------------+--------------------+--------------------+--------------------+--------------------+--------------------+--------------------+--------------------+--------------------+--------------------+\n",
            "|             game_id|move_no|move_no_pair|          player|notation|move|from_square|to_square|piece|color|                 fen|is_check|is_check_mate|is_fifty_moves|is_fivefold_repetition|is_game_over|is_insufficient_material|white_count|black_count|white_pawn_count|black_pawn_count|white_queen_count|black_queen_count|white_bishop_count|black_bishop_count|white_knight_count|black_knight_count|white_rook_count|black_rook_count|captured_score_for_white|captured_score_for_black|fen_row1_white_count|fen_row2_white_count|fen_row3_white_count|fen_row4_white_count|fen_row5_white_count|fen_row6_white_count|fen_row7_white_count|fen_row8_white_count|fen_row1_white_value|fen_row2_white_value|fen_row3_white_value|fen_row4_white_value|fen_row5_white_value|fen_row6_white_value|fen_row7_white_value|fen_row8_white_value|fen_row1_black_count|fen_row2_black_count|fen_row3_black_count|fen_row4_black_count|fen_row5_black_count|fen_row6_black_count|fen_row7_black_count|fen_row8_black_count|fen_row1_black_value|fen_row2_black_value|fen_row3_black_value|fen_row4_black_value|fen_row5_black_value|fen_row6_black_value|fen_row7_black_value|fen_row8_black_value|       move_sequence|\n",
            "+--------------------+-------+------------+----------------+--------+----+-----------+---------+-----+-----+--------------------+--------+-------------+--------------+----------------------+------------+------------------------+-----------+-----------+----------------+----------------+-----------------+-----------------+------------------+------------------+------------------+------------------+----------------+----------------+------------------------+------------------------+--------------------+--------------------+--------------------+--------------------+--------------------+--------------------+--------------------+--------------------+--------------------+--------------------+--------------------+--------------------+--------------------+--------------------+--------------------+--------------------+--------------------+--------------------+--------------------+--------------------+--------------------+--------------------+--------------------+--------------------+--------------------+--------------------+--------------------+--------------------+--------------------+--------------------+--------------------+--------------------+--------------------+\n",
            "|86e0b7f5-7b94-4ae...|      1|           1|Nepomniachtchi,I|      e4|e2e4|         e2|       e4|    P|White|rnbqkbnr/pppppppp...|       0|            0|             0|                     0|           0|                       0|         16|         16|               8|               8|                1|                1|                 2|                 2|                 2|                 2|               2|               2|                       0|                       0|                   8|                   7|                   0|                   1|                   0|                   0|                   0|                   0|                  31|                   7|                   0|                   1|                   0|                   0|                   0|                   0|                   0|                   0|                   0|                   0|                   0|                   0|                   8|                   8|                   0|                   0|                   0|                   0|                   0|                   0|                   8|                  31|                  e4|\n",
            "|86e0b7f5-7b94-4ae...|      2|           1|       Carlsen,M|      e5|e7e5|         e7|       e5|    P|Black|rnbqkbnr/pppp1ppp...|       0|            0|             0|                     0|           0|                       0|         16|         16|               8|               8|                1|                1|                 2|                 2|                 2|                 2|               2|               2|                       0|                       0|                   8|                   7|                   0|                   1|                   0|                   0|                   0|                   0|                  31|                   7|                   0|                   1|                   0|                   0|                   0|                   0|                   0|                   0|                   0|                   0|                   1|                   0|                   7|                   8|                   0|                   0|                   0|                   0|                   1|                   0|                   7|                  31|               e4|e5|\n",
            "|86e0b7f5-7b94-4ae...|      3|           2|Nepomniachtchi,I|     Nf3|g1f3|         g1|       f3|    N|White|rnbqkbnr/pppp1ppp...|       0|            0|             0|                     0|           0|                       0|         16|         16|               8|               8|                1|                1|                 2|                 2|                 2|                 2|               2|               2|                       0|                       0|                   7|                   7|                   1|                   1|                   0|                   0|                   0|                   0|                  28|                   7|                   3|                   1|                   0|                   0|                   0|                   0|                   0|                   0|                   0|                   0|                   1|                   0|                   7|                   8|                   0|                   0|                   0|                   0|                   1|                   0|                   7|                  31|           e4|e5|Nf3|\n",
            "|86e0b7f5-7b94-4ae...|      4|           2|       Carlsen,M|     Nc6|b8c6|         b8|       c6|    N|Black|r1bqkbnr/pppp1ppp...|       0|            0|             0|                     0|           0|                       0|         16|         16|               8|               8|                1|                1|                 2|                 2|                 2|                 2|               2|               2|                       0|                       0|                   7|                   7|                   1|                   1|                   0|                   0|                   0|                   0|                  28|                   7|                   3|                   1|                   0|                   0|                   0|                   0|                   0|                   0|                   0|                   0|                   1|                   1|                   7|                   7|                   0|                   0|                   0|                   0|                   1|                   3|                   7|                  28|       e4|e5|Nf3|Nc6|\n",
            "|86e0b7f5-7b94-4ae...|      5|           3|Nepomniachtchi,I|     Bb5|f1b5|         f1|       b5|    B|White|r1bqkbnr/pppp1ppp...|       0|            0|             0|                     0|           0|                       0|         16|         16|               8|               8|                1|                1|                 2|                 2|                 2|                 2|               2|               2|                       0|                       0|                   6|                   7|                   1|                   1|                   1|                   0|                   0|                   0|                  25|                   7|                   3|                   1|                   3|                   0|                   0|                   0|                   0|                   0|                   0|                   0|                   1|                   1|                   7|                   7|                   0|                   0|                   0|                   0|                   1|                   3|                   7|                  28|   e4|e5|Nf3|Nc6|Bb5|\n",
            "|86e0b7f5-7b94-4ae...|      6|           3|       Carlsen,M|      a6|a7a6|         a7|       a6|    P|Black|r1bqkbnr/1ppp1ppp...|       0|            0|             0|                     0|           0|                       0|         16|         16|               8|               8|                1|                1|                 2|                 2|                 2|                 2|               2|               2|                       0|                       0|                   6|                   7|                   1|                   1|                   1|                   0|                   0|                   0|                  25|                   7|                   3|                   1|                   3|                   0|                   0|                   0|                   0|                   0|                   0|                   0|                   1|                   2|                   6|                   7|                   0|                   0|                   0|                   0|                   1|                   4|                   6|                  28|e4|e5|Nf3|Nc6|Bb5|a6|\n",
            "|86e0b7f5-7b94-4ae...|      7|           4|Nepomniachtchi,I|     Ba4|b5a4|         b5|       a4|    B|White|r1bqkbnr/1ppp1ppp...|       0|            0|             0|                     0|           0|                       0|         16|         16|               8|               8|                1|                1|                 2|                 2|                 2|                 2|               2|               2|                       0|                       0|                   6|                   7|                   1|                   2|                   0|                   0|                   0|                   0|                  25|                   7|                   3|                   4|                   0|                   0|                   0|                   0|                   0|                   0|                   0|                   0|                   1|                   2|                   6|                   7|                   0|                   0|                   0|                   0|                   1|                   4|                   6|                  28|e4|e5|Nf3|Nc6|Bb5...|\n",
            "|86e0b7f5-7b94-4ae...|      8|           4|       Carlsen,M|     Nf6|g8f6|         g8|       f6|    N|Black|r1bqkb1r/1ppp1ppp...|       0|            0|             0|                     0|           0|                       0|         16|         16|               8|               8|                1|                1|                 2|                 2|                 2|                 2|               2|               2|                       0|                       0|                   6|                   7|                   1|                   2|                   0|                   0|                   0|                   0|                  25|                   7|                   3|                   4|                   0|                   0|                   0|                   0|                   0|                   0|                   0|                   0|                   1|                   3|                   6|                   6|                   0|                   0|                   0|                   0|                   1|                   7|                   6|                  25|e4|e5|Nf3|Nc6|Bb5...|\n",
            "|86e0b7f5-7b94-4ae...|      9|           5|Nepomniachtchi,I|     O-O|e1g1|         e1|       g1|    K|White|r1bqkb1r/1ppp1ppp...|       0|            0|             0|                     0|           0|                       0|         16|         16|               8|               8|                1|                1|                 2|                 2|                 2|                 2|               2|               2|                       0|                       0|                   6|                   7|                   1|                   2|                   0|                   0|                   0|                   0|                  25|                   7|                   3|                   4|                   0|                   0|                   0|                   0|                   0|                   0|                   0|                   0|                   1|                   3|                   6|                   6|                   0|                   0|                   0|                   0|                   1|                   7|                   6|                  25|e4|e5|Nf3|Nc6|Bb5...|\n",
            "|86e0b7f5-7b94-4ae...|     10|           5|       Carlsen,M|     Be7|f8e7|         f8|       e7|    B|Black|r1bqk2r/1pppbppp/...|       0|            0|             0|                     0|           0|                       0|         16|         16|               8|               8|                1|                1|                 2|                 2|                 2|                 2|               2|               2|                       0|                       0|                   6|                   7|                   1|                   2|                   0|                   0|                   0|                   0|                  25|                   7|                   3|                   4|                   0|                   0|                   0|                   0|                   0|                   0|                   0|                   0|                   1|                   3|                   7|                   5|                   0|                   0|                   0|                   0|                   1|                   7|                   9|                  22|e4|e5|Nf3|Nc6|Bb5...|\n",
            "|86e0b7f5-7b94-4ae...|     11|           6|Nepomniachtchi,I|     Re1|f1e1|         f1|       e1|    R|White|r1bqk2r/1pppbppp/...|       0|            0|             0|                     0|           0|                       0|         16|         16|               8|               8|                1|                1|                 2|                 2|                 2|                 2|               2|               2|                       0|                       0|                   6|                   7|                   1|                   2|                   0|                   0|                   0|                   0|                  25|                   7|                   3|                   4|                   0|                   0|                   0|                   0|                   0|                   0|                   0|                   0|                   1|                   3|                   7|                   5|                   0|                   0|                   0|                   0|                   1|                   7|                   9|                  22|e4|e5|Nf3|Nc6|Bb5...|\n",
            "|86e0b7f5-7b94-4ae...|     12|           6|       Carlsen,M|      b5|b7b5|         b7|       b5|    P|Black|r1bqk2r/2ppbppp/p...|       0|            0|             0|                     0|           0|                       0|         16|         16|               8|               8|                1|                1|                 2|                 2|                 2|                 2|               2|               2|                       0|                       0|                   6|                   7|                   1|                   2|                   0|                   0|                   0|                   0|                  25|                   7|                   3|                   4|                   0|                   0|                   0|                   0|                   0|                   0|                   0|                   0|                   2|                   3|                   6|                   5|                   0|                   0|                   0|                   0|                   2|                   7|                   8|                  22|e4|e5|Nf3|Nc6|Bb5...|\n",
            "|86e0b7f5-7b94-4ae...|     13|           7|Nepomniachtchi,I|     Bb3|a4b3|         a4|       b3|    B|White|r1bqk2r/2ppbppp/p...|       0|            0|             0|                     0|           0|                       0|         16|         16|               8|               8|                1|                1|                 2|                 2|                 2|                 2|               2|               2|                       0|                       0|                   6|                   7|                   2|                   1|                   0|                   0|                   0|                   0|                  25|                   7|                   6|                   1|                   0|                   0|                   0|                   0|                   0|                   0|                   0|                   0|                   2|                   3|                   6|                   5|                   0|                   0|                   0|                   0|                   2|                   7|                   8|                  22|e4|e5|Nf3|Nc6|Bb5...|\n",
            "|86e0b7f5-7b94-4ae...|     14|           7|       Carlsen,M|     O-O|e8g8|         e8|       g8|    K|Black|r1bq1rk1/2ppbppp/...|       0|            0|             0|                     0|           0|                       0|         16|         16|               8|               8|                1|                1|                 2|                 2|                 2|                 2|               2|               2|                       0|                       0|                   6|                   7|                   2|                   1|                   0|                   0|                   0|                   0|                  25|                   7|                   6|                   1|                   0|                   0|                   0|                   0|                   0|                   0|                   0|                   0|                   2|                   3|                   6|                   5|                   0|                   0|                   0|                   0|                   2|                   7|                   8|                  22|e4|e5|Nf3|Nc6|Bb5...|\n",
            "|86e0b7f5-7b94-4ae...|     15|           8|Nepomniachtchi,I|      h3|h2h3|         h2|       h3|    P|White|r1bq1rk1/2ppbppp/...|       0|            0|             0|                     0|           0|                       0|         16|         16|               8|               8|                1|                1|                 2|                 2|                 2|                 2|               2|               2|                       0|                       0|                   6|                   6|                   3|                   1|                   0|                   0|                   0|                   0|                  25|                   6|                   7|                   1|                   0|                   0|                   0|                   0|                   0|                   0|                   0|                   0|                   2|                   3|                   6|                   5|                   0|                   0|                   0|                   0|                   2|                   7|                   8|                  22|e4|e5|Nf3|Nc6|Bb5...|\n",
            "|86e0b7f5-7b94-4ae...|     16|           8|       Carlsen,M|     Na5|c6a5|         c6|       a5|    N|Black|r1bq1rk1/2ppbppp/...|       0|            0|             0|                     0|           0|                       0|         16|         16|               8|               8|                1|                1|                 2|                 2|                 2|                 2|               2|               2|                       0|                       0|                   6|                   6|                   3|                   1|                   0|                   0|                   0|                   0|                  25|                   6|                   7|                   1|                   0|                   0|                   0|                   0|                   0|                   0|                   0|                   0|                   3|                   2|                   6|                   5|                   0|                   0|                   0|                   0|                   5|                   4|                   8|                  22|e4|e5|Nf3|Nc6|Bb5...|\n",
            "|86e0b7f5-7b94-4ae...|     17|           9|Nepomniachtchi,I|    Nxe5|f3e5|         f3|       e5|    N|White|r1bq1rk1/2ppbppp/...|       0|            0|             0|                     0|           0|                       0|         16|         15|               8|               7|                1|                1|                 2|                 2|                 2|                 2|               2|               2|                       1|                       0|                   6|                   6|                   2|                   1|                   1|                   0|                   0|                   0|                  25|                   6|                   4|                   1|                   3|                   0|                   0|                   0|                   0|                   0|                   0|                   0|                   2|                   2|                   6|                   5|                   0|                   0|                   0|                   0|                   4|                   4|                   8|                  22|e4|e5|Nf3|Nc6|Bb5...|\n",
            "|86e0b7f5-7b94-4ae...|     18|           9|       Carlsen,M|    Nxb3|a5b3|         a5|       b3|    N|Black|r1bq1rk1/2ppbppp/...|       0|            0|             0|                     0|           0|                       0|         15|         15|               8|               7|                1|                1|                 1|                 2|                 2|                 2|               2|               2|                       1|                       3|                   6|                   6|                   1|                   1|                   1|                   0|                   0|                   0|                  25|                   6|                   1|                   1|                   3|                   0|                   0|                   0|                   0|                   0|                   1|                   0|                   1|                   2|                   6|                   5|                   0|                   0|                   3|                   0|                   1|                   4|                   8|                  22|e4|e5|Nf3|Nc6|Bb5...|\n",
            "|86e0b7f5-7b94-4ae...|     19|          10|Nepomniachtchi,I|    axb3|a2b3|         a2|       b3|    P|White|r1bq1rk1/2ppbppp/...|       0|            0|             0|                     0|           0|                       0|         15|         14|               8|               7|                1|                1|                 1|                 2|                 2|                 1|               2|               2|                       4|                       3|                   6|                   5|                   2|                   1|                   1|                   0|                   0|                   0|                  25|                   5|                   2|                   1|                   3|                   0|                   0|                   0|                   0|                   0|                   0|                   0|                   1|                   2|                   6|                   5|                   0|                   0|                   0|                   0|                   1|                   4|                   8|                  22|e4|e5|Nf3|Nc6|Bb5...|\n",
            "|86e0b7f5-7b94-4ae...|     20|          10|       Carlsen,M|     Bb7|c8b7|         c8|       b7|    B|Black|r2q1rk1/1bppbppp/...|       0|            0|             0|                     0|           0|                       0|         15|         14|               8|               7|                1|                1|                 1|                 2|                 2|                 1|               2|               2|                       4|                       3|                   6|                   5|                   2|                   1|                   1|                   0|                   0|                   0|                  25|                   5|                   2|                   1|                   3|                   0|                   0|                   0|                   0|                   0|                   0|                   0|                   1|                   2|                   7|                   4|                   0|                   0|                   0|                   0|                   1|                   4|                  11|                  19|e4|e5|Nf3|Nc6|Bb5...|\n",
            "+--------------------+-------+------------+----------------+--------+----+-----------+---------+-----+-----+--------------------+--------+-------------+--------------+----------------------+------------+------------------------+-----------+-----------+----------------+----------------+-----------------+-----------------+------------------+------------------+------------------+------------------+----------------+----------------+------------------------+------------------------+--------------------+--------------------+--------------------+--------------------+--------------------+--------------------+--------------------+--------------------+--------------------+--------------------+--------------------+--------------------+--------------------+--------------------+--------------------+--------------------+--------------------+--------------------+--------------------+--------------------+--------------------+--------------------+--------------------+--------------------+--------------------+--------------------+--------------------+--------------------+--------------------+--------------------+--------------------+--------------------+--------------------+\n",
            "only showing top 20 rows\n",
            "\n"
          ]
        }
      ]
    },
    {
      "cell_type": "code",
      "source": [
        "#reading third csv file eco_codes"
      ],
      "metadata": {
        "id": "fBGDMXXMzXpv"
      },
      "execution_count": null,
      "outputs": []
    },
    {
      "cell_type": "code",
      "execution_count": 293,
      "metadata": {
        "id": "gZzxFYqx2Lpp"
      },
      "outputs": [],
      "source": [
        "pyspark_df3=spark.read.option(\"header\",\"true\").csv(\"/content/eco_codes.csv\")"
      ]
    },
    {
      "cell_type": "code",
      "source": [
        "pyspark_df3.show()"
      ],
      "metadata": {
        "colab": {
          "base_uri": "https://localhost:8080/"
        },
        "id": "nrdo4xyizX-g",
        "outputId": "5f6f2eb2-d199-4a43-c280-e934af52b46f"
      },
      "execution_count": 294,
      "outputs": [
        {
          "output_type": "stream",
          "name": "stdout",
          "text": [
            "+---+--------------------+--------------------+--------+---------+\n",
            "|eco|            eco_name|         eco_example|eco_type|eco_group|\n",
            "+---+--------------------+--------------------+--------+---------+\n",
            "|A00|    Uncommon Opening|  1 g4, a3, h3, etc.|       A|    Flank|\n",
            "|A01|Nimzovich-Larsen ...|                1 b3|       A|    Flank|\n",
            "|A02|      Bird's Opening|                1 f4|       A|    Flank|\n",
            "|A03|      Bird's Opening|             1 f4 d5|       A|    Flank|\n",
            "|A04|        Reti Opening|               1 Nf3|       A|    Flank|\n",
            "|A05|        Reti Opening|           1 Nf3 Nf6|       A|    Flank|\n",
            "|A06|        Reti Opening|            1 Nf3 d5|       A|    Flank|\n",
            "|A07|King's Indian Attack|       1 Nf3 d5 2 g3|       A|    Flank|\n",
            "|A08|King's Indian Attack|1 Nf3 d5 2 g3 c5 ...|       A|    Flank|\n",
            "|A09|        Reti Opening|       1 Nf3 d5 2 c4|       A|    Flank|\n",
            "|A10|             English|                1 c4|       A|    Flank|\n",
            "|A11|English, Caro-Kan...|             1 c4 c6|       A|    Flank|\n",
            "|A12|     English with b3|1 c4 c6 2 Nf3 d5 ...|       A|    Flank|\n",
            "|A13|             English|             1 c4 e6|       A|    Flank|\n",
            "|A14|             English|1 c4 e6 2 Nf3 d5 ...|       A|    Flank|\n",
            "|A15|             English|            1 c4 Nf6|       A|    Flank|\n",
            "|A16|             English|      1 c4 Nf6 2 Nc3|       A|    Flank|\n",
            "|A17|             English|   1 c4 Nf6 2 Nc3 e6|       A|    Flank|\n",
            "|A18|English, Mikenas-...|1 c4 Nf6 2 Nc3 e6...|       A|    Flank|\n",
            "|A19|English, Mikenas-...|1 c4 Nf6 2 Nc3 e6...|       A|    Flank|\n",
            "+---+--------------------+--------------------+--------+---------+\n",
            "only showing top 20 rows\n",
            "\n"
          ]
        }
      ]
    },
    {
      "cell_type": "markdown",
      "source": [
        "\n",
        "\n",
        "1.   pyspark_df1 -> chess_wc_history_game_info\n",
        "2.   pyspark_df2 ->chess_wc_history_moves\n",
        "3.   pyspark_df3 ->eco_codes \n",
        "\n",
        "\n"
      ],
      "metadata": {
        "id": "4gvCDXYq279E"
      }
    },
    {
      "cell_type": "markdown",
      "source": [
        "SOLVING QUESTIONS USING PYSPARK"
      ],
      "metadata": {
        "id": "pv0ILaYM1JgS"
      }
    },
    {
      "cell_type": "code",
      "source": [
        "# Question1 "
      ],
      "metadata": {
        "id": "9aWl7yfF1S8q"
      },
      "execution_count": null,
      "outputs": []
    },
    {
      "cell_type": "markdown",
      "source": [
        "1. List of Winners of Each World champions Trophy Hint: Total Result of all rounds of Tournament for that player is considered as that player's\n",
        "Score/Result.\n",
        "Result attributes: winner, tournament_name"
      ],
      "metadata": {
        "id": "rnWHpyay16LB"
      }
    },
    {
      "cell_type": "code",
      "source": [
        "ques1=pyspark_df1.groupBy(\"winner\",\"tournament_name\").count().where(pyspark_df1.winner!=\"draw\").select('winner','tournament_name') #grouping colums from dataframe1 and counting winner in a tournament and after removing draw games we get the winners count in a particular tournament"
      ],
      "metadata": {
        "id": "x1XYmJxz1S_h"
      },
      "execution_count": 295,
      "outputs": []
    },
    {
      "cell_type": "code",
      "source": [
        "ques1.show()"
      ],
      "metadata": {
        "colab": {
          "base_uri": "https://localhost:8080/"
        },
        "id": "V4GDT2YG1TTR",
        "outputId": "f648c276-601b-41a2-ee26-241ff87eaa88"
      },
      "execution_count": 296,
      "outputs": [
        {
          "output_type": "stream",
          "name": "stdout",
          "text": [
            "+------------------+---------------+\n",
            "|            winner|tournament_name|\n",
            "+------------------+---------------+\n",
            "|          Bareev,E|  FideChamp2002|\n",
            "|           Dreev,A|  FideChamp2002|\n",
            "|    Andersson, Ulf|  FideChamp1999|\n",
            "|    Svidler, Peter|  FideChamp1998|\n",
            "|         Ehlvest,J|  FideChamp2002|\n",
            "|         Delchev,A|  FideChamp2004|\n",
            "|      Ponomariov,R|  FideChamp2002|\n",
            "|      Zvjaginsev,V|  FideChamp2002|\n",
            "| Steinitz, William| WorldChamp1890|\n",
            "|          Kudrin,S|  FideChamp2004|\n",
            "|Istratescu, Andrei|  FideChamp1998|\n",
            "|          Sakaev,K|  FideChamp2002|\n",
            "|        Ciuksyte,D|  FideChamp2002|\n",
            "|         Lautier,J|  FideChamp2002|\n",
            "|      Psakhis, Lev|  FideChamp1999|\n",
            "|     Dreev, Alexey|  FideChamp1999|\n",
            "|         Kramnik,V| WorldChamp2006|\n",
            "|     Lautier, Joel|  FideChamp1999|\n",
            "|           Anand,V| WorldChamp2010|\n",
            "|        Nakamura,H|  FideChamp2004|\n",
            "+------------------+---------------+\n",
            "only showing top 20 rows\n",
            "\n"
          ]
        }
      ]
    },
    {
      "cell_type": "code",
      "source": [
        "# Question2 "
      ],
      "metadata": {
        "id": "KT_zuFfQ2c4T"
      },
      "execution_count": null,
      "outputs": []
    },
    {
      "cell_type": "markdown",
      "source": [
        "2. List of Players with number of times they have won Tournament in descending order(Max to min).\n",
        "Result attributes: player_name, number_of_wins"
      ],
      "metadata": {
        "id": "B26WrjwS2tWD"
      }
    },
    {
      "cell_type": "code",
      "source": [
        "# group the winner column from dataframe1(pyspark_df1) and group the count and filter it by removing draw games and renaming the column by using withcolumnRenamed() function"
      ],
      "metadata": {
        "id": "rBb8MnC0P80d"
      },
      "execution_count": null,
      "outputs": []
    },
    {
      "cell_type": "code",
      "source": [
        "ques2=pyspark_df1.groupBy(\"winner\").count().filter(pyspark_df1.winner!=\"draw\").withColumnRenamed(\"winner\",\"player_name\").withColumnRenamed(\"count\",\"number_of_wins\")"
      ],
      "metadata": {
        "id": "QuIg_zKq2dN3"
      },
      "execution_count": 297,
      "outputs": []
    },
    {
      "cell_type": "code",
      "source": [
        "ques2.show()"
      ],
      "metadata": {
        "colab": {
          "base_uri": "https://localhost:8080/"
        },
        "id": "tAKIRGC433Wr",
        "outputId": "3245f7cb-1533-4dcb-8ece-8a6fcb005f1b"
      },
      "execution_count": 298,
      "outputs": [
        {
          "output_type": "stream",
          "name": "stdout",
          "text": [
            "+------------------+--------------+\n",
            "|       player_name|number_of_wins|\n",
            "+------------------+--------------+\n",
            "|   Fridman, Daniel|             2|\n",
            "|    Svidler, Peter|             4|\n",
            "|   Alterman, Boris|             1|\n",
            "|        Ivanchuk,V|            12|\n",
            "|    Andersson, Ulf|             5|\n",
            "|   Jussupow, Artur|             1|\n",
            "|          Piket,Je|             3|\n",
            "|    Van Wely, Loek|             4|\n",
            "|       Onischuk,Al|             1|\n",
            "|      Peng Xiaomin|             5|\n",
            "|    Kacheishvili,G|             1|\n",
            "|      Vladimirov,E|             4|\n",
            "|          Luther,T|             3|\n",
            "| Ivanchuk, Vassily|             4|\n",
            "| Steinitz, William|            43|\n",
            "|         Carlsen,M|             4|\n",
            "|         Ivanov,AV|             1|\n",
            "|Istratescu, Andrei|             2|\n",
            "|        Tiviakov,S|             5|\n",
            "|   Karpov, Anatoly|            47|\n",
            "+------------------+--------------+\n",
            "only showing top 20 rows\n",
            "\n"
          ]
        }
      ]
    },
    {
      "cell_type": "code",
      "source": [
        "ques2.orderBy(ques2.number_of_wins.desc()).show()"
      ],
      "metadata": {
        "colab": {
          "base_uri": "https://localhost:8080/"
        },
        "id": "lSM2J-UD39Wy",
        "outputId": "5b0b70e2-840f-4143-fba6-40980b5aa2c7"
      },
      "execution_count": 299,
      "outputs": [
        {
          "output_type": "stream",
          "name": "stdout",
          "text": [
            "+--------------------+--------------+\n",
            "|         player_name|number_of_wins|\n",
            "+--------------------+--------------+\n",
            "|     Lasker, Emanuel|            52|\n",
            "|     Karpov, Anatoly|            47|\n",
            "|  Botvinnik, Mikhail|            46|\n",
            "|   Steinitz, William|            43|\n",
            "| Alekhine, Alexander|            43|\n",
            "|           Topalov,V|            32|\n",
            "|      Kasparov, Gary|            31|\n",
            "|             Anand,V|            30|\n",
            "|    Smyslov, Vassily|            24|\n",
            "|            Adams,Mi|            20|\n",
            "|      Kasimdzhanov,R|            19|\n",
            "|          Grischuk,A|            17|\n",
            "|           Svidler,P|            16|\n",
            "|      Adams, Michael|            16|\n",
            "|            Shirov,A|            15|\n",
            "|            Bareev,E|            15|\n",
            "|             Dreev,A|            15|\n",
            "|   Chigorin, Mikhail|            14|\n",
            "|Khalifman, Alexander|            14|\n",
            "|           Euwe, Max|            14|\n",
            "+--------------------+--------------+\n",
            "only showing top 20 rows\n",
            "\n"
          ]
        }
      ]
    },
    {
      "cell_type": "code",
      "source": [
        "#Question3"
      ],
      "metadata": {
        "id": "wuqoeA404G_X"
      },
      "execution_count": null,
      "outputs": []
    },
    {
      "cell_type": "markdown",
      "source": [
        "3. Most and Least Popular eco move in world championship history.\n",
        "Result attributes: eco, eco_name, number_of_occurences\n",
        "Final result will have only two rows"
      ],
      "metadata": {
        "id": "blp3xWBA4OqJ"
      }
    },
    {
      "cell_type": "code",
      "source": [
        "pyspark_df1.show()"
      ],
      "metadata": {
        "id": "Q5xxnEeN4Pyh",
        "colab": {
          "base_uri": "https://localhost:8080/"
        },
        "outputId": "0b7123fa-1e70-4755-86df-0ccd3f47c27a"
      },
      "execution_count": 300,
      "outputs": [
        {
          "output_type": "stream",
          "name": "stdout",
          "text": [
            "+--------------------+----------+--------+----------+-----------+-----+----------------+----------------+-------+---------+---------+-----------+-----------+---------+----------+----------------+---------+---------------------+---+--------------------+---------------+\n",
            "|             game_id|game_order|   event|      site|date_played|round|           white|           black| result|white_elo|black_elo|white_title|black_title|   winner|winner_elo|           loser|loser_elo|winner_loser_elo_diff|eco|        date_created|tournament_name|\n",
            "+--------------------+----------+--------+----------+-----------+-----+----------------+----------------+-------+---------+---------+-----------+-----------+---------+----------+----------------+---------+---------------------+---+--------------------+---------------+\n",
            "|86e0b7f5-7b94-4ae...|         1|WCh 2021| Dubai UAE| 2021.11.26|    1|Nepomniachtchi,I|       Carlsen,M|1/2-1/2|     2782|     2855|       null|       null|     draw|      null|            draw|     null|                    0|C88|2022-07-22T22:33:...| WorldChamp2021|\n",
            "|dc4a10ab-54cf-49d...|         2|WCh 2021| Dubai UAE| 2021.11.27|    2|       Carlsen,M|Nepomniachtchi,I|1/2-1/2|     2855|     2782|       null|       null|     draw|      null|            draw|     null|                    0|E06|2022-07-22T22:33:...| WorldChamp2021|\n",
            "|f042ca37-8899-488...|         3|WCh 2021| Dubai UAE| 2021.11.28|    3|Nepomniachtchi,I|       Carlsen,M|1/2-1/2|     2782|     2855|       null|       null|     draw|      null|            draw|     null|                    0|C88|2022-07-22T22:33:...| WorldChamp2021|\n",
            "|f70e4bbc-21e3-46f...|         4|WCh 2021| Dubai UAE| 2021.11.30|    4|       Carlsen,M|Nepomniachtchi,I|1/2-1/2|     2855|     2782|       null|       null|     draw|      null|            draw|     null|                    0|C42|2022-07-22T22:33:...| WorldChamp2021|\n",
            "|c941c323-308a-4c8...|         5|WCh 2021| Dubai UAE| 2021.12.01|    5|Nepomniachtchi,I|       Carlsen,M|1/2-1/2|     2782|     2855|       null|       null|     draw|      null|            draw|     null|                    0|C88|2022-07-22T22:33:...| WorldChamp2021|\n",
            "|58e83255-93bb-4d5...|         6|WCh 2021| Dubai UAE| 2021.12.03|    6|       Carlsen,M|Nepomniachtchi,I|    1-0|     2855|     2782|       null|       null|Carlsen,M|      2855|Nepomniachtchi,I|     2782|                   73|D02|2022-07-22T22:33:...| WorldChamp2021|\n",
            "|29181d93-73f4-4fb...|         7|WCh 2021| Dubai UAE| 2021.12.04|    7|Nepomniachtchi,I|       Carlsen,M|1/2-1/2|     2782|     2855|       null|       null|     draw|      null|            draw|     null|                    0|C88|2022-07-22T22:33:...| WorldChamp2021|\n",
            "|8a4ccd8c-d437-429...|         8|WCh 2021| Dubai UAE| 2021.12.05|    8|       Carlsen,M|Nepomniachtchi,I|    1-0|     2855|     2782|       null|       null|Carlsen,M|      2855|Nepomniachtchi,I|     2782|                   73|C43|2022-07-22T22:33:...| WorldChamp2021|\n",
            "|55a122db-27d1-495...|         9|WCh 2021| Dubai UAE| 2021.12.07|    9|Nepomniachtchi,I|       Carlsen,M|    0-1|     2782|     2855|       null|       null|Carlsen,M|      2855|Nepomniachtchi,I|     2782|                   73|A13|2022-07-22T22:33:...| WorldChamp2021|\n",
            "|1f900d18-5ea3-4f4...|        10|WCh 2021| Dubai UAE| 2021.12.08|   10|       Carlsen,M|Nepomniachtchi,I|1/2-1/2|     2855|     2782|       null|       null|     draw|      null|            draw|     null|                    0|C42|2022-07-22T22:33:...| WorldChamp2021|\n",
            "|c512a953-a341-47c...|        11|WCh 2021| Dubai UAE| 2021.12.10|   11|Nepomniachtchi,I|       Carlsen,M|    0-1|     2782|     2855|       null|       null|Carlsen,M|      2855|Nepomniachtchi,I|     2782|                   73|C50|2022-07-22T22:33:...| WorldChamp2021|\n",
            "|99d39a93-427e-4d1...|         1|WCh 2018|London ENG| 2018.11.09|    1|Caruana, Fabiano| Carlsen, Magnus|1/2-1/2|     2832|     2835|         GM|         GM|     draw|      null|            draw|     null|                    0|B31|2022-07-22T22:33:...| WorldChamp2018|\n",
            "|c87ceb3e-67a7-45d...|         2|WCh 2018|London ENG| 2018.11.10|    2| Carlsen, Magnus|Caruana, Fabiano|1/2-1/2|     2835|     2832|         GM|         GM|     draw|      null|            draw|     null|                    0|D37|2022-07-22T22:33:...| WorldChamp2018|\n",
            "|d50510ea-9c1a-460...|         3|WCh 2018|London ENG| 2018.11.12|    3|Caruana, Fabiano| Carlsen, Magnus|1/2-1/2|     2832|     2835|         GM|         GM|     draw|      null|            draw|     null|                    0|B31|2022-07-22T22:33:...| WorldChamp2018|\n",
            "|e899e16a-281e-41b...|         4|WCh 2018|London ENG| 2018.11.13|    4| Carlsen, Magnus|Caruana, Fabiano|1/2-1/2|     2835|     2832|         GM|         GM|     draw|      null|            draw|     null|                    0|A29|2022-07-22T22:33:...| WorldChamp2018|\n",
            "|59f8da88-fd21-405...|         5|WCh 2018|London ENG| 2018.11.15|    5|Caruana, Fabiano| Carlsen, Magnus|1/2-1/2|     2832|     2835|         GM|         GM|     draw|      null|            draw|     null|                    0|B31|2022-07-22T22:33:...| WorldChamp2018|\n",
            "|6dcc4b46-3155-47e...|         6|WCh 2018|London ENG| 2018.11.16|    6| Carlsen, Magnus|Caruana, Fabiano|1/2-1/2|     2835|     2832|         GM|         GM|     draw|      null|            draw|     null|                    0|C42|2022-07-22T22:33:...| WorldChamp2018|\n",
            "|c0c727cf-03ec-4b4...|         7|WCh 2018|London ENG| 2018.11.18|    7| Carlsen, Magnus|Caruana, Fabiano|1/2-1/2|     2835|     2832|         GM|         GM|     draw|      null|            draw|     null|                    0|D37|2022-07-22T22:33:...| WorldChamp2018|\n",
            "|4c14e044-cacc-405...|         8|WCh 2018|London ENG| 2018.11.19|    8|Caruana, Fabiano| Carlsen, Magnus|1/2-1/2|     2832|     2835|         GM|         GM|     draw|      null|            draw|     null|                    0|B33|2022-07-22T22:33:...| WorldChamp2018|\n",
            "|3f4eb26e-3cd1-43b...|         9|WCh 2018|London ENG| 2018.11.21|    9| Carlsen, Magnus|Caruana, Fabiano|1/2-1/2|     2835|     2832|         GM|         GM|     draw|      null|            draw|     null|                    0|A29|2022-07-22T22:33:...| WorldChamp2018|\n",
            "+--------------------+----------+--------+----------+-----------+-----+----------------+----------------+-------+---------+---------+-----------+-----------+---------+----------+----------------+---------+---------------------+---+--------------------+---------------+\n",
            "only showing top 20 rows\n",
            "\n"
          ]
        }
      ]
    },
    {
      "cell_type": "code",
      "source": [
        "subsetdf1=pyspark_df1.select(\"winner\",\"eco\")  # take the subset of data from dataframe1(pyspark_df1)"
      ],
      "metadata": {
        "id": "Dm-H_ujt5ckv"
      },
      "execution_count": 303,
      "outputs": []
    },
    {
      "cell_type": "code",
      "source": [
        "subsetdf1=subsetdf1.filter(subsetdf1.winner!=\"draw\").groupBy(\"winner\",\"eco\").count().withColumnRenamed(\"count\",\"no_of_occurence\")  #filter the subset by removing the draw games"
      ],
      "metadata": {
        "id": "yhp399VG5cnv"
      },
      "execution_count": 304,
      "outputs": []
    },
    {
      "cell_type": "code",
      "source": [
        "\n",
        "from pyspark.sql.types import IntegerType  #tool to convert column datatype to integertype"
      ],
      "metadata": {
        "id": "hObj4EzOU6mY"
      },
      "execution_count": 305,
      "outputs": []
    },
    {
      "cell_type": "code",
      "source": [
        "subsetdf1.withColumn(\"no_of_occurence\",subsetdf1[\"no_of_occurence\"].cast(IntegerType()))   #converting the no_of_coourences to integer typr earlier it is another data type"
      ],
      "metadata": {
        "colab": {
          "base_uri": "https://localhost:8080/"
        },
        "id": "ihK27nim52g0",
        "outputId": "3f63b9b0-8d61-4233-bab4-00ac1b1e16a5"
      },
      "execution_count": 306,
      "outputs": [
        {
          "output_type": "execute_result",
          "data": {
            "text/plain": [
              "DataFrame[winner: string, eco: string, no_of_occurence: int]"
            ]
          },
          "metadata": {},
          "execution_count": 306
        }
      ]
    },
    {
      "cell_type": "code",
      "source": [
        "subsetdf1.show()"
      ],
      "metadata": {
        "colab": {
          "base_uri": "https://localhost:8080/"
        },
        "id": "OW4TZKHZ52jo",
        "outputId": "9d5cee7b-7525-44e1-f96e-e116ebf09b45"
      },
      "execution_count": 307,
      "outputs": [
        {
          "output_type": "stream",
          "name": "stdout",
          "text": [
            "+------------------+---+---------------+\n",
            "|            winner|eco|no_of_occurence|\n",
            "+------------------+---+---------------+\n",
            "|        Nielsen,PH|C83|              1|\n",
            "|           Anand,V|B48|              1|\n",
            "|        Tiviakov,S|C54|              1|\n",
            "|         Kharlov,A|D15|              1|\n",
            "|        Shabalov,A|D37|              1|\n",
            "|      Benjamin,Joe|C60|              1|\n",
            "|         Kramnik,V|D85|              1|\n",
            "|           Anand,V|C11|              1|\n",
            "|    Gelfand, Boris|B25|              1|\n",
            "|Botvinnik, Mikhail|E35|              1|\n",
            "|Botvinnik, Mikhail|B66|              1|\n",
            "|          Paehtz,E|C10|              1|\n",
            "|        Tkachiev,V|D27|              1|\n",
            "|  Dolmatov, Sergey|B15|              1|\n",
            "|     Dreev, Alexey|A65|              1|\n",
            "|Anand, Viswanathan|E11|              1|\n",
            "|  Smyslov, Vassily|E61|              1|\n",
            "| Steinitz, William|E51|              1|\n",
            "|            Xu Jun|A28|              1|\n",
            "|        Ivanchuk,V|B30|              1|\n",
            "+------------------+---+---------------+\n",
            "only showing top 20 rows\n",
            "\n"
          ]
        }
      ]
    },
    {
      "cell_type": "code",
      "source": [
        "popular_eco=subsetdf1.agg({\"no_of_occurence\":\"max\"}).collect()[0][0]       #finding the popular eco move in the subset by performing agg. function\n",
        "least_popular_eco=subsetdf1.agg({\"no_of_occurence\":\"min\"}).collect()[0][0]  #finding the least popular eco move in the subset by performing agg. function"
      ],
      "metadata": {
        "id": "D8VtRBL_6b43"
      },
      "execution_count": 308,
      "outputs": []
    },
    {
      "cell_type": "code",
      "source": [
        "subsetdf1=subsetdf1.filter((subsetdf1.no_of_occurence==popular_eco)|(subsetdf1.no_of_occurence==least_popular_eco))  #filtering the subset by taking only  most and leasr popular eco move rows"
      ],
      "metadata": {
        "id": "q3pqBXsL6b7t"
      },
      "execution_count": 309,
      "outputs": []
    },
    {
      "cell_type": "code",
      "source": [
        "subsetdf1.show()"
      ],
      "metadata": {
        "colab": {
          "base_uri": "https://localhost:8080/"
        },
        "id": "3TdCKhJnSA6z",
        "outputId": "93bce6f0-5d0a-4296-8a4a-dde9a11cd0c0"
      },
      "execution_count": 310,
      "outputs": [
        {
          "output_type": "stream",
          "name": "stdout",
          "text": [
            "+------------------+---+---------------+\n",
            "|            winner|eco|no_of_occurence|\n",
            "+------------------+---+---------------+\n",
            "|        Nielsen,PH|C83|              1|\n",
            "|           Anand,V|B48|              1|\n",
            "|        Tiviakov,S|C54|              1|\n",
            "|         Kharlov,A|D15|              1|\n",
            "|        Shabalov,A|D37|              1|\n",
            "|      Benjamin,Joe|C60|              1|\n",
            "|         Kramnik,V|D85|              1|\n",
            "|           Anand,V|C11|              1|\n",
            "|    Gelfand, Boris|B25|              1|\n",
            "|Botvinnik, Mikhail|E35|              1|\n",
            "|Botvinnik, Mikhail|B66|              1|\n",
            "|          Paehtz,E|C10|              1|\n",
            "|        Tkachiev,V|D27|              1|\n",
            "|  Dolmatov, Sergey|B15|              1|\n",
            "|     Dreev, Alexey|A65|              1|\n",
            "|Anand, Viswanathan|E11|              1|\n",
            "|  Smyslov, Vassily|E61|              1|\n",
            "| Steinitz, William|E51|              1|\n",
            "|            Xu Jun|A28|              1|\n",
            "|        Ivanchuk,V|B30|              1|\n",
            "+------------------+---+---------------+\n",
            "only showing top 20 rows\n",
            "\n"
          ]
        }
      ]
    },
    {
      "cell_type": "code",
      "source": [
        "subsetdf1=subsetdf1.drop(\"winner\")    #droping the unnecessary column from the subset"
      ],
      "metadata": {
        "id": "XbS_GN6N7R2s"
      },
      "execution_count": 311,
      "outputs": []
    },
    {
      "cell_type": "code",
      "source": [
        "subsetdf2=pyspark_df3.select(\"eco\",\"eco_name\")   #selecting the two columns from the file3"
      ],
      "metadata": {
        "id": "AeV8KvWB8G0u"
      },
      "execution_count": 312,
      "outputs": []
    },
    {
      "cell_type": "code",
      "source": [
        "final_ques3=subsetdf2.join(subsetdf1,\"eco\")  # joining the both subsets by using join function"
      ],
      "metadata": {
        "id": "kwugnAKU8Kjn"
      },
      "execution_count": 313,
      "outputs": []
    },
    {
      "cell_type": "code",
      "source": [
        "final_ques3.orderBy(final_ques3.no_of_occurence.desc()).show()    # and here we get the final result stored in final_ques3 variable which gives eco,eco_name,no_of_occurences"
      ],
      "metadata": {
        "colab": {
          "base_uri": "https://localhost:8080/"
        },
        "id": "-1yd76p48Lme",
        "outputId": "f9f0a7a9-db09-4969-d546-955050b83482"
      },
      "execution_count": 314,
      "outputs": [
        {
          "output_type": "stream",
          "name": "stdout",
          "text": [
            "+---+--------------------+---------------+\n",
            "|eco|            eco_name|no_of_occurence|\n",
            "+---+--------------------+---------------+\n",
            "|C52|        Evans Gambit|              8|\n",
            "|C24|    Bishop's Opening|              1|\n",
            "|C54|        Giuoco Piano|              1|\n",
            "|D15|Queen's Gambit De...|              1|\n",
            "|D37|Queen's Gambit De...|              1|\n",
            "|C60|           Ruy Lopez|              1|\n",
            "|D85|            Grunfeld|              1|\n",
            "|C11|              French|              1|\n",
            "|B25|    Sicilian, Closed|              1|\n",
            "|E35|Nimzo-Indian, Cla...|              1|\n",
            "|B66|Sicilian, Richter...|              1|\n",
            "|C83|     Ruy Lopez, Open|              1|\n",
            "|C10|              French|              1|\n",
            "|D27|Queen's Gambit Ac...|              1|\n",
            "|B15|           Caro-Kann|              1|\n",
            "|A65|        Benoni, 6.e4|              1|\n",
            "|E11| Bogo-Indian Defense|              1|\n",
            "|E61|       King's Indian|              1|\n",
            "|E51|  Nimzo-Indian, 4.e3|              1|\n",
            "|A28|             English|              1|\n",
            "+---+--------------------+---------------+\n",
            "only showing top 20 rows\n",
            "\n"
          ]
        }
      ]
    },
    {
      "cell_type": "code",
      "source": [
        "#Question4"
      ],
      "metadata": {
        "id": "1_w37LCo4Sub"
      },
      "execution_count": null,
      "outputs": []
    },
    {
      "cell_type": "markdown",
      "source": [
        "4. Find the eco move with most winnings.\n",
        "Ps. Use this opening move in your next chess game🙂 Result attributes: eco, eco_name"
      ],
      "metadata": {
        "id": "73OgMH574YkP"
      }
    },
    {
      "cell_type": "code",
      "source": [
        "pyspark_df1.show()"
      ],
      "metadata": {
        "colab": {
          "base_uri": "https://localhost:8080/"
        },
        "id": "zcgGfxPCkGTa",
        "outputId": "d1d50c51-eda5-428a-f7e7-089410dd4249"
      },
      "execution_count": 315,
      "outputs": [
        {
          "output_type": "stream",
          "name": "stdout",
          "text": [
            "+--------------------+----------+--------+----------+-----------+-----+----------------+----------------+-------+---------+---------+-----------+-----------+---------+----------+----------------+---------+---------------------+---+--------------------+---------------+\n",
            "|             game_id|game_order|   event|      site|date_played|round|           white|           black| result|white_elo|black_elo|white_title|black_title|   winner|winner_elo|           loser|loser_elo|winner_loser_elo_diff|eco|        date_created|tournament_name|\n",
            "+--------------------+----------+--------+----------+-----------+-----+----------------+----------------+-------+---------+---------+-----------+-----------+---------+----------+----------------+---------+---------------------+---+--------------------+---------------+\n",
            "|86e0b7f5-7b94-4ae...|         1|WCh 2021| Dubai UAE| 2021.11.26|    1|Nepomniachtchi,I|       Carlsen,M|1/2-1/2|     2782|     2855|       null|       null|     draw|      null|            draw|     null|                    0|C88|2022-07-22T22:33:...| WorldChamp2021|\n",
            "|dc4a10ab-54cf-49d...|         2|WCh 2021| Dubai UAE| 2021.11.27|    2|       Carlsen,M|Nepomniachtchi,I|1/2-1/2|     2855|     2782|       null|       null|     draw|      null|            draw|     null|                    0|E06|2022-07-22T22:33:...| WorldChamp2021|\n",
            "|f042ca37-8899-488...|         3|WCh 2021| Dubai UAE| 2021.11.28|    3|Nepomniachtchi,I|       Carlsen,M|1/2-1/2|     2782|     2855|       null|       null|     draw|      null|            draw|     null|                    0|C88|2022-07-22T22:33:...| WorldChamp2021|\n",
            "|f70e4bbc-21e3-46f...|         4|WCh 2021| Dubai UAE| 2021.11.30|    4|       Carlsen,M|Nepomniachtchi,I|1/2-1/2|     2855|     2782|       null|       null|     draw|      null|            draw|     null|                    0|C42|2022-07-22T22:33:...| WorldChamp2021|\n",
            "|c941c323-308a-4c8...|         5|WCh 2021| Dubai UAE| 2021.12.01|    5|Nepomniachtchi,I|       Carlsen,M|1/2-1/2|     2782|     2855|       null|       null|     draw|      null|            draw|     null|                    0|C88|2022-07-22T22:33:...| WorldChamp2021|\n",
            "|58e83255-93bb-4d5...|         6|WCh 2021| Dubai UAE| 2021.12.03|    6|       Carlsen,M|Nepomniachtchi,I|    1-0|     2855|     2782|       null|       null|Carlsen,M|      2855|Nepomniachtchi,I|     2782|                   73|D02|2022-07-22T22:33:...| WorldChamp2021|\n",
            "|29181d93-73f4-4fb...|         7|WCh 2021| Dubai UAE| 2021.12.04|    7|Nepomniachtchi,I|       Carlsen,M|1/2-1/2|     2782|     2855|       null|       null|     draw|      null|            draw|     null|                    0|C88|2022-07-22T22:33:...| WorldChamp2021|\n",
            "|8a4ccd8c-d437-429...|         8|WCh 2021| Dubai UAE| 2021.12.05|    8|       Carlsen,M|Nepomniachtchi,I|    1-0|     2855|     2782|       null|       null|Carlsen,M|      2855|Nepomniachtchi,I|     2782|                   73|C43|2022-07-22T22:33:...| WorldChamp2021|\n",
            "|55a122db-27d1-495...|         9|WCh 2021| Dubai UAE| 2021.12.07|    9|Nepomniachtchi,I|       Carlsen,M|    0-1|     2782|     2855|       null|       null|Carlsen,M|      2855|Nepomniachtchi,I|     2782|                   73|A13|2022-07-22T22:33:...| WorldChamp2021|\n",
            "|1f900d18-5ea3-4f4...|        10|WCh 2021| Dubai UAE| 2021.12.08|   10|       Carlsen,M|Nepomniachtchi,I|1/2-1/2|     2855|     2782|       null|       null|     draw|      null|            draw|     null|                    0|C42|2022-07-22T22:33:...| WorldChamp2021|\n",
            "|c512a953-a341-47c...|        11|WCh 2021| Dubai UAE| 2021.12.10|   11|Nepomniachtchi,I|       Carlsen,M|    0-1|     2782|     2855|       null|       null|Carlsen,M|      2855|Nepomniachtchi,I|     2782|                   73|C50|2022-07-22T22:33:...| WorldChamp2021|\n",
            "|99d39a93-427e-4d1...|         1|WCh 2018|London ENG| 2018.11.09|    1|Caruana, Fabiano| Carlsen, Magnus|1/2-1/2|     2832|     2835|         GM|         GM|     draw|      null|            draw|     null|                    0|B31|2022-07-22T22:33:...| WorldChamp2018|\n",
            "|c87ceb3e-67a7-45d...|         2|WCh 2018|London ENG| 2018.11.10|    2| Carlsen, Magnus|Caruana, Fabiano|1/2-1/2|     2835|     2832|         GM|         GM|     draw|      null|            draw|     null|                    0|D37|2022-07-22T22:33:...| WorldChamp2018|\n",
            "|d50510ea-9c1a-460...|         3|WCh 2018|London ENG| 2018.11.12|    3|Caruana, Fabiano| Carlsen, Magnus|1/2-1/2|     2832|     2835|         GM|         GM|     draw|      null|            draw|     null|                    0|B31|2022-07-22T22:33:...| WorldChamp2018|\n",
            "|e899e16a-281e-41b...|         4|WCh 2018|London ENG| 2018.11.13|    4| Carlsen, Magnus|Caruana, Fabiano|1/2-1/2|     2835|     2832|         GM|         GM|     draw|      null|            draw|     null|                    0|A29|2022-07-22T22:33:...| WorldChamp2018|\n",
            "|59f8da88-fd21-405...|         5|WCh 2018|London ENG| 2018.11.15|    5|Caruana, Fabiano| Carlsen, Magnus|1/2-1/2|     2832|     2835|         GM|         GM|     draw|      null|            draw|     null|                    0|B31|2022-07-22T22:33:...| WorldChamp2018|\n",
            "|6dcc4b46-3155-47e...|         6|WCh 2018|London ENG| 2018.11.16|    6| Carlsen, Magnus|Caruana, Fabiano|1/2-1/2|     2835|     2832|         GM|         GM|     draw|      null|            draw|     null|                    0|C42|2022-07-22T22:33:...| WorldChamp2018|\n",
            "|c0c727cf-03ec-4b4...|         7|WCh 2018|London ENG| 2018.11.18|    7| Carlsen, Magnus|Caruana, Fabiano|1/2-1/2|     2835|     2832|         GM|         GM|     draw|      null|            draw|     null|                    0|D37|2022-07-22T22:33:...| WorldChamp2018|\n",
            "|4c14e044-cacc-405...|         8|WCh 2018|London ENG| 2018.11.19|    8|Caruana, Fabiano| Carlsen, Magnus|1/2-1/2|     2832|     2835|         GM|         GM|     draw|      null|            draw|     null|                    0|B33|2022-07-22T22:33:...| WorldChamp2018|\n",
            "|3f4eb26e-3cd1-43b...|         9|WCh 2018|London ENG| 2018.11.21|    9| Carlsen, Magnus|Caruana, Fabiano|1/2-1/2|     2835|     2832|         GM|         GM|     draw|      null|            draw|     null|                    0|A29|2022-07-22T22:33:...| WorldChamp2018|\n",
            "+--------------------+----------+--------+----------+-----------+-----+----------------+----------------+-------+---------+---------+-----------+-----------+---------+----------+----------------+---------+---------------------+---+--------------------+---------------+\n",
            "only showing top 20 rows\n",
            "\n"
          ]
        }
      ]
    },
    {
      "cell_type": "code",
      "source": [
        ""
      ],
      "metadata": {
        "id": "E42sFY21kGWa"
      },
      "execution_count": null,
      "outputs": []
    },
    {
      "cell_type": "code",
      "source": [
        "pyspark_df1.show()"
      ],
      "metadata": {
        "id": "ImbprzVe4Svz",
        "colab": {
          "base_uri": "https://localhost:8080/"
        },
        "outputId": "8f18047f-1d0a-4b3b-ffa4-54a7b163f3e7"
      },
      "execution_count": 316,
      "outputs": [
        {
          "output_type": "stream",
          "name": "stdout",
          "text": [
            "+--------------------+----------+--------+----------+-----------+-----+----------------+----------------+-------+---------+---------+-----------+-----------+---------+----------+----------------+---------+---------------------+---+--------------------+---------------+\n",
            "|             game_id|game_order|   event|      site|date_played|round|           white|           black| result|white_elo|black_elo|white_title|black_title|   winner|winner_elo|           loser|loser_elo|winner_loser_elo_diff|eco|        date_created|tournament_name|\n",
            "+--------------------+----------+--------+----------+-----------+-----+----------------+----------------+-------+---------+---------+-----------+-----------+---------+----------+----------------+---------+---------------------+---+--------------------+---------------+\n",
            "|86e0b7f5-7b94-4ae...|         1|WCh 2021| Dubai UAE| 2021.11.26|    1|Nepomniachtchi,I|       Carlsen,M|1/2-1/2|     2782|     2855|       null|       null|     draw|      null|            draw|     null|                    0|C88|2022-07-22T22:33:...| WorldChamp2021|\n",
            "|dc4a10ab-54cf-49d...|         2|WCh 2021| Dubai UAE| 2021.11.27|    2|       Carlsen,M|Nepomniachtchi,I|1/2-1/2|     2855|     2782|       null|       null|     draw|      null|            draw|     null|                    0|E06|2022-07-22T22:33:...| WorldChamp2021|\n",
            "|f042ca37-8899-488...|         3|WCh 2021| Dubai UAE| 2021.11.28|    3|Nepomniachtchi,I|       Carlsen,M|1/2-1/2|     2782|     2855|       null|       null|     draw|      null|            draw|     null|                    0|C88|2022-07-22T22:33:...| WorldChamp2021|\n",
            "|f70e4bbc-21e3-46f...|         4|WCh 2021| Dubai UAE| 2021.11.30|    4|       Carlsen,M|Nepomniachtchi,I|1/2-1/2|     2855|     2782|       null|       null|     draw|      null|            draw|     null|                    0|C42|2022-07-22T22:33:...| WorldChamp2021|\n",
            "|c941c323-308a-4c8...|         5|WCh 2021| Dubai UAE| 2021.12.01|    5|Nepomniachtchi,I|       Carlsen,M|1/2-1/2|     2782|     2855|       null|       null|     draw|      null|            draw|     null|                    0|C88|2022-07-22T22:33:...| WorldChamp2021|\n",
            "|58e83255-93bb-4d5...|         6|WCh 2021| Dubai UAE| 2021.12.03|    6|       Carlsen,M|Nepomniachtchi,I|    1-0|     2855|     2782|       null|       null|Carlsen,M|      2855|Nepomniachtchi,I|     2782|                   73|D02|2022-07-22T22:33:...| WorldChamp2021|\n",
            "|29181d93-73f4-4fb...|         7|WCh 2021| Dubai UAE| 2021.12.04|    7|Nepomniachtchi,I|       Carlsen,M|1/2-1/2|     2782|     2855|       null|       null|     draw|      null|            draw|     null|                    0|C88|2022-07-22T22:33:...| WorldChamp2021|\n",
            "|8a4ccd8c-d437-429...|         8|WCh 2021| Dubai UAE| 2021.12.05|    8|       Carlsen,M|Nepomniachtchi,I|    1-0|     2855|     2782|       null|       null|Carlsen,M|      2855|Nepomniachtchi,I|     2782|                   73|C43|2022-07-22T22:33:...| WorldChamp2021|\n",
            "|55a122db-27d1-495...|         9|WCh 2021| Dubai UAE| 2021.12.07|    9|Nepomniachtchi,I|       Carlsen,M|    0-1|     2782|     2855|       null|       null|Carlsen,M|      2855|Nepomniachtchi,I|     2782|                   73|A13|2022-07-22T22:33:...| WorldChamp2021|\n",
            "|1f900d18-5ea3-4f4...|        10|WCh 2021| Dubai UAE| 2021.12.08|   10|       Carlsen,M|Nepomniachtchi,I|1/2-1/2|     2855|     2782|       null|       null|     draw|      null|            draw|     null|                    0|C42|2022-07-22T22:33:...| WorldChamp2021|\n",
            "|c512a953-a341-47c...|        11|WCh 2021| Dubai UAE| 2021.12.10|   11|Nepomniachtchi,I|       Carlsen,M|    0-1|     2782|     2855|       null|       null|Carlsen,M|      2855|Nepomniachtchi,I|     2782|                   73|C50|2022-07-22T22:33:...| WorldChamp2021|\n",
            "|99d39a93-427e-4d1...|         1|WCh 2018|London ENG| 2018.11.09|    1|Caruana, Fabiano| Carlsen, Magnus|1/2-1/2|     2832|     2835|         GM|         GM|     draw|      null|            draw|     null|                    0|B31|2022-07-22T22:33:...| WorldChamp2018|\n",
            "|c87ceb3e-67a7-45d...|         2|WCh 2018|London ENG| 2018.11.10|    2| Carlsen, Magnus|Caruana, Fabiano|1/2-1/2|     2835|     2832|         GM|         GM|     draw|      null|            draw|     null|                    0|D37|2022-07-22T22:33:...| WorldChamp2018|\n",
            "|d50510ea-9c1a-460...|         3|WCh 2018|London ENG| 2018.11.12|    3|Caruana, Fabiano| Carlsen, Magnus|1/2-1/2|     2832|     2835|         GM|         GM|     draw|      null|            draw|     null|                    0|B31|2022-07-22T22:33:...| WorldChamp2018|\n",
            "|e899e16a-281e-41b...|         4|WCh 2018|London ENG| 2018.11.13|    4| Carlsen, Magnus|Caruana, Fabiano|1/2-1/2|     2835|     2832|         GM|         GM|     draw|      null|            draw|     null|                    0|A29|2022-07-22T22:33:...| WorldChamp2018|\n",
            "|59f8da88-fd21-405...|         5|WCh 2018|London ENG| 2018.11.15|    5|Caruana, Fabiano| Carlsen, Magnus|1/2-1/2|     2832|     2835|         GM|         GM|     draw|      null|            draw|     null|                    0|B31|2022-07-22T22:33:...| WorldChamp2018|\n",
            "|6dcc4b46-3155-47e...|         6|WCh 2018|London ENG| 2018.11.16|    6| Carlsen, Magnus|Caruana, Fabiano|1/2-1/2|     2835|     2832|         GM|         GM|     draw|      null|            draw|     null|                    0|C42|2022-07-22T22:33:...| WorldChamp2018|\n",
            "|c0c727cf-03ec-4b4...|         7|WCh 2018|London ENG| 2018.11.18|    7| Carlsen, Magnus|Caruana, Fabiano|1/2-1/2|     2835|     2832|         GM|         GM|     draw|      null|            draw|     null|                    0|D37|2022-07-22T22:33:...| WorldChamp2018|\n",
            "|4c14e044-cacc-405...|         8|WCh 2018|London ENG| 2018.11.19|    8|Caruana, Fabiano| Carlsen, Magnus|1/2-1/2|     2832|     2835|         GM|         GM|     draw|      null|            draw|     null|                    0|B33|2022-07-22T22:33:...| WorldChamp2018|\n",
            "|3f4eb26e-3cd1-43b...|         9|WCh 2018|London ENG| 2018.11.21|    9| Carlsen, Magnus|Caruana, Fabiano|1/2-1/2|     2835|     2832|         GM|         GM|     draw|      null|            draw|     null|                    0|A29|2022-07-22T22:33:...| WorldChamp2018|\n",
            "+--------------------+----------+--------+----------+-----------+-----+----------------+----------------+-------+---------+---------+-----------+-----------+---------+----------+----------------+---------+---------------------+---+--------------------+---------------+\n",
            "only showing top 20 rows\n",
            "\n"
          ]
        }
      ]
    },
    {
      "cell_type": "code",
      "source": [
        ""
      ],
      "metadata": {
        "id": "DjSCt23Svs-e"
      },
      "execution_count": null,
      "outputs": []
    },
    {
      "cell_type": "code",
      "source": [
        "subset1=pyspark_df1.select(\"winner\",\"eco\")   #taking subset datframe from dataframe1(pyspark_df1) with winner and eco column"
      ],
      "metadata": {
        "id": "Ra4K9EaNqiok"
      },
      "execution_count": 317,
      "outputs": []
    },
    {
      "cell_type": "code",
      "source": [
        "subset2=subset1.filter(subset1.winner!=\"draw\").groupBy(\"winner\",\"eco\").count().withColumnRenamed(\"count\",\"no_of_occurence\")     #subset 2 is the subpart of first subset and filter the rows by removing draw games"
      ],
      "metadata": {
        "id": "X4oNIcGTwdwT"
      },
      "execution_count": 318,
      "outputs": []
    },
    {
      "cell_type": "code",
      "source": [
        "\n",
        "from pyspark.sql.types import IntegerType "
      ],
      "metadata": {
        "id": "stxeem5AUY2x"
      },
      "execution_count": 319,
      "outputs": []
    },
    {
      "cell_type": "code",
      "source": [
        "subset2.withColumn(\"no_of_occurence\",subset2[\"no_of_occurence\"].cast(IntegerType()))   #changing the type of the no_of_occurences column datatype to integer type"
      ],
      "metadata": {
        "colab": {
          "base_uri": "https://localhost:8080/"
        },
        "id": "pfH-mGfNvtJw",
        "outputId": "533f40ce-a224-4d90-f64d-3e3b559d052b"
      },
      "execution_count": 320,
      "outputs": [
        {
          "output_type": "execute_result",
          "data": {
            "text/plain": [
              "DataFrame[winner: string, eco: string, no_of_occurence: int]"
            ]
          },
          "metadata": {},
          "execution_count": 320
        }
      ]
    },
    {
      "cell_type": "code",
      "source": [
        "max_eco_count=subset2.agg({\"no_of_occurence\":\"max\"}).collect()[0][0]   #here we find maximum count of eco"
      ],
      "metadata": {
        "id": "Nu_TP6TbvtLL"
      },
      "execution_count": 321,
      "outputs": []
    },
    {
      "cell_type": "code",
      "source": [
        "ques4=subset2.filter(subset2.no_of_occurence==max_eco_count)  #filter the table with only required rows or columns"
      ],
      "metadata": {
        "id": "b9_A2xiKvtPO"
      },
      "execution_count": 322,
      "outputs": []
    },
    {
      "cell_type": "code",
      "source": [
        "max_eco=ques4.collect()[0][1]   #max eco "
      ],
      "metadata": {
        "id": "M2KHk7xPxiwY"
      },
      "execution_count": 323,
      "outputs": []
    },
    {
      "cell_type": "code",
      "source": [
        "pyspark_df3.filter(pyspark_df3.eco==max_eco).drop(\"eco_example\",\"eco_type\",\"eco_group\").show()  #this is the final result havinh max eco name and eco id"
      ],
      "metadata": {
        "colab": {
          "base_uri": "https://localhost:8080/"
        },
        "id": "mwd1MIxaxp68",
        "outputId": "2d3b1614-4a67-4e8f-f71e-cd6cf06d66b7"
      },
      "execution_count": 324,
      "outputs": [
        {
          "output_type": "stream",
          "name": "stdout",
          "text": [
            "+---+------------+\n",
            "|eco|    eco_name|\n",
            "+---+------------+\n",
            "|C52|Evans Gambit|\n",
            "+---+------------+\n",
            "\n"
          ]
        }
      ]
    },
    {
      "cell_type": "code",
      "source": [
        "# Question5"
      ],
      "metadata": {
        "id": "bDvhksq_4fCL"
      },
      "execution_count": null,
      "outputs": []
    },
    {
      "cell_type": "markdown",
      "source": [
        "5. Longest and shortest game ever played in a world championship in terms of move.\n",
        "Chess Funda: \"move\" is completed once both White and Black have played one turn. e.g If a game lasts 10 moves, both White and Black have\n",
        "played 10 moves)\n",
        "Result attributes: game_id, event, tournament_name, number_of_moves\n",
        "Final result will have only two rows"
      ],
      "metadata": {
        "id": "V7ttI62n4sfn"
      }
    },
    {
      "cell_type": "code",
      "source": [
        "#for this question i have to get columns for table1 and table2 so the best methos is to combine the tables using inner join with the help of primary key"
      ],
      "metadata": {
        "id": "0A9Op62H4fFE"
      },
      "execution_count": null,
      "outputs": []
    },
    {
      "cell_type": "code",
      "source": [
        "combined_df12=pyspark_df1.join(pyspark_df2,pyspark_df1.game_id==pyspark_df2.game_id,'inner').drop(pyspark_df1.game_id)"
      ],
      "metadata": {
        "id": "9HQG4Oxm4fQw"
      },
      "execution_count": 325,
      "outputs": []
    },
    {
      "cell_type": "code",
      "source": [
        "combined_df12.show()"
      ],
      "metadata": {
        "colab": {
          "base_uri": "https://localhost:8080/"
        },
        "id": "6ef_Plqq4SzW",
        "outputId": "51697b89-610f-4d03-fc7d-4fff60673b0f"
      },
      "execution_count": 326,
      "outputs": [
        {
          "output_type": "stream",
          "name": "stdout",
          "text": [
            "+----------+--------+---------+-----------+-----+----------------+---------+-------+---------+---------+-----------+-----------+------+----------+-----+---------+---------------------+---+--------------------+---------------+--------------------+-------+------------+----------------+--------+----+-----------+---------+-----+-----+--------------------+--------+-------------+--------------+----------------------+------------+------------------------+-----------+-----------+----------------+----------------+-----------------+-----------------+------------------+------------------+------------------+------------------+----------------+----------------+------------------------+------------------------+--------------------+--------------------+--------------------+--------------------+--------------------+--------------------+--------------------+--------------------+--------------------+--------------------+--------------------+--------------------+--------------------+--------------------+--------------------+--------------------+--------------------+--------------------+--------------------+--------------------+--------------------+--------------------+--------------------+--------------------+--------------------+--------------------+--------------------+--------------------+--------------------+--------------------+--------------------+--------------------+--------------------+\n",
            "|game_order|   event|     site|date_played|round|           white|    black| result|white_elo|black_elo|white_title|black_title|winner|winner_elo|loser|loser_elo|winner_loser_elo_diff|eco|        date_created|tournament_name|             game_id|move_no|move_no_pair|          player|notation|move|from_square|to_square|piece|color|                 fen|is_check|is_check_mate|is_fifty_moves|is_fivefold_repetition|is_game_over|is_insufficient_material|white_count|black_count|white_pawn_count|black_pawn_count|white_queen_count|black_queen_count|white_bishop_count|black_bishop_count|white_knight_count|black_knight_count|white_rook_count|black_rook_count|captured_score_for_white|captured_score_for_black|fen_row1_white_count|fen_row2_white_count|fen_row3_white_count|fen_row4_white_count|fen_row5_white_count|fen_row6_white_count|fen_row7_white_count|fen_row8_white_count|fen_row1_white_value|fen_row2_white_value|fen_row3_white_value|fen_row4_white_value|fen_row5_white_value|fen_row6_white_value|fen_row7_white_value|fen_row8_white_value|fen_row1_black_count|fen_row2_black_count|fen_row3_black_count|fen_row4_black_count|fen_row5_black_count|fen_row6_black_count|fen_row7_black_count|fen_row8_black_count|fen_row1_black_value|fen_row2_black_value|fen_row3_black_value|fen_row4_black_value|fen_row5_black_value|fen_row6_black_value|fen_row7_black_value|fen_row8_black_value|       move_sequence|\n",
            "+----------+--------+---------+-----------+-----+----------------+---------+-------+---------+---------+-----------+-----------+------+----------+-----+---------+---------------------+---+--------------------+---------------+--------------------+-------+------------+----------------+--------+----+-----------+---------+-----+-----+--------------------+--------+-------------+--------------+----------------------+------------+------------------------+-----------+-----------+----------------+----------------+-----------------+-----------------+------------------+------------------+------------------+------------------+----------------+----------------+------------------------+------------------------+--------------------+--------------------+--------------------+--------------------+--------------------+--------------------+--------------------+--------------------+--------------------+--------------------+--------------------+--------------------+--------------------+--------------------+--------------------+--------------------+--------------------+--------------------+--------------------+--------------------+--------------------+--------------------+--------------------+--------------------+--------------------+--------------------+--------------------+--------------------+--------------------+--------------------+--------------------+--------------------+--------------------+\n",
            "|         1|WCh 2021|Dubai UAE| 2021.11.26|    1|Nepomniachtchi,I|Carlsen,M|1/2-1/2|     2782|     2855|       null|       null|  draw|      null| draw|     null|                    0|C88|2022-07-22T22:33:...| WorldChamp2021|86e0b7f5-7b94-4ae...|      1|           1|Nepomniachtchi,I|      e4|e2e4|         e2|       e4|    P|White|rnbqkbnr/pppppppp...|       0|            0|             0|                     0|           0|                       0|         16|         16|               8|               8|                1|                1|                 2|                 2|                 2|                 2|               2|               2|                       0|                       0|                   8|                   7|                   0|                   1|                   0|                   0|                   0|                   0|                  31|                   7|                   0|                   1|                   0|                   0|                   0|                   0|                   0|                   0|                   0|                   0|                   0|                   0|                   8|                   8|                   0|                   0|                   0|                   0|                   0|                   0|                   8|                  31|                  e4|\n",
            "|         1|WCh 2021|Dubai UAE| 2021.11.26|    1|Nepomniachtchi,I|Carlsen,M|1/2-1/2|     2782|     2855|       null|       null|  draw|      null| draw|     null|                    0|C88|2022-07-22T22:33:...| WorldChamp2021|86e0b7f5-7b94-4ae...|      2|           1|       Carlsen,M|      e5|e7e5|         e7|       e5|    P|Black|rnbqkbnr/pppp1ppp...|       0|            0|             0|                     0|           0|                       0|         16|         16|               8|               8|                1|                1|                 2|                 2|                 2|                 2|               2|               2|                       0|                       0|                   8|                   7|                   0|                   1|                   0|                   0|                   0|                   0|                  31|                   7|                   0|                   1|                   0|                   0|                   0|                   0|                   0|                   0|                   0|                   0|                   1|                   0|                   7|                   8|                   0|                   0|                   0|                   0|                   1|                   0|                   7|                  31|               e4|e5|\n",
            "|         1|WCh 2021|Dubai UAE| 2021.11.26|    1|Nepomniachtchi,I|Carlsen,M|1/2-1/2|     2782|     2855|       null|       null|  draw|      null| draw|     null|                    0|C88|2022-07-22T22:33:...| WorldChamp2021|86e0b7f5-7b94-4ae...|      3|           2|Nepomniachtchi,I|     Nf3|g1f3|         g1|       f3|    N|White|rnbqkbnr/pppp1ppp...|       0|            0|             0|                     0|           0|                       0|         16|         16|               8|               8|                1|                1|                 2|                 2|                 2|                 2|               2|               2|                       0|                       0|                   7|                   7|                   1|                   1|                   0|                   0|                   0|                   0|                  28|                   7|                   3|                   1|                   0|                   0|                   0|                   0|                   0|                   0|                   0|                   0|                   1|                   0|                   7|                   8|                   0|                   0|                   0|                   0|                   1|                   0|                   7|                  31|           e4|e5|Nf3|\n",
            "|         1|WCh 2021|Dubai UAE| 2021.11.26|    1|Nepomniachtchi,I|Carlsen,M|1/2-1/2|     2782|     2855|       null|       null|  draw|      null| draw|     null|                    0|C88|2022-07-22T22:33:...| WorldChamp2021|86e0b7f5-7b94-4ae...|      4|           2|       Carlsen,M|     Nc6|b8c6|         b8|       c6|    N|Black|r1bqkbnr/pppp1ppp...|       0|            0|             0|                     0|           0|                       0|         16|         16|               8|               8|                1|                1|                 2|                 2|                 2|                 2|               2|               2|                       0|                       0|                   7|                   7|                   1|                   1|                   0|                   0|                   0|                   0|                  28|                   7|                   3|                   1|                   0|                   0|                   0|                   0|                   0|                   0|                   0|                   0|                   1|                   1|                   7|                   7|                   0|                   0|                   0|                   0|                   1|                   3|                   7|                  28|       e4|e5|Nf3|Nc6|\n",
            "|         1|WCh 2021|Dubai UAE| 2021.11.26|    1|Nepomniachtchi,I|Carlsen,M|1/2-1/2|     2782|     2855|       null|       null|  draw|      null| draw|     null|                    0|C88|2022-07-22T22:33:...| WorldChamp2021|86e0b7f5-7b94-4ae...|      5|           3|Nepomniachtchi,I|     Bb5|f1b5|         f1|       b5|    B|White|r1bqkbnr/pppp1ppp...|       0|            0|             0|                     0|           0|                       0|         16|         16|               8|               8|                1|                1|                 2|                 2|                 2|                 2|               2|               2|                       0|                       0|                   6|                   7|                   1|                   1|                   1|                   0|                   0|                   0|                  25|                   7|                   3|                   1|                   3|                   0|                   0|                   0|                   0|                   0|                   0|                   0|                   1|                   1|                   7|                   7|                   0|                   0|                   0|                   0|                   1|                   3|                   7|                  28|   e4|e5|Nf3|Nc6|Bb5|\n",
            "|         1|WCh 2021|Dubai UAE| 2021.11.26|    1|Nepomniachtchi,I|Carlsen,M|1/2-1/2|     2782|     2855|       null|       null|  draw|      null| draw|     null|                    0|C88|2022-07-22T22:33:...| WorldChamp2021|86e0b7f5-7b94-4ae...|      6|           3|       Carlsen,M|      a6|a7a6|         a7|       a6|    P|Black|r1bqkbnr/1ppp1ppp...|       0|            0|             0|                     0|           0|                       0|         16|         16|               8|               8|                1|                1|                 2|                 2|                 2|                 2|               2|               2|                       0|                       0|                   6|                   7|                   1|                   1|                   1|                   0|                   0|                   0|                  25|                   7|                   3|                   1|                   3|                   0|                   0|                   0|                   0|                   0|                   0|                   0|                   1|                   2|                   6|                   7|                   0|                   0|                   0|                   0|                   1|                   4|                   6|                  28|e4|e5|Nf3|Nc6|Bb5|a6|\n",
            "|         1|WCh 2021|Dubai UAE| 2021.11.26|    1|Nepomniachtchi,I|Carlsen,M|1/2-1/2|     2782|     2855|       null|       null|  draw|      null| draw|     null|                    0|C88|2022-07-22T22:33:...| WorldChamp2021|86e0b7f5-7b94-4ae...|      7|           4|Nepomniachtchi,I|     Ba4|b5a4|         b5|       a4|    B|White|r1bqkbnr/1ppp1ppp...|       0|            0|             0|                     0|           0|                       0|         16|         16|               8|               8|                1|                1|                 2|                 2|                 2|                 2|               2|               2|                       0|                       0|                   6|                   7|                   1|                   2|                   0|                   0|                   0|                   0|                  25|                   7|                   3|                   4|                   0|                   0|                   0|                   0|                   0|                   0|                   0|                   0|                   1|                   2|                   6|                   7|                   0|                   0|                   0|                   0|                   1|                   4|                   6|                  28|e4|e5|Nf3|Nc6|Bb5...|\n",
            "|         1|WCh 2021|Dubai UAE| 2021.11.26|    1|Nepomniachtchi,I|Carlsen,M|1/2-1/2|     2782|     2855|       null|       null|  draw|      null| draw|     null|                    0|C88|2022-07-22T22:33:...| WorldChamp2021|86e0b7f5-7b94-4ae...|      8|           4|       Carlsen,M|     Nf6|g8f6|         g8|       f6|    N|Black|r1bqkb1r/1ppp1ppp...|       0|            0|             0|                     0|           0|                       0|         16|         16|               8|               8|                1|                1|                 2|                 2|                 2|                 2|               2|               2|                       0|                       0|                   6|                   7|                   1|                   2|                   0|                   0|                   0|                   0|                  25|                   7|                   3|                   4|                   0|                   0|                   0|                   0|                   0|                   0|                   0|                   0|                   1|                   3|                   6|                   6|                   0|                   0|                   0|                   0|                   1|                   7|                   6|                  25|e4|e5|Nf3|Nc6|Bb5...|\n",
            "|         1|WCh 2021|Dubai UAE| 2021.11.26|    1|Nepomniachtchi,I|Carlsen,M|1/2-1/2|     2782|     2855|       null|       null|  draw|      null| draw|     null|                    0|C88|2022-07-22T22:33:...| WorldChamp2021|86e0b7f5-7b94-4ae...|      9|           5|Nepomniachtchi,I|     O-O|e1g1|         e1|       g1|    K|White|r1bqkb1r/1ppp1ppp...|       0|            0|             0|                     0|           0|                       0|         16|         16|               8|               8|                1|                1|                 2|                 2|                 2|                 2|               2|               2|                       0|                       0|                   6|                   7|                   1|                   2|                   0|                   0|                   0|                   0|                  25|                   7|                   3|                   4|                   0|                   0|                   0|                   0|                   0|                   0|                   0|                   0|                   1|                   3|                   6|                   6|                   0|                   0|                   0|                   0|                   1|                   7|                   6|                  25|e4|e5|Nf3|Nc6|Bb5...|\n",
            "|         1|WCh 2021|Dubai UAE| 2021.11.26|    1|Nepomniachtchi,I|Carlsen,M|1/2-1/2|     2782|     2855|       null|       null|  draw|      null| draw|     null|                    0|C88|2022-07-22T22:33:...| WorldChamp2021|86e0b7f5-7b94-4ae...|     10|           5|       Carlsen,M|     Be7|f8e7|         f8|       e7|    B|Black|r1bqk2r/1pppbppp/...|       0|            0|             0|                     0|           0|                       0|         16|         16|               8|               8|                1|                1|                 2|                 2|                 2|                 2|               2|               2|                       0|                       0|                   6|                   7|                   1|                   2|                   0|                   0|                   0|                   0|                  25|                   7|                   3|                   4|                   0|                   0|                   0|                   0|                   0|                   0|                   0|                   0|                   1|                   3|                   7|                   5|                   0|                   0|                   0|                   0|                   1|                   7|                   9|                  22|e4|e5|Nf3|Nc6|Bb5...|\n",
            "|         1|WCh 2021|Dubai UAE| 2021.11.26|    1|Nepomniachtchi,I|Carlsen,M|1/2-1/2|     2782|     2855|       null|       null|  draw|      null| draw|     null|                    0|C88|2022-07-22T22:33:...| WorldChamp2021|86e0b7f5-7b94-4ae...|     11|           6|Nepomniachtchi,I|     Re1|f1e1|         f1|       e1|    R|White|r1bqk2r/1pppbppp/...|       0|            0|             0|                     0|           0|                       0|         16|         16|               8|               8|                1|                1|                 2|                 2|                 2|                 2|               2|               2|                       0|                       0|                   6|                   7|                   1|                   2|                   0|                   0|                   0|                   0|                  25|                   7|                   3|                   4|                   0|                   0|                   0|                   0|                   0|                   0|                   0|                   0|                   1|                   3|                   7|                   5|                   0|                   0|                   0|                   0|                   1|                   7|                   9|                  22|e4|e5|Nf3|Nc6|Bb5...|\n",
            "|         1|WCh 2021|Dubai UAE| 2021.11.26|    1|Nepomniachtchi,I|Carlsen,M|1/2-1/2|     2782|     2855|       null|       null|  draw|      null| draw|     null|                    0|C88|2022-07-22T22:33:...| WorldChamp2021|86e0b7f5-7b94-4ae...|     12|           6|       Carlsen,M|      b5|b7b5|         b7|       b5|    P|Black|r1bqk2r/2ppbppp/p...|       0|            0|             0|                     0|           0|                       0|         16|         16|               8|               8|                1|                1|                 2|                 2|                 2|                 2|               2|               2|                       0|                       0|                   6|                   7|                   1|                   2|                   0|                   0|                   0|                   0|                  25|                   7|                   3|                   4|                   0|                   0|                   0|                   0|                   0|                   0|                   0|                   0|                   2|                   3|                   6|                   5|                   0|                   0|                   0|                   0|                   2|                   7|                   8|                  22|e4|e5|Nf3|Nc6|Bb5...|\n",
            "|         1|WCh 2021|Dubai UAE| 2021.11.26|    1|Nepomniachtchi,I|Carlsen,M|1/2-1/2|     2782|     2855|       null|       null|  draw|      null| draw|     null|                    0|C88|2022-07-22T22:33:...| WorldChamp2021|86e0b7f5-7b94-4ae...|     13|           7|Nepomniachtchi,I|     Bb3|a4b3|         a4|       b3|    B|White|r1bqk2r/2ppbppp/p...|       0|            0|             0|                     0|           0|                       0|         16|         16|               8|               8|                1|                1|                 2|                 2|                 2|                 2|               2|               2|                       0|                       0|                   6|                   7|                   2|                   1|                   0|                   0|                   0|                   0|                  25|                   7|                   6|                   1|                   0|                   0|                   0|                   0|                   0|                   0|                   0|                   0|                   2|                   3|                   6|                   5|                   0|                   0|                   0|                   0|                   2|                   7|                   8|                  22|e4|e5|Nf3|Nc6|Bb5...|\n",
            "|         1|WCh 2021|Dubai UAE| 2021.11.26|    1|Nepomniachtchi,I|Carlsen,M|1/2-1/2|     2782|     2855|       null|       null|  draw|      null| draw|     null|                    0|C88|2022-07-22T22:33:...| WorldChamp2021|86e0b7f5-7b94-4ae...|     14|           7|       Carlsen,M|     O-O|e8g8|         e8|       g8|    K|Black|r1bq1rk1/2ppbppp/...|       0|            0|             0|                     0|           0|                       0|         16|         16|               8|               8|                1|                1|                 2|                 2|                 2|                 2|               2|               2|                       0|                       0|                   6|                   7|                   2|                   1|                   0|                   0|                   0|                   0|                  25|                   7|                   6|                   1|                   0|                   0|                   0|                   0|                   0|                   0|                   0|                   0|                   2|                   3|                   6|                   5|                   0|                   0|                   0|                   0|                   2|                   7|                   8|                  22|e4|e5|Nf3|Nc6|Bb5...|\n",
            "|         1|WCh 2021|Dubai UAE| 2021.11.26|    1|Nepomniachtchi,I|Carlsen,M|1/2-1/2|     2782|     2855|       null|       null|  draw|      null| draw|     null|                    0|C88|2022-07-22T22:33:...| WorldChamp2021|86e0b7f5-7b94-4ae...|     15|           8|Nepomniachtchi,I|      h3|h2h3|         h2|       h3|    P|White|r1bq1rk1/2ppbppp/...|       0|            0|             0|                     0|           0|                       0|         16|         16|               8|               8|                1|                1|                 2|                 2|                 2|                 2|               2|               2|                       0|                       0|                   6|                   6|                   3|                   1|                   0|                   0|                   0|                   0|                  25|                   6|                   7|                   1|                   0|                   0|                   0|                   0|                   0|                   0|                   0|                   0|                   2|                   3|                   6|                   5|                   0|                   0|                   0|                   0|                   2|                   7|                   8|                  22|e4|e5|Nf3|Nc6|Bb5...|\n",
            "|         1|WCh 2021|Dubai UAE| 2021.11.26|    1|Nepomniachtchi,I|Carlsen,M|1/2-1/2|     2782|     2855|       null|       null|  draw|      null| draw|     null|                    0|C88|2022-07-22T22:33:...| WorldChamp2021|86e0b7f5-7b94-4ae...|     16|           8|       Carlsen,M|     Na5|c6a5|         c6|       a5|    N|Black|r1bq1rk1/2ppbppp/...|       0|            0|             0|                     0|           0|                       0|         16|         16|               8|               8|                1|                1|                 2|                 2|                 2|                 2|               2|               2|                       0|                       0|                   6|                   6|                   3|                   1|                   0|                   0|                   0|                   0|                  25|                   6|                   7|                   1|                   0|                   0|                   0|                   0|                   0|                   0|                   0|                   0|                   3|                   2|                   6|                   5|                   0|                   0|                   0|                   0|                   5|                   4|                   8|                  22|e4|e5|Nf3|Nc6|Bb5...|\n",
            "|         1|WCh 2021|Dubai UAE| 2021.11.26|    1|Nepomniachtchi,I|Carlsen,M|1/2-1/2|     2782|     2855|       null|       null|  draw|      null| draw|     null|                    0|C88|2022-07-22T22:33:...| WorldChamp2021|86e0b7f5-7b94-4ae...|     17|           9|Nepomniachtchi,I|    Nxe5|f3e5|         f3|       e5|    N|White|r1bq1rk1/2ppbppp/...|       0|            0|             0|                     0|           0|                       0|         16|         15|               8|               7|                1|                1|                 2|                 2|                 2|                 2|               2|               2|                       1|                       0|                   6|                   6|                   2|                   1|                   1|                   0|                   0|                   0|                  25|                   6|                   4|                   1|                   3|                   0|                   0|                   0|                   0|                   0|                   0|                   0|                   2|                   2|                   6|                   5|                   0|                   0|                   0|                   0|                   4|                   4|                   8|                  22|e4|e5|Nf3|Nc6|Bb5...|\n",
            "|         1|WCh 2021|Dubai UAE| 2021.11.26|    1|Nepomniachtchi,I|Carlsen,M|1/2-1/2|     2782|     2855|       null|       null|  draw|      null| draw|     null|                    0|C88|2022-07-22T22:33:...| WorldChamp2021|86e0b7f5-7b94-4ae...|     18|           9|       Carlsen,M|    Nxb3|a5b3|         a5|       b3|    N|Black|r1bq1rk1/2ppbppp/...|       0|            0|             0|                     0|           0|                       0|         15|         15|               8|               7|                1|                1|                 1|                 2|                 2|                 2|               2|               2|                       1|                       3|                   6|                   6|                   1|                   1|                   1|                   0|                   0|                   0|                  25|                   6|                   1|                   1|                   3|                   0|                   0|                   0|                   0|                   0|                   1|                   0|                   1|                   2|                   6|                   5|                   0|                   0|                   3|                   0|                   1|                   4|                   8|                  22|e4|e5|Nf3|Nc6|Bb5...|\n",
            "|         1|WCh 2021|Dubai UAE| 2021.11.26|    1|Nepomniachtchi,I|Carlsen,M|1/2-1/2|     2782|     2855|       null|       null|  draw|      null| draw|     null|                    0|C88|2022-07-22T22:33:...| WorldChamp2021|86e0b7f5-7b94-4ae...|     19|          10|Nepomniachtchi,I|    axb3|a2b3|         a2|       b3|    P|White|r1bq1rk1/2ppbppp/...|       0|            0|             0|                     0|           0|                       0|         15|         14|               8|               7|                1|                1|                 1|                 2|                 2|                 1|               2|               2|                       4|                       3|                   6|                   5|                   2|                   1|                   1|                   0|                   0|                   0|                  25|                   5|                   2|                   1|                   3|                   0|                   0|                   0|                   0|                   0|                   0|                   0|                   1|                   2|                   6|                   5|                   0|                   0|                   0|                   0|                   1|                   4|                   8|                  22|e4|e5|Nf3|Nc6|Bb5...|\n",
            "|         1|WCh 2021|Dubai UAE| 2021.11.26|    1|Nepomniachtchi,I|Carlsen,M|1/2-1/2|     2782|     2855|       null|       null|  draw|      null| draw|     null|                    0|C88|2022-07-22T22:33:...| WorldChamp2021|86e0b7f5-7b94-4ae...|     20|          10|       Carlsen,M|     Bb7|c8b7|         c8|       b7|    B|Black|r2q1rk1/1bppbppp/...|       0|            0|             0|                     0|           0|                       0|         15|         14|               8|               7|                1|                1|                 1|                 2|                 2|                 1|               2|               2|                       4|                       3|                   6|                   5|                   2|                   1|                   1|                   0|                   0|                   0|                  25|                   5|                   2|                   1|                   3|                   0|                   0|                   0|                   0|                   0|                   0|                   0|                   1|                   2|                   7|                   4|                   0|                   0|                   0|                   0|                   1|                   4|                  11|                  19|e4|e5|Nf3|Nc6|Bb5...|\n",
            "+----------+--------+---------+-----------+-----+----------------+---------+-------+---------+---------+-----------+-----------+------+----------+-----+---------+---------------------+---+--------------------+---------------+--------------------+-------+------------+----------------+--------+----+-----------+---------+-----+-----+--------------------+--------+-------------+--------------+----------------------+------------+------------------------+-----------+-----------+----------------+----------------+-----------------+-----------------+------------------+------------------+------------------+------------------+----------------+----------------+------------------------+------------------------+--------------------+--------------------+--------------------+--------------------+--------------------+--------------------+--------------------+--------------------+--------------------+--------------------+--------------------+--------------------+--------------------+--------------------+--------------------+--------------------+--------------------+--------------------+--------------------+--------------------+--------------------+--------------------+--------------------+--------------------+--------------------+--------------------+--------------------+--------------------+--------------------+--------------------+--------------------+--------------------+--------------------+\n",
            "only showing top 20 rows\n",
            "\n"
          ]
        }
      ]
    },
    {
      "cell_type": "code",
      "source": [
        "ques5_df1=combined_df12.select(\"game_id\",\"event\",\"tournament_name\",\"move_no_pair\",\"is_game_over\") #selected only required columns fom the combined table"
      ],
      "metadata": {
        "id": "o8LTaSXZ4S2Y"
      },
      "execution_count": 327,
      "outputs": []
    },
    {
      "cell_type": "code",
      "source": [
        "ques5_df2=ques5_df1.filter(ques5_df1.is_game_over==1).sort(ques5_df1.move_no_pair.asc())     #here we filter the tables with no_of_winnings and sort it in ascending order"
      ],
      "metadata": {
        "id": "fXcQE_hN4P_i"
      },
      "execution_count": 328,
      "outputs": []
    },
    {
      "cell_type": "code",
      "source": [
        "ques5_df2.show()"
      ],
      "metadata": {
        "colab": {
          "base_uri": "https://localhost:8080/"
        },
        "id": "W1qRuB-S4HAy",
        "outputId": "c38bfc7f-4578-41fd-fc71-4e414b433276"
      },
      "execution_count": 329,
      "outputs": [
        {
          "output_type": "stream",
          "name": "stdout",
          "text": [
            "+--------------------+--------------------+---------------+------------+------------+\n",
            "|             game_id|               event|tournament_name|move_no_pair|is_game_over|\n",
            "+--------------------+--------------------+---------------+------------+------------+\n",
            "|180c123b-a5e0-41f...|FIDE-Wch k.o. g/2...|  FideChamp1999|         118|           1|\n",
            "|ed4f54c2-4e7f-443...|            WCh 2014| WorldChamp2014|         122|           1|\n",
            "|bf66c982-f6c5-4e7...|World Championshi...| WorldChamp1978|         124|           1|\n",
            "|3b683515-0e68-466...|World Championshi...| WorldChamp1886|          29|           1|\n",
            "|3b683515-0e68-466...|World Championshi...| WorldChamp1886|          29|           1|\n",
            "|3b683515-0e68-466...|World Championshi...| WorldChamp1886|          30|           1|\n",
            "|3b683515-0e68-466...|World Championshi...| WorldChamp1886|          30|           1|\n",
            "|8a60b9e8-bca1-47a...|World Championshi...| WorldChamp1929|          30|           1|\n",
            "|3b683515-0e68-466...|World Championshi...| WorldChamp1886|          31|           1|\n",
            "|8b7f008d-7e07-4c1...|         FIDE WCh KO|  FideChamp2002|          33|           1|\n",
            "|ac45a5ed-172d-4ae...|       FIDE-Wch k.o.|  FideChamp1998|          36|           1|\n",
            "|cd3774bf-05ac-4fb...|         FIDE WCh KO|  FideChamp2002|          42|           1|\n",
            "|f37908a0-08b5-443...|         FIDE WCh KO|  FideChamp2000|          48|           1|\n",
            "|ee0c0abe-efb9-4fe...|         FIDE WCh KO|  FideChamp2002|          48|           1|\n",
            "|72e21381-aa82-490...|         FIDE WCh KO|  FideChamp2002|          49|           1|\n",
            "|6740dd72-e921-4a5...|            WCh-FIDE|  FideChamp2005|          54|           1|\n",
            "|3f1d218c-e644-490...|       FIDE-Wch k.o.|  FideChamp1999|          58|           1|\n",
            "|98ccb750-9342-41f...|         FIDE WCh KO|  FideChamp2000|          64|           1|\n",
            "|4f77bd03-4965-477...|                 WCh| WorldChamp2004|          65|           1|\n",
            "|c2ec09a7-f827-4fc...|            WCh 2013| WorldChamp2013|          65|           1|\n",
            "+--------------------+--------------------+---------------+------------+------------+\n",
            "only showing top 20 rows\n",
            "\n"
          ]
        }
      ]
    },
    {
      "cell_type": "code",
      "source": [
        "from pyspark.sql.functions import col\n",
        "from pyspark.sql.types import IntegerType , StringType  #importing functions to convert datatype of a column to the required format"
      ],
      "metadata": {
        "id": "BPXS3-1z4HEV"
      },
      "execution_count": 330,
      "outputs": []
    },
    {
      "cell_type": "code",
      "source": [
        "ques5_df2.withColumn(\"move_no_pair\",ques5_df1[\"move_no_pair\"].cast(IntegerType()))    #converting the datatype of move_no_pair to integertype"
      ],
      "metadata": {
        "colab": {
          "base_uri": "https://localhost:8080/"
        },
        "id": "1DjwhfSTVQmG",
        "outputId": "2582b12a-4334-4c75-980c-08060bf96c25"
      },
      "execution_count": 331,
      "outputs": [
        {
          "output_type": "execute_result",
          "data": {
            "text/plain": [
              "DataFrame[game_id: string, event: string, tournament_name: string, move_no_pair: int, is_game_over: string]"
            ]
          },
          "metadata": {},
          "execution_count": 331
        }
      ]
    },
    {
      "cell_type": "code",
      "source": [
        "ques5_df2.orderBy([\"move_no_pair\"],ascending=[True])         # arranging move_no_pairs in ascending order"
      ],
      "metadata": {
        "colab": {
          "base_uri": "https://localhost:8080/"
        },
        "id": "gACR1AjcVj-O",
        "outputId": "ac99cdab-6023-40d9-de52-4871c2b5f489"
      },
      "execution_count": 332,
      "outputs": [
        {
          "output_type": "execute_result",
          "data": {
            "text/plain": [
              "DataFrame[game_id: string, event: string, tournament_name: string, move_no_pair: string, is_game_over: string]"
            ]
          },
          "metadata": {},
          "execution_count": 332
        }
      ]
    },
    {
      "cell_type": "code",
      "source": [
        "ques5=ques5_df2.filter((ques5_df1.move_no_pair!=118) &(ques5_df1.move_no_pair!=122)  & (ques5_df1.move_no_pair!=124))   #removing the outliers in this column"
      ],
      "metadata": {
        "id": "R56mQYWJtnoQ"
      },
      "execution_count": 333,
      "outputs": []
    },
    {
      "cell_type": "code",
      "source": [
        "ques5.show()"
      ],
      "metadata": {
        "colab": {
          "base_uri": "https://localhost:8080/"
        },
        "id": "_JMyIJ1J9jYh",
        "outputId": "4cceff53-644d-43c5-c8da-60b55c35c16e"
      },
      "execution_count": 334,
      "outputs": [
        {
          "output_type": "stream",
          "name": "stdout",
          "text": [
            "+--------------------+--------------------+---------------+------------+------------+\n",
            "|             game_id|               event|tournament_name|move_no_pair|is_game_over|\n",
            "+--------------------+--------------------+---------------+------------+------------+\n",
            "|3b683515-0e68-466...|World Championshi...| WorldChamp1886|          29|           1|\n",
            "|3b683515-0e68-466...|World Championshi...| WorldChamp1886|          29|           1|\n",
            "|8a60b9e8-bca1-47a...|World Championshi...| WorldChamp1929|          30|           1|\n",
            "|3b683515-0e68-466...|World Championshi...| WorldChamp1886|          30|           1|\n",
            "|3b683515-0e68-466...|World Championshi...| WorldChamp1886|          30|           1|\n",
            "|3b683515-0e68-466...|World Championshi...| WorldChamp1886|          31|           1|\n",
            "|8b7f008d-7e07-4c1...|         FIDE WCh KO|  FideChamp2002|          33|           1|\n",
            "|ac45a5ed-172d-4ae...|       FIDE-Wch k.o.|  FideChamp1998|          36|           1|\n",
            "|cd3774bf-05ac-4fb...|         FIDE WCh KO|  FideChamp2002|          42|           1|\n",
            "|ee0c0abe-efb9-4fe...|         FIDE WCh KO|  FideChamp2002|          48|           1|\n",
            "|f37908a0-08b5-443...|         FIDE WCh KO|  FideChamp2000|          48|           1|\n",
            "|72e21381-aa82-490...|         FIDE WCh KO|  FideChamp2002|          49|           1|\n",
            "|6740dd72-e921-4a5...|            WCh-FIDE|  FideChamp2005|          54|           1|\n",
            "|3f1d218c-e644-490...|       FIDE-Wch k.o.|  FideChamp1999|          58|           1|\n",
            "|98ccb750-9342-41f...|         FIDE WCh KO|  FideChamp2000|          64|           1|\n",
            "|c2ec09a7-f827-4fc...|            WCh 2013| WorldChamp2013|          65|           1|\n",
            "|4f77bd03-4965-477...|                 WCh| WorldChamp2004|          65|           1|\n",
            "|92fa48ef-c6a0-4cb...|                 WCh| WorldChamp2007|          65|           1|\n",
            "|6c142b77-9ac7-40b...|         FIDE WCh KO|  FideChamp2002|          66|           1|\n",
            "|d9ea2d43-e8d9-4c8...|       FIDE-Wch k.o.|  FideChamp1998|          72|           1|\n",
            "+--------------------+--------------------+---------------+------------+------------+\n",
            "only showing top 20 rows\n",
            "\n"
          ]
        }
      ]
    },
    {
      "cell_type": "code",
      "source": [
        "# finding longest and shortest game using agg.functions"
      ],
      "metadata": {
        "id": "KU76pOOl96hP"
      },
      "execution_count": null,
      "outputs": []
    },
    {
      "cell_type": "code",
      "source": [
        "longest_game=ques5.agg({\"move_no_pair\":\"max\"}).collect()[0][0]\n",
        "shortest_game=ques5.agg({\"move_no_pair\":\"min\"}).collect()[0][0]\n",
        "longest_game=int(longest_game)\n",
        "shortest_game=int(shortest_game)\n",
        "\n"
      ],
      "metadata": {
        "id": "B7kBDqcn96kG"
      },
      "execution_count": 335,
      "outputs": []
    },
    {
      "cell_type": "code",
      "source": [
        "ques5.filter((ques5_df1.move_no_pair==longest_game)|(ques5_df1.move_no_pair==shortest_game)).drop(\"is_game_over\").distinct().withColumnRenamed(\"move_no_pair\",\"number_of_moves\").show()"
      ],
      "metadata": {
        "colab": {
          "base_uri": "https://localhost:8080/"
        },
        "id": "tZ-V9dF7-ehV",
        "outputId": "2f6d3285-4c25-45dd-90f6-112c2da4c34f"
      },
      "execution_count": 336,
      "outputs": [
        {
          "output_type": "stream",
          "name": "stdout",
          "text": [
            "+--------------------+--------------------+---------------+---------------+\n",
            "|             game_id|               event|tournament_name|number_of_moves|\n",
            "+--------------------+--------------------+---------------+---------------+\n",
            "|12f67983-3075-411...|   WCh Rapid TB 2016| WorldChamp2016|             84|\n",
            "|3b683515-0e68-466...|World Championshi...| WorldChamp1886|             29|\n",
            "+--------------------+--------------------+---------------+---------------+\n",
            "\n"
          ]
        }
      ]
    },
    {
      "cell_type": "code",
      "source": [
        "#Question 6"
      ],
      "metadata": {
        "id": "cpSAzvfg-ej3"
      },
      "execution_count": 337,
      "outputs": []
    },
    {
      "cell_type": "markdown",
      "source": [
        "6. Shortest and Longest Draw game ever Played.\n",
        "Result attributes: game_id, event, tournament_name, number_of_moves\n",
        "Final result will have only two rows"
      ],
      "metadata": {
        "id": "zALKQaCzASYk"
      }
    },
    {
      "cell_type": "code",
      "source": [
        "combined_df12.show() #combine the table to get the required columns from both tables"
      ],
      "metadata": {
        "id": "NwSQT83eA3m8",
        "colab": {
          "base_uri": "https://localhost:8080/"
        },
        "outputId": "701785b8-953b-45ec-9296-129c86fbc29f"
      },
      "execution_count": 338,
      "outputs": [
        {
          "output_type": "stream",
          "name": "stdout",
          "text": [
            "+----------+--------+---------+-----------+-----+----------------+---------+-------+---------+---------+-----------+-----------+------+----------+-----+---------+---------------------+---+--------------------+---------------+--------------------+-------+------------+----------------+--------+----+-----------+---------+-----+-----+--------------------+--------+-------------+--------------+----------------------+------------+------------------------+-----------+-----------+----------------+----------------+-----------------+-----------------+------------------+------------------+------------------+------------------+----------------+----------------+------------------------+------------------------+--------------------+--------------------+--------------------+--------------------+--------------------+--------------------+--------------------+--------------------+--------------------+--------------------+--------------------+--------------------+--------------------+--------------------+--------------------+--------------------+--------------------+--------------------+--------------------+--------------------+--------------------+--------------------+--------------------+--------------------+--------------------+--------------------+--------------------+--------------------+--------------------+--------------------+--------------------+--------------------+--------------------+\n",
            "|game_order|   event|     site|date_played|round|           white|    black| result|white_elo|black_elo|white_title|black_title|winner|winner_elo|loser|loser_elo|winner_loser_elo_diff|eco|        date_created|tournament_name|             game_id|move_no|move_no_pair|          player|notation|move|from_square|to_square|piece|color|                 fen|is_check|is_check_mate|is_fifty_moves|is_fivefold_repetition|is_game_over|is_insufficient_material|white_count|black_count|white_pawn_count|black_pawn_count|white_queen_count|black_queen_count|white_bishop_count|black_bishop_count|white_knight_count|black_knight_count|white_rook_count|black_rook_count|captured_score_for_white|captured_score_for_black|fen_row1_white_count|fen_row2_white_count|fen_row3_white_count|fen_row4_white_count|fen_row5_white_count|fen_row6_white_count|fen_row7_white_count|fen_row8_white_count|fen_row1_white_value|fen_row2_white_value|fen_row3_white_value|fen_row4_white_value|fen_row5_white_value|fen_row6_white_value|fen_row7_white_value|fen_row8_white_value|fen_row1_black_count|fen_row2_black_count|fen_row3_black_count|fen_row4_black_count|fen_row5_black_count|fen_row6_black_count|fen_row7_black_count|fen_row8_black_count|fen_row1_black_value|fen_row2_black_value|fen_row3_black_value|fen_row4_black_value|fen_row5_black_value|fen_row6_black_value|fen_row7_black_value|fen_row8_black_value|       move_sequence|\n",
            "+----------+--------+---------+-----------+-----+----------------+---------+-------+---------+---------+-----------+-----------+------+----------+-----+---------+---------------------+---+--------------------+---------------+--------------------+-------+------------+----------------+--------+----+-----------+---------+-----+-----+--------------------+--------+-------------+--------------+----------------------+------------+------------------------+-----------+-----------+----------------+----------------+-----------------+-----------------+------------------+------------------+------------------+------------------+----------------+----------------+------------------------+------------------------+--------------------+--------------------+--------------------+--------------------+--------------------+--------------------+--------------------+--------------------+--------------------+--------------------+--------------------+--------------------+--------------------+--------------------+--------------------+--------------------+--------------------+--------------------+--------------------+--------------------+--------------------+--------------------+--------------------+--------------------+--------------------+--------------------+--------------------+--------------------+--------------------+--------------------+--------------------+--------------------+--------------------+\n",
            "|         1|WCh 2021|Dubai UAE| 2021.11.26|    1|Nepomniachtchi,I|Carlsen,M|1/2-1/2|     2782|     2855|       null|       null|  draw|      null| draw|     null|                    0|C88|2022-07-22T22:33:...| WorldChamp2021|86e0b7f5-7b94-4ae...|      1|           1|Nepomniachtchi,I|      e4|e2e4|         e2|       e4|    P|White|rnbqkbnr/pppppppp...|       0|            0|             0|                     0|           0|                       0|         16|         16|               8|               8|                1|                1|                 2|                 2|                 2|                 2|               2|               2|                       0|                       0|                   8|                   7|                   0|                   1|                   0|                   0|                   0|                   0|                  31|                   7|                   0|                   1|                   0|                   0|                   0|                   0|                   0|                   0|                   0|                   0|                   0|                   0|                   8|                   8|                   0|                   0|                   0|                   0|                   0|                   0|                   8|                  31|                  e4|\n",
            "|         1|WCh 2021|Dubai UAE| 2021.11.26|    1|Nepomniachtchi,I|Carlsen,M|1/2-1/2|     2782|     2855|       null|       null|  draw|      null| draw|     null|                    0|C88|2022-07-22T22:33:...| WorldChamp2021|86e0b7f5-7b94-4ae...|      2|           1|       Carlsen,M|      e5|e7e5|         e7|       e5|    P|Black|rnbqkbnr/pppp1ppp...|       0|            0|             0|                     0|           0|                       0|         16|         16|               8|               8|                1|                1|                 2|                 2|                 2|                 2|               2|               2|                       0|                       0|                   8|                   7|                   0|                   1|                   0|                   0|                   0|                   0|                  31|                   7|                   0|                   1|                   0|                   0|                   0|                   0|                   0|                   0|                   0|                   0|                   1|                   0|                   7|                   8|                   0|                   0|                   0|                   0|                   1|                   0|                   7|                  31|               e4|e5|\n",
            "|         1|WCh 2021|Dubai UAE| 2021.11.26|    1|Nepomniachtchi,I|Carlsen,M|1/2-1/2|     2782|     2855|       null|       null|  draw|      null| draw|     null|                    0|C88|2022-07-22T22:33:...| WorldChamp2021|86e0b7f5-7b94-4ae...|      3|           2|Nepomniachtchi,I|     Nf3|g1f3|         g1|       f3|    N|White|rnbqkbnr/pppp1ppp...|       0|            0|             0|                     0|           0|                       0|         16|         16|               8|               8|                1|                1|                 2|                 2|                 2|                 2|               2|               2|                       0|                       0|                   7|                   7|                   1|                   1|                   0|                   0|                   0|                   0|                  28|                   7|                   3|                   1|                   0|                   0|                   0|                   0|                   0|                   0|                   0|                   0|                   1|                   0|                   7|                   8|                   0|                   0|                   0|                   0|                   1|                   0|                   7|                  31|           e4|e5|Nf3|\n",
            "|         1|WCh 2021|Dubai UAE| 2021.11.26|    1|Nepomniachtchi,I|Carlsen,M|1/2-1/2|     2782|     2855|       null|       null|  draw|      null| draw|     null|                    0|C88|2022-07-22T22:33:...| WorldChamp2021|86e0b7f5-7b94-4ae...|      4|           2|       Carlsen,M|     Nc6|b8c6|         b8|       c6|    N|Black|r1bqkbnr/pppp1ppp...|       0|            0|             0|                     0|           0|                       0|         16|         16|               8|               8|                1|                1|                 2|                 2|                 2|                 2|               2|               2|                       0|                       0|                   7|                   7|                   1|                   1|                   0|                   0|                   0|                   0|                  28|                   7|                   3|                   1|                   0|                   0|                   0|                   0|                   0|                   0|                   0|                   0|                   1|                   1|                   7|                   7|                   0|                   0|                   0|                   0|                   1|                   3|                   7|                  28|       e4|e5|Nf3|Nc6|\n",
            "|         1|WCh 2021|Dubai UAE| 2021.11.26|    1|Nepomniachtchi,I|Carlsen,M|1/2-1/2|     2782|     2855|       null|       null|  draw|      null| draw|     null|                    0|C88|2022-07-22T22:33:...| WorldChamp2021|86e0b7f5-7b94-4ae...|      5|           3|Nepomniachtchi,I|     Bb5|f1b5|         f1|       b5|    B|White|r1bqkbnr/pppp1ppp...|       0|            0|             0|                     0|           0|                       0|         16|         16|               8|               8|                1|                1|                 2|                 2|                 2|                 2|               2|               2|                       0|                       0|                   6|                   7|                   1|                   1|                   1|                   0|                   0|                   0|                  25|                   7|                   3|                   1|                   3|                   0|                   0|                   0|                   0|                   0|                   0|                   0|                   1|                   1|                   7|                   7|                   0|                   0|                   0|                   0|                   1|                   3|                   7|                  28|   e4|e5|Nf3|Nc6|Bb5|\n",
            "|         1|WCh 2021|Dubai UAE| 2021.11.26|    1|Nepomniachtchi,I|Carlsen,M|1/2-1/2|     2782|     2855|       null|       null|  draw|      null| draw|     null|                    0|C88|2022-07-22T22:33:...| WorldChamp2021|86e0b7f5-7b94-4ae...|      6|           3|       Carlsen,M|      a6|a7a6|         a7|       a6|    P|Black|r1bqkbnr/1ppp1ppp...|       0|            0|             0|                     0|           0|                       0|         16|         16|               8|               8|                1|                1|                 2|                 2|                 2|                 2|               2|               2|                       0|                       0|                   6|                   7|                   1|                   1|                   1|                   0|                   0|                   0|                  25|                   7|                   3|                   1|                   3|                   0|                   0|                   0|                   0|                   0|                   0|                   0|                   1|                   2|                   6|                   7|                   0|                   0|                   0|                   0|                   1|                   4|                   6|                  28|e4|e5|Nf3|Nc6|Bb5|a6|\n",
            "|         1|WCh 2021|Dubai UAE| 2021.11.26|    1|Nepomniachtchi,I|Carlsen,M|1/2-1/2|     2782|     2855|       null|       null|  draw|      null| draw|     null|                    0|C88|2022-07-22T22:33:...| WorldChamp2021|86e0b7f5-7b94-4ae...|      7|           4|Nepomniachtchi,I|     Ba4|b5a4|         b5|       a4|    B|White|r1bqkbnr/1ppp1ppp...|       0|            0|             0|                     0|           0|                       0|         16|         16|               8|               8|                1|                1|                 2|                 2|                 2|                 2|               2|               2|                       0|                       0|                   6|                   7|                   1|                   2|                   0|                   0|                   0|                   0|                  25|                   7|                   3|                   4|                   0|                   0|                   0|                   0|                   0|                   0|                   0|                   0|                   1|                   2|                   6|                   7|                   0|                   0|                   0|                   0|                   1|                   4|                   6|                  28|e4|e5|Nf3|Nc6|Bb5...|\n",
            "|         1|WCh 2021|Dubai UAE| 2021.11.26|    1|Nepomniachtchi,I|Carlsen,M|1/2-1/2|     2782|     2855|       null|       null|  draw|      null| draw|     null|                    0|C88|2022-07-22T22:33:...| WorldChamp2021|86e0b7f5-7b94-4ae...|      8|           4|       Carlsen,M|     Nf6|g8f6|         g8|       f6|    N|Black|r1bqkb1r/1ppp1ppp...|       0|            0|             0|                     0|           0|                       0|         16|         16|               8|               8|                1|                1|                 2|                 2|                 2|                 2|               2|               2|                       0|                       0|                   6|                   7|                   1|                   2|                   0|                   0|                   0|                   0|                  25|                   7|                   3|                   4|                   0|                   0|                   0|                   0|                   0|                   0|                   0|                   0|                   1|                   3|                   6|                   6|                   0|                   0|                   0|                   0|                   1|                   7|                   6|                  25|e4|e5|Nf3|Nc6|Bb5...|\n",
            "|         1|WCh 2021|Dubai UAE| 2021.11.26|    1|Nepomniachtchi,I|Carlsen,M|1/2-1/2|     2782|     2855|       null|       null|  draw|      null| draw|     null|                    0|C88|2022-07-22T22:33:...| WorldChamp2021|86e0b7f5-7b94-4ae...|      9|           5|Nepomniachtchi,I|     O-O|e1g1|         e1|       g1|    K|White|r1bqkb1r/1ppp1ppp...|       0|            0|             0|                     0|           0|                       0|         16|         16|               8|               8|                1|                1|                 2|                 2|                 2|                 2|               2|               2|                       0|                       0|                   6|                   7|                   1|                   2|                   0|                   0|                   0|                   0|                  25|                   7|                   3|                   4|                   0|                   0|                   0|                   0|                   0|                   0|                   0|                   0|                   1|                   3|                   6|                   6|                   0|                   0|                   0|                   0|                   1|                   7|                   6|                  25|e4|e5|Nf3|Nc6|Bb5...|\n",
            "|         1|WCh 2021|Dubai UAE| 2021.11.26|    1|Nepomniachtchi,I|Carlsen,M|1/2-1/2|     2782|     2855|       null|       null|  draw|      null| draw|     null|                    0|C88|2022-07-22T22:33:...| WorldChamp2021|86e0b7f5-7b94-4ae...|     10|           5|       Carlsen,M|     Be7|f8e7|         f8|       e7|    B|Black|r1bqk2r/1pppbppp/...|       0|            0|             0|                     0|           0|                       0|         16|         16|               8|               8|                1|                1|                 2|                 2|                 2|                 2|               2|               2|                       0|                       0|                   6|                   7|                   1|                   2|                   0|                   0|                   0|                   0|                  25|                   7|                   3|                   4|                   0|                   0|                   0|                   0|                   0|                   0|                   0|                   0|                   1|                   3|                   7|                   5|                   0|                   0|                   0|                   0|                   1|                   7|                   9|                  22|e4|e5|Nf3|Nc6|Bb5...|\n",
            "|         1|WCh 2021|Dubai UAE| 2021.11.26|    1|Nepomniachtchi,I|Carlsen,M|1/2-1/2|     2782|     2855|       null|       null|  draw|      null| draw|     null|                    0|C88|2022-07-22T22:33:...| WorldChamp2021|86e0b7f5-7b94-4ae...|     11|           6|Nepomniachtchi,I|     Re1|f1e1|         f1|       e1|    R|White|r1bqk2r/1pppbppp/...|       0|            0|             0|                     0|           0|                       0|         16|         16|               8|               8|                1|                1|                 2|                 2|                 2|                 2|               2|               2|                       0|                       0|                   6|                   7|                   1|                   2|                   0|                   0|                   0|                   0|                  25|                   7|                   3|                   4|                   0|                   0|                   0|                   0|                   0|                   0|                   0|                   0|                   1|                   3|                   7|                   5|                   0|                   0|                   0|                   0|                   1|                   7|                   9|                  22|e4|e5|Nf3|Nc6|Bb5...|\n",
            "|         1|WCh 2021|Dubai UAE| 2021.11.26|    1|Nepomniachtchi,I|Carlsen,M|1/2-1/2|     2782|     2855|       null|       null|  draw|      null| draw|     null|                    0|C88|2022-07-22T22:33:...| WorldChamp2021|86e0b7f5-7b94-4ae...|     12|           6|       Carlsen,M|      b5|b7b5|         b7|       b5|    P|Black|r1bqk2r/2ppbppp/p...|       0|            0|             0|                     0|           0|                       0|         16|         16|               8|               8|                1|                1|                 2|                 2|                 2|                 2|               2|               2|                       0|                       0|                   6|                   7|                   1|                   2|                   0|                   0|                   0|                   0|                  25|                   7|                   3|                   4|                   0|                   0|                   0|                   0|                   0|                   0|                   0|                   0|                   2|                   3|                   6|                   5|                   0|                   0|                   0|                   0|                   2|                   7|                   8|                  22|e4|e5|Nf3|Nc6|Bb5...|\n",
            "|         1|WCh 2021|Dubai UAE| 2021.11.26|    1|Nepomniachtchi,I|Carlsen,M|1/2-1/2|     2782|     2855|       null|       null|  draw|      null| draw|     null|                    0|C88|2022-07-22T22:33:...| WorldChamp2021|86e0b7f5-7b94-4ae...|     13|           7|Nepomniachtchi,I|     Bb3|a4b3|         a4|       b3|    B|White|r1bqk2r/2ppbppp/p...|       0|            0|             0|                     0|           0|                       0|         16|         16|               8|               8|                1|                1|                 2|                 2|                 2|                 2|               2|               2|                       0|                       0|                   6|                   7|                   2|                   1|                   0|                   0|                   0|                   0|                  25|                   7|                   6|                   1|                   0|                   0|                   0|                   0|                   0|                   0|                   0|                   0|                   2|                   3|                   6|                   5|                   0|                   0|                   0|                   0|                   2|                   7|                   8|                  22|e4|e5|Nf3|Nc6|Bb5...|\n",
            "|         1|WCh 2021|Dubai UAE| 2021.11.26|    1|Nepomniachtchi,I|Carlsen,M|1/2-1/2|     2782|     2855|       null|       null|  draw|      null| draw|     null|                    0|C88|2022-07-22T22:33:...| WorldChamp2021|86e0b7f5-7b94-4ae...|     14|           7|       Carlsen,M|     O-O|e8g8|         e8|       g8|    K|Black|r1bq1rk1/2ppbppp/...|       0|            0|             0|                     0|           0|                       0|         16|         16|               8|               8|                1|                1|                 2|                 2|                 2|                 2|               2|               2|                       0|                       0|                   6|                   7|                   2|                   1|                   0|                   0|                   0|                   0|                  25|                   7|                   6|                   1|                   0|                   0|                   0|                   0|                   0|                   0|                   0|                   0|                   2|                   3|                   6|                   5|                   0|                   0|                   0|                   0|                   2|                   7|                   8|                  22|e4|e5|Nf3|Nc6|Bb5...|\n",
            "|         1|WCh 2021|Dubai UAE| 2021.11.26|    1|Nepomniachtchi,I|Carlsen,M|1/2-1/2|     2782|     2855|       null|       null|  draw|      null| draw|     null|                    0|C88|2022-07-22T22:33:...| WorldChamp2021|86e0b7f5-7b94-4ae...|     15|           8|Nepomniachtchi,I|      h3|h2h3|         h2|       h3|    P|White|r1bq1rk1/2ppbppp/...|       0|            0|             0|                     0|           0|                       0|         16|         16|               8|               8|                1|                1|                 2|                 2|                 2|                 2|               2|               2|                       0|                       0|                   6|                   6|                   3|                   1|                   0|                   0|                   0|                   0|                  25|                   6|                   7|                   1|                   0|                   0|                   0|                   0|                   0|                   0|                   0|                   0|                   2|                   3|                   6|                   5|                   0|                   0|                   0|                   0|                   2|                   7|                   8|                  22|e4|e5|Nf3|Nc6|Bb5...|\n",
            "|         1|WCh 2021|Dubai UAE| 2021.11.26|    1|Nepomniachtchi,I|Carlsen,M|1/2-1/2|     2782|     2855|       null|       null|  draw|      null| draw|     null|                    0|C88|2022-07-22T22:33:...| WorldChamp2021|86e0b7f5-7b94-4ae...|     16|           8|       Carlsen,M|     Na5|c6a5|         c6|       a5|    N|Black|r1bq1rk1/2ppbppp/...|       0|            0|             0|                     0|           0|                       0|         16|         16|               8|               8|                1|                1|                 2|                 2|                 2|                 2|               2|               2|                       0|                       0|                   6|                   6|                   3|                   1|                   0|                   0|                   0|                   0|                  25|                   6|                   7|                   1|                   0|                   0|                   0|                   0|                   0|                   0|                   0|                   0|                   3|                   2|                   6|                   5|                   0|                   0|                   0|                   0|                   5|                   4|                   8|                  22|e4|e5|Nf3|Nc6|Bb5...|\n",
            "|         1|WCh 2021|Dubai UAE| 2021.11.26|    1|Nepomniachtchi,I|Carlsen,M|1/2-1/2|     2782|     2855|       null|       null|  draw|      null| draw|     null|                    0|C88|2022-07-22T22:33:...| WorldChamp2021|86e0b7f5-7b94-4ae...|     17|           9|Nepomniachtchi,I|    Nxe5|f3e5|         f3|       e5|    N|White|r1bq1rk1/2ppbppp/...|       0|            0|             0|                     0|           0|                       0|         16|         15|               8|               7|                1|                1|                 2|                 2|                 2|                 2|               2|               2|                       1|                       0|                   6|                   6|                   2|                   1|                   1|                   0|                   0|                   0|                  25|                   6|                   4|                   1|                   3|                   0|                   0|                   0|                   0|                   0|                   0|                   0|                   2|                   2|                   6|                   5|                   0|                   0|                   0|                   0|                   4|                   4|                   8|                  22|e4|e5|Nf3|Nc6|Bb5...|\n",
            "|         1|WCh 2021|Dubai UAE| 2021.11.26|    1|Nepomniachtchi,I|Carlsen,M|1/2-1/2|     2782|     2855|       null|       null|  draw|      null| draw|     null|                    0|C88|2022-07-22T22:33:...| WorldChamp2021|86e0b7f5-7b94-4ae...|     18|           9|       Carlsen,M|    Nxb3|a5b3|         a5|       b3|    N|Black|r1bq1rk1/2ppbppp/...|       0|            0|             0|                     0|           0|                       0|         15|         15|               8|               7|                1|                1|                 1|                 2|                 2|                 2|               2|               2|                       1|                       3|                   6|                   6|                   1|                   1|                   1|                   0|                   0|                   0|                  25|                   6|                   1|                   1|                   3|                   0|                   0|                   0|                   0|                   0|                   1|                   0|                   1|                   2|                   6|                   5|                   0|                   0|                   3|                   0|                   1|                   4|                   8|                  22|e4|e5|Nf3|Nc6|Bb5...|\n",
            "|         1|WCh 2021|Dubai UAE| 2021.11.26|    1|Nepomniachtchi,I|Carlsen,M|1/2-1/2|     2782|     2855|       null|       null|  draw|      null| draw|     null|                    0|C88|2022-07-22T22:33:...| WorldChamp2021|86e0b7f5-7b94-4ae...|     19|          10|Nepomniachtchi,I|    axb3|a2b3|         a2|       b3|    P|White|r1bq1rk1/2ppbppp/...|       0|            0|             0|                     0|           0|                       0|         15|         14|               8|               7|                1|                1|                 1|                 2|                 2|                 1|               2|               2|                       4|                       3|                   6|                   5|                   2|                   1|                   1|                   0|                   0|                   0|                  25|                   5|                   2|                   1|                   3|                   0|                   0|                   0|                   0|                   0|                   0|                   0|                   1|                   2|                   6|                   5|                   0|                   0|                   0|                   0|                   1|                   4|                   8|                  22|e4|e5|Nf3|Nc6|Bb5...|\n",
            "|         1|WCh 2021|Dubai UAE| 2021.11.26|    1|Nepomniachtchi,I|Carlsen,M|1/2-1/2|     2782|     2855|       null|       null|  draw|      null| draw|     null|                    0|C88|2022-07-22T22:33:...| WorldChamp2021|86e0b7f5-7b94-4ae...|     20|          10|       Carlsen,M|     Bb7|c8b7|         c8|       b7|    B|Black|r2q1rk1/1bppbppp/...|       0|            0|             0|                     0|           0|                       0|         15|         14|               8|               7|                1|                1|                 1|                 2|                 2|                 1|               2|               2|                       4|                       3|                   6|                   5|                   2|                   1|                   1|                   0|                   0|                   0|                  25|                   5|                   2|                   1|                   3|                   0|                   0|                   0|                   0|                   0|                   0|                   0|                   1|                   2|                   7|                   4|                   0|                   0|                   0|                   0|                   1|                   4|                  11|                  19|e4|e5|Nf3|Nc6|Bb5...|\n",
            "+----------+--------+---------+-----------+-----+----------------+---------+-------+---------+---------+-----------+-----------+------+----------+-----+---------+---------------------+---+--------------------+---------------+--------------------+-------+------------+----------------+--------+----+-----------+---------+-----+-----+--------------------+--------+-------------+--------------+----------------------+------------+------------------------+-----------+-----------+----------------+----------------+-----------------+-----------------+------------------+------------------+------------------+------------------+----------------+----------------+------------------------+------------------------+--------------------+--------------------+--------------------+--------------------+--------------------+--------------------+--------------------+--------------------+--------------------+--------------------+--------------------+--------------------+--------------------+--------------------+--------------------+--------------------+--------------------+--------------------+--------------------+--------------------+--------------------+--------------------+--------------------+--------------------+--------------------+--------------------+--------------------+--------------------+--------------------+--------------------+--------------------+--------------------+--------------------+\n",
            "only showing top 20 rows\n",
            "\n"
          ]
        }
      ]
    },
    {
      "cell_type": "code",
      "source": [
        "drawgame=combined_df12.select('game_id','event','tournament_name','move_no_pair','winner')   #select the columns from combined table"
      ],
      "metadata": {
        "id": "qwtSxgSpheyd"
      },
      "execution_count": 339,
      "outputs": []
    },
    {
      "cell_type": "code",
      "source": [
        "drawgame=drawgame.filter(drawgame.winner=='draw')  # take only draw game rows"
      ],
      "metadata": {
        "id": "Vd_-GYJYhioh"
      },
      "execution_count": 340,
      "outputs": []
    },
    {
      "cell_type": "code",
      "source": [
        "from pyspark.sql.types import IntegerType "
      ],
      "metadata": {
        "id": "Q0oxADtQh2vm"
      },
      "execution_count": 341,
      "outputs": []
    },
    {
      "cell_type": "code",
      "source": [
        "drawgame=drawgame.withColumn(\"move_no_pair\",drawgame[\"move_no_pair\"].cast(IntegerType()))"
      ],
      "metadata": {
        "id": "mWRKahjMhsDC"
      },
      "execution_count": 342,
      "outputs": []
    },
    {
      "cell_type": "code",
      "source": [
        "drawgame=drawgame.groupBy(\"game_id\",\"event\",\"tournament_name\").max(\"move_no_pair\").withColumnRenamed(\"max(move_no_pair)\",\"no_of_moves\")"
      ],
      "metadata": {
        "id": "qeoo_QZ_A3on"
      },
      "execution_count": 343,
      "outputs": []
    },
    {
      "cell_type": "code",
      "source": [
        "drawgame=drawgame.sort(drawgame.no_of_moves.desc())  #arrange the no_of_moves column in descending order"
      ],
      "metadata": {
        "id": "q6a9kBOgiMmg"
      },
      "execution_count": 344,
      "outputs": []
    },
    {
      "cell_type": "code",
      "source": [
        "longest_draw=drawgame.agg({\"no_of_moves\":\"max\"}).collect()[0][0]  #finding longest draw match\n",
        "shortest_draw=drawgame.agg({\"no_of_moves\":\"min\"}).collect()[0][0]  # finding shortest draw match"
      ],
      "metadata": {
        "id": "TLxLgXnSibN_"
      },
      "execution_count": 345,
      "outputs": []
    },
    {
      "cell_type": "code",
      "source": [
        "drawgame.filter((drawgame.no_of_moves==longest_draw)|(drawgame.no_of_moves==shortest_draw)).show()  # filter the data frame for showing only max and min draw games"
      ],
      "metadata": {
        "colab": {
          "base_uri": "https://localhost:8080/"
        },
        "id": "OwurhOrRivP0",
        "outputId": "42b91232-0e96-4395-cd2b-54b3fdab17b6"
      },
      "execution_count": 346,
      "outputs": [
        {
          "output_type": "stream",
          "name": "stdout",
          "text": [
            "+--------------------+-------------+---------------+-----------+\n",
            "|             game_id|        event|tournament_name|no_of_moves|\n",
            "+--------------------+-------------+---------------+-----------+\n",
            "|88f34084-e4df-490...|  FIDE WCh KO|  FideChamp2002|        129|\n",
            "|a27c2b95-fb62-4b6...|FIDE-Wch k.o.|  FideChamp1998|          6|\n",
            "+--------------------+-------------+---------------+-----------+\n",
            "\n"
          ]
        }
      ]
    },
    {
      "cell_type": "code",
      "source": [
        "#Question 7"
      ],
      "metadata": {
        "id": "mwtmOkaMA3sR"
      },
      "execution_count": null,
      "outputs": []
    },
    {
      "cell_type": "markdown",
      "source": [
        "7. Most and Least rated Player.\n",
        "Result attributes: player_name, elo\n",
        "Chess Funda: elo is the rating of the player in chess tournament.\n",
        "Final result will have only two rows"
      ],
      "metadata": {
        "id": "Rk_8HlzQA_-s"
      }
    },
    {
      "cell_type": "code",
      "source": [
        "import pyspark.sql.functions as F  # importing functions from pyspsark\n",
        "from pyspark.sql.functions import lit,monotonically_increasing_id   #importing required functions for further data ananlysis monotonical is used for sequence indexing"
      ],
      "metadata": {
        "id": "Dhm6i5aUVCqb"
      },
      "execution_count": 347,
      "outputs": []
    },
    {
      "cell_type": "code",
      "source": [
        "df_ques7=pyspark_df1.select(F.explode(F.array(\"white\",\"black\")).alias(\"player_name\"))  #taking selected rows from pyspark_df1"
      ],
      "metadata": {
        "id": "pl_rND-2WCb9"
      },
      "execution_count": 348,
      "outputs": []
    },
    {
      "cell_type": "code",
      "source": [
        "df_ques7.show()"
      ],
      "metadata": {
        "colab": {
          "base_uri": "https://localhost:8080/"
        },
        "id": "BsMlazGwVXUo",
        "outputId": "55642c8b-fb68-468b-fd67-ec09b816da0f"
      },
      "execution_count": 349,
      "outputs": [
        {
          "output_type": "stream",
          "name": "stdout",
          "text": [
            "+----------------+\n",
            "|     player_name|\n",
            "+----------------+\n",
            "|Nepomniachtchi,I|\n",
            "|       Carlsen,M|\n",
            "|       Carlsen,M|\n",
            "|Nepomniachtchi,I|\n",
            "|Nepomniachtchi,I|\n",
            "|       Carlsen,M|\n",
            "|       Carlsen,M|\n",
            "|Nepomniachtchi,I|\n",
            "|Nepomniachtchi,I|\n",
            "|       Carlsen,M|\n",
            "|       Carlsen,M|\n",
            "|Nepomniachtchi,I|\n",
            "|Nepomniachtchi,I|\n",
            "|       Carlsen,M|\n",
            "|       Carlsen,M|\n",
            "|Nepomniachtchi,I|\n",
            "|Nepomniachtchi,I|\n",
            "|       Carlsen,M|\n",
            "|       Carlsen,M|\n",
            "|Nepomniachtchi,I|\n",
            "+----------------+\n",
            "only showing top 20 rows\n",
            "\n"
          ]
        }
      ]
    },
    {
      "cell_type": "code",
      "source": [
        "df_ques7=df_ques7.select(\"*\").withColumn(\"id\",monotonically_increasing_id())   #added index here which will be useful in joining of tables"
      ],
      "metadata": {
        "id": "UTVlBMYyBCto"
      },
      "execution_count": 350,
      "outputs": []
    },
    {
      "cell_type": "code",
      "source": [
        "df_ques7.show()"
      ],
      "metadata": {
        "id": "7m6oZNqlBCvX",
        "colab": {
          "base_uri": "https://localhost:8080/"
        },
        "outputId": "e0c46829-5b96-44b4-d00e-a6fa5f434291"
      },
      "execution_count": 351,
      "outputs": [
        {
          "output_type": "stream",
          "name": "stdout",
          "text": [
            "+----------------+---+\n",
            "|     player_name| id|\n",
            "+----------------+---+\n",
            "|Nepomniachtchi,I|  0|\n",
            "|       Carlsen,M|  1|\n",
            "|       Carlsen,M|  2|\n",
            "|Nepomniachtchi,I|  3|\n",
            "|Nepomniachtchi,I|  4|\n",
            "|       Carlsen,M|  5|\n",
            "|       Carlsen,M|  6|\n",
            "|Nepomniachtchi,I|  7|\n",
            "|Nepomniachtchi,I|  8|\n",
            "|       Carlsen,M|  9|\n",
            "|       Carlsen,M| 10|\n",
            "|Nepomniachtchi,I| 11|\n",
            "|Nepomniachtchi,I| 12|\n",
            "|       Carlsen,M| 13|\n",
            "|       Carlsen,M| 14|\n",
            "|Nepomniachtchi,I| 15|\n",
            "|Nepomniachtchi,I| 16|\n",
            "|       Carlsen,M| 17|\n",
            "|       Carlsen,M| 18|\n",
            "|Nepomniachtchi,I| 19|\n",
            "+----------------+---+\n",
            "only showing top 20 rows\n",
            "\n"
          ]
        }
      ]
    },
    {
      "cell_type": "code",
      "source": [
        "df_ques7_2=pyspark_df1.select(F.explode(F.array(\"white_elo\",\"black_elo\")).alias(\"elo\"))  #selecting white_elo and black_elo from dataframe1(pyspark_df1) and store it in df_ques"
      ],
      "metadata": {
        "id": "MxsD9FOrV3Z1"
      },
      "execution_count": 352,
      "outputs": []
    },
    {
      "cell_type": "code",
      "source": [
        "df_ques7_2.show()"
      ],
      "metadata": {
        "colab": {
          "base_uri": "https://localhost:8080/"
        },
        "id": "fACb2ciLWH56",
        "outputId": "72ff3e45-a11c-4263-a98a-c364de835dc2"
      },
      "execution_count": 353,
      "outputs": [
        {
          "output_type": "stream",
          "name": "stdout",
          "text": [
            "+----+\n",
            "| elo|\n",
            "+----+\n",
            "|2782|\n",
            "|2855|\n",
            "|2855|\n",
            "|2782|\n",
            "|2782|\n",
            "|2855|\n",
            "|2855|\n",
            "|2782|\n",
            "|2782|\n",
            "|2855|\n",
            "|2855|\n",
            "|2782|\n",
            "|2782|\n",
            "|2855|\n",
            "|2855|\n",
            "|2782|\n",
            "|2782|\n",
            "|2855|\n",
            "|2855|\n",
            "|2782|\n",
            "+----+\n",
            "only showing top 20 rows\n",
            "\n"
          ]
        }
      ]
    },
    {
      "cell_type": "code",
      "source": [
        "df_ques7_2=df_ques7_2.select(\"*\").withColumn(\"id\",monotonically_increasing_id())"
      ],
      "metadata": {
        "id": "VFNowhdJWdvT"
      },
      "execution_count": 354,
      "outputs": []
    },
    {
      "cell_type": "code",
      "source": [
        "df_ques7_2.show()"
      ],
      "metadata": {
        "colab": {
          "base_uri": "https://localhost:8080/"
        },
        "id": "qIMAQzR3Wdww",
        "outputId": "c11507c4-1c0a-40b8-b9be-8809adb743cc"
      },
      "execution_count": 355,
      "outputs": [
        {
          "output_type": "stream",
          "name": "stdout",
          "text": [
            "+----+---+\n",
            "| elo| id|\n",
            "+----+---+\n",
            "|2782|  0|\n",
            "|2855|  1|\n",
            "|2855|  2|\n",
            "|2782|  3|\n",
            "|2782|  4|\n",
            "|2855|  5|\n",
            "|2855|  6|\n",
            "|2782|  7|\n",
            "|2782|  8|\n",
            "|2855|  9|\n",
            "|2855| 10|\n",
            "|2782| 11|\n",
            "|2782| 12|\n",
            "|2855| 13|\n",
            "|2855| 14|\n",
            "|2782| 15|\n",
            "|2782| 16|\n",
            "|2855| 17|\n",
            "|2855| 18|\n",
            "|2782| 19|\n",
            "+----+---+\n",
            "only showing top 20 rows\n",
            "\n"
          ]
        }
      ]
    },
    {
      "cell_type": "code",
      "source": [
        "ques7=df_ques7.join(df_ques7_2,\"id\")  #joining two tables whichare taken from the data frame "
      ],
      "metadata": {
        "id": "6zc-GBhqWd0V"
      },
      "execution_count": 356,
      "outputs": []
    },
    {
      "cell_type": "code",
      "source": [
        "ques7.show()"
      ],
      "metadata": {
        "colab": {
          "base_uri": "https://localhost:8080/"
        },
        "id": "5QAdupj4WH8y",
        "outputId": "fc5a5e0c-5b06-4691-fe75-c2e0bf96b3d4"
      },
      "execution_count": 357,
      "outputs": [
        {
          "output_type": "stream",
          "name": "stdout",
          "text": [
            "+---+----------------+----+\n",
            "| id|     player_name| elo|\n",
            "+---+----------------+----+\n",
            "|  0|Nepomniachtchi,I|2782|\n",
            "|  1|       Carlsen,M|2855|\n",
            "|  2|       Carlsen,M|2855|\n",
            "|  3|Nepomniachtchi,I|2782|\n",
            "|  4|Nepomniachtchi,I|2782|\n",
            "|  5|       Carlsen,M|2855|\n",
            "|  6|       Carlsen,M|2855|\n",
            "|  7|Nepomniachtchi,I|2782|\n",
            "|  8|Nepomniachtchi,I|2782|\n",
            "|  9|       Carlsen,M|2855|\n",
            "| 10|       Carlsen,M|2855|\n",
            "| 11|Nepomniachtchi,I|2782|\n",
            "| 12|Nepomniachtchi,I|2782|\n",
            "| 13|       Carlsen,M|2855|\n",
            "| 14|       Carlsen,M|2855|\n",
            "| 15|Nepomniachtchi,I|2782|\n",
            "| 16|Nepomniachtchi,I|2782|\n",
            "| 17|       Carlsen,M|2855|\n",
            "| 18|       Carlsen,M|2855|\n",
            "| 19|Nepomniachtchi,I|2782|\n",
            "+---+----------------+----+\n",
            "only showing top 20 rows\n",
            "\n"
          ]
        }
      ]
    },
    {
      "cell_type": "code",
      "source": [
        "max_elo=ques7.agg({\"elo\":\"max\"}).collect()[0][\"max(elo)\"]  #finding maximum elo using aggegrate function\n",
        "min_elo=ques7.agg({\"elo\":\"min\"}).collect()[0][\"min(elo)\"]  #finding minimum elo using aggregate function"
      ],
      "metadata": {
        "id": "-iP95DOzXLsP"
      },
      "execution_count": 358,
      "outputs": []
    },
    {
      "cell_type": "code",
      "source": [
        "ques7.filter((ques7.elo==max_elo) | (ques7.elo==min_elo)).drop(\"id\").drop_duplicates().show()   #filtering the ques7 dataframe for showing only max and min row by removing duplicates"
      ],
      "metadata": {
        "colab": {
          "base_uri": "https://localhost:8080/"
        },
        "id": "cf5lMfPOXLvT",
        "outputId": "634e225d-e025-4981-b1c2-6a7f7563ba3b"
      },
      "execution_count": 359,
      "outputs": [
        {
          "output_type": "stream",
          "name": "stdout",
          "text": [
            "+---------------+----+\n",
            "|    player_name| elo|\n",
            "+---------------+----+\n",
            "|      Abulhul,T|2076|\n",
            "|Carlsen, Magnus|2870|\n",
            "+---------------+----+\n",
            "\n"
          ]
        }
      ]
    },
    {
      "cell_type": "code",
      "source": [
        "#Question 8"
      ],
      "metadata": {
        "id": "7nEDBVQVBCys"
      },
      "execution_count": null,
      "outputs": []
    },
    {
      "cell_type": "markdown",
      "source": [
        "8. 3rd Last Player with most Loss.\n",
        "Result attributes: player_name\n",
        "Final result will have only one row"
      ],
      "metadata": {
        "id": "Yl5h3tS-BGE4"
      }
    },
    {
      "cell_type": "code",
      "source": [
        "ques8_df1=pyspark_df1.select(\"loser\").groupBy(\"loser\").count()  #selecting rows from dataframe1(pyspark_df1)"
      ],
      "metadata": {
        "id": "m0kLDI9aAI_U"
      },
      "execution_count": 360,
      "outputs": []
    },
    {
      "cell_type": "code",
      "source": [
        "ques8_df1=ques8_df1.filter(ques8_df1.loser!=\"draw\").sort([\"count\"],ascending=False)  #filter the dataframe and sorting in descending order"
      ],
      "metadata": {
        "id": "ig1vgbCtgutP"
      },
      "execution_count": 361,
      "outputs": []
    },
    {
      "cell_type": "code",
      "source": [
        "ques8=ques8_df1.drop(\"count\").withColumnRenamed(\"loser\",\"player_name\")  #drop the unnnecessary columns from dataframe"
      ],
      "metadata": {
        "id": "joZGKKBAgyPG"
      },
      "execution_count": 362,
      "outputs": []
    },
    {
      "cell_type": "code",
      "source": [
        "ques8.show()   #this is the final result"
      ],
      "metadata": {
        "colab": {
          "base_uri": "https://localhost:8080/"
        },
        "id": "39IpEN95gySA",
        "outputId": "44136027-29f9-4331-c20d-a715984268b1"
      },
      "execution_count": 363,
      "outputs": [
        {
          "output_type": "stream",
          "name": "stdout",
          "text": [
            "+--------------------+\n",
            "|         player_name|\n",
            "+--------------------+\n",
            "|   Steinitz, William|\n",
            "|  Botvinnik, Mikhail|\n",
            "|     Karpov, Anatoly|\n",
            "|           Euwe, Max|\n",
            "| Alekhine, Alexander|\n",
            "|    Smyslov, Vassily|\n",
            "|      Kasparov, Gary|\n",
            "|   Chigorin, Mikhail|\n",
            "|    Bogoljubow, Efim|\n",
            "|  Kortschnoj, Viktor|\n",
            "|     Lasker, Emanuel|\n",
            "|    Spassky, Boris V|\n",
            "|           Topalov,V|\n",
            "|Janowsky, Dawid M...|\n",
            "|  Anand, Viswanathan|\n",
            "|         Tal, Mihail|\n",
            "|      Kasimdzhanov,R|\n",
            "| Petrosian, Tigran V|\n",
            "|        Morozevich,A|\n",
            "|          Grischuk,A|\n",
            "+--------------------+\n",
            "only showing top 20 rows\n",
            "\n"
          ]
        }
      ]
    },
    {
      "cell_type": "code",
      "source": [
        "print(ques8.collect()[2])"
      ],
      "metadata": {
        "colab": {
          "base_uri": "https://localhost:8080/"
        },
        "id": "ohPBu0wohCnF",
        "outputId": "2d60dda1-f537-439d-d765-25171a8ef4b4"
      },
      "execution_count": 364,
      "outputs": [
        {
          "output_type": "stream",
          "name": "stdout",
          "text": [
            "Row(player_name='Karpov, Anatoly')\n"
          ]
        }
      ]
    },
    {
      "cell_type": "code",
      "source": [
        "#Question 9"
      ],
      "metadata": {
        "id": "P45-9E5pBLGj"
      },
      "execution_count": null,
      "outputs": []
    },
    {
      "cell_type": "markdown",
      "source": [
        "9. How many times players with low rating won matches with their total win Count.\n",
        "Result attributes: player_name, win_count"
      ],
      "metadata": {
        "id": "_jcrLYcEBOtQ"
      }
    },
    {
      "cell_type": "code",
      "source": [
        "#first slect the columns from dataframe and group by using winner and winner elo because we have to find player with less rating winning count and ascending it using asc() function"
      ],
      "metadata": {
        "id": "7hav_GZ7Xzb4"
      },
      "execution_count": 365,
      "outputs": []
    },
    {
      "cell_type": "code",
      "source": [
        "pyspark_df1.select(\"winner\",\"winner_elo\").groupBy(\"winner\",\"winner_elo\").count().filter(pyspark_df1.winner_elo!=\"null\").orderBy(pyspark_df1.winner_elo.asc()).drop(\"winner_elo\").withColumnRenamed(\"count\",\"win_count\").withColumnRenamed('winner','player_name').show()"
      ],
      "metadata": {
        "colab": {
          "base_uri": "https://localhost:8080/"
        },
        "id": "_rPiVgywdWoj",
        "outputId": "9ceb8812-4b4d-4dbf-cfd6-b164a664c17e"
      },
      "execution_count": 366,
      "outputs": [
        {
          "output_type": "stream",
          "name": "stdout",
          "text": [
            "+--------------------+---------+\n",
            "|         player_name|win_count|\n",
            "+--------------------+---------+\n",
            "|          Ciuksyte,D|        1|\n",
            "|       Baginskaite,C|        2|\n",
            "|              Pina,S|        1|\n",
            "|           Touzane,O|        1|\n",
            "|          Kiseleva,N|        2|\n",
            "|        Radziewicz,I|        1|\n",
            "|            Paehtz,E|        2|\n",
            "|            Kobese,W|        1|\n",
            "|       Zielinska,Mar|        1|\n",
            "|         Xu Yuanyuan|        3|\n",
            "|        Prudnikova,S|        2|\n",
            "|Stepovaia Dianche...|        1|\n",
            "|            Foisor,C|        2|\n",
            "|         Shaked, Tal|        2|\n",
            "|Gretarsson, Helgi...|        1|\n",
            "|           Mahjoob,M|        1|\n",
            "|    Garcia, Gildardo|        1|\n",
            "|    Bauer, Christian|        1|\n",
            "|          El Taher,F|        1|\n",
            "|  Zubarev, Alexander|        1|\n",
            "+--------------------+---------+\n",
            "only showing top 20 rows\n",
            "\n"
          ]
        }
      ]
    },
    {
      "cell_type": "code",
      "source": [
        "#Question 10"
      ],
      "metadata": {
        "id": "xMhkhPwBBLJc"
      },
      "execution_count": null,
      "outputs": []
    },
    {
      "cell_type": "markdown",
      "source": [
        "10. Move Sequence for Each Player in a Match.\n",
        "Result attributes: game_id, player_name, move_sequence, move_count"
      ],
      "metadata": {
        "id": "IFsQDVnMBYws"
      }
    },
    {
      "cell_type": "code",
      "source": [
        ""
      ],
      "metadata": {
        "id": "_BbdtolABdzR"
      },
      "execution_count": null,
      "outputs": []
    },
    {
      "cell_type": "code",
      "source": [
        "pyspark_df2.select(\"game_id\",\"player\",\"move_sequence\",\"move_no_pair\").withColumnRenamed(\"player\",\"player_name\").withColumnRenamed(\"move_no_pair\",\"move_count\").show() #taking particular columns from the dataframe"
      ],
      "metadata": {
        "colab": {
          "base_uri": "https://localhost:8080/"
        },
        "id": "8h-N32_3npRy",
        "outputId": "41877ec9-da3e-47d0-afa3-9436d824b169"
      },
      "execution_count": 367,
      "outputs": [
        {
          "output_type": "stream",
          "name": "stdout",
          "text": [
            "+--------------------+----------------+--------------------+----------+\n",
            "|             game_id|     player_name|       move_sequence|move_count|\n",
            "+--------------------+----------------+--------------------+----------+\n",
            "|86e0b7f5-7b94-4ae...|Nepomniachtchi,I|                  e4|         1|\n",
            "|86e0b7f5-7b94-4ae...|       Carlsen,M|               e4|e5|         1|\n",
            "|86e0b7f5-7b94-4ae...|Nepomniachtchi,I|           e4|e5|Nf3|         2|\n",
            "|86e0b7f5-7b94-4ae...|       Carlsen,M|       e4|e5|Nf3|Nc6|         2|\n",
            "|86e0b7f5-7b94-4ae...|Nepomniachtchi,I|   e4|e5|Nf3|Nc6|Bb5|         3|\n",
            "|86e0b7f5-7b94-4ae...|       Carlsen,M|e4|e5|Nf3|Nc6|Bb5|a6|         3|\n",
            "|86e0b7f5-7b94-4ae...|Nepomniachtchi,I|e4|e5|Nf3|Nc6|Bb5...|         4|\n",
            "|86e0b7f5-7b94-4ae...|       Carlsen,M|e4|e5|Nf3|Nc6|Bb5...|         4|\n",
            "|86e0b7f5-7b94-4ae...|Nepomniachtchi,I|e4|e5|Nf3|Nc6|Bb5...|         5|\n",
            "|86e0b7f5-7b94-4ae...|       Carlsen,M|e4|e5|Nf3|Nc6|Bb5...|         5|\n",
            "|86e0b7f5-7b94-4ae...|Nepomniachtchi,I|e4|e5|Nf3|Nc6|Bb5...|         6|\n",
            "|86e0b7f5-7b94-4ae...|       Carlsen,M|e4|e5|Nf3|Nc6|Bb5...|         6|\n",
            "|86e0b7f5-7b94-4ae...|Nepomniachtchi,I|e4|e5|Nf3|Nc6|Bb5...|         7|\n",
            "|86e0b7f5-7b94-4ae...|       Carlsen,M|e4|e5|Nf3|Nc6|Bb5...|         7|\n",
            "|86e0b7f5-7b94-4ae...|Nepomniachtchi,I|e4|e5|Nf3|Nc6|Bb5...|         8|\n",
            "|86e0b7f5-7b94-4ae...|       Carlsen,M|e4|e5|Nf3|Nc6|Bb5...|         8|\n",
            "|86e0b7f5-7b94-4ae...|Nepomniachtchi,I|e4|e5|Nf3|Nc6|Bb5...|         9|\n",
            "|86e0b7f5-7b94-4ae...|       Carlsen,M|e4|e5|Nf3|Nc6|Bb5...|         9|\n",
            "|86e0b7f5-7b94-4ae...|Nepomniachtchi,I|e4|e5|Nf3|Nc6|Bb5...|        10|\n",
            "|86e0b7f5-7b94-4ae...|       Carlsen,M|e4|e5|Nf3|Nc6|Bb5...|        10|\n",
            "+--------------------+----------------+--------------------+----------+\n",
            "only showing top 20 rows\n",
            "\n"
          ]
        }
      ]
    },
    {
      "cell_type": "code",
      "source": [
        "#Question 11"
      ],
      "metadata": {
        "id": "9-Rwe3CPBd08"
      },
      "execution_count": null,
      "outputs": []
    },
    {
      "cell_type": "markdown",
      "source": [
        "11. Total Number of games where losing player has more Captured score than Winning player.\n",
        "Hint: Captured score is cumulative, i.e., for 3rd capture it will have score for 1, 2, and 3rd.\n",
        "Result attributes: total_number_of_games Final result will have only one row"
      ],
      "metadata": {
        "id": "BeIFsV4wBhVE"
      }
    },
    {
      "cell_type": "code",
      "source": [
        "pyspark_df1.show()"
      ],
      "metadata": {
        "colab": {
          "base_uri": "https://localhost:8080/"
        },
        "id": "su_EUde4agb9",
        "outputId": "47db9726-2bc9-472d-de00-ba9c107c3140"
      },
      "execution_count": 368,
      "outputs": [
        {
          "output_type": "stream",
          "name": "stdout",
          "text": [
            "+--------------------+----------+--------+----------+-----------+-----+----------------+----------------+-------+---------+---------+-----------+-----------+---------+----------+----------------+---------+---------------------+---+--------------------+---------------+\n",
            "|             game_id|game_order|   event|      site|date_played|round|           white|           black| result|white_elo|black_elo|white_title|black_title|   winner|winner_elo|           loser|loser_elo|winner_loser_elo_diff|eco|        date_created|tournament_name|\n",
            "+--------------------+----------+--------+----------+-----------+-----+----------------+----------------+-------+---------+---------+-----------+-----------+---------+----------+----------------+---------+---------------------+---+--------------------+---------------+\n",
            "|86e0b7f5-7b94-4ae...|         1|WCh 2021| Dubai UAE| 2021.11.26|    1|Nepomniachtchi,I|       Carlsen,M|1/2-1/2|     2782|     2855|       null|       null|     draw|      null|            draw|     null|                    0|C88|2022-07-22T22:33:...| WorldChamp2021|\n",
            "|dc4a10ab-54cf-49d...|         2|WCh 2021| Dubai UAE| 2021.11.27|    2|       Carlsen,M|Nepomniachtchi,I|1/2-1/2|     2855|     2782|       null|       null|     draw|      null|            draw|     null|                    0|E06|2022-07-22T22:33:...| WorldChamp2021|\n",
            "|f042ca37-8899-488...|         3|WCh 2021| Dubai UAE| 2021.11.28|    3|Nepomniachtchi,I|       Carlsen,M|1/2-1/2|     2782|     2855|       null|       null|     draw|      null|            draw|     null|                    0|C88|2022-07-22T22:33:...| WorldChamp2021|\n",
            "|f70e4bbc-21e3-46f...|         4|WCh 2021| Dubai UAE| 2021.11.30|    4|       Carlsen,M|Nepomniachtchi,I|1/2-1/2|     2855|     2782|       null|       null|     draw|      null|            draw|     null|                    0|C42|2022-07-22T22:33:...| WorldChamp2021|\n",
            "|c941c323-308a-4c8...|         5|WCh 2021| Dubai UAE| 2021.12.01|    5|Nepomniachtchi,I|       Carlsen,M|1/2-1/2|     2782|     2855|       null|       null|     draw|      null|            draw|     null|                    0|C88|2022-07-22T22:33:...| WorldChamp2021|\n",
            "|58e83255-93bb-4d5...|         6|WCh 2021| Dubai UAE| 2021.12.03|    6|       Carlsen,M|Nepomniachtchi,I|    1-0|     2855|     2782|       null|       null|Carlsen,M|      2855|Nepomniachtchi,I|     2782|                   73|D02|2022-07-22T22:33:...| WorldChamp2021|\n",
            "|29181d93-73f4-4fb...|         7|WCh 2021| Dubai UAE| 2021.12.04|    7|Nepomniachtchi,I|       Carlsen,M|1/2-1/2|     2782|     2855|       null|       null|     draw|      null|            draw|     null|                    0|C88|2022-07-22T22:33:...| WorldChamp2021|\n",
            "|8a4ccd8c-d437-429...|         8|WCh 2021| Dubai UAE| 2021.12.05|    8|       Carlsen,M|Nepomniachtchi,I|    1-0|     2855|     2782|       null|       null|Carlsen,M|      2855|Nepomniachtchi,I|     2782|                   73|C43|2022-07-22T22:33:...| WorldChamp2021|\n",
            "|55a122db-27d1-495...|         9|WCh 2021| Dubai UAE| 2021.12.07|    9|Nepomniachtchi,I|       Carlsen,M|    0-1|     2782|     2855|       null|       null|Carlsen,M|      2855|Nepomniachtchi,I|     2782|                   73|A13|2022-07-22T22:33:...| WorldChamp2021|\n",
            "|1f900d18-5ea3-4f4...|        10|WCh 2021| Dubai UAE| 2021.12.08|   10|       Carlsen,M|Nepomniachtchi,I|1/2-1/2|     2855|     2782|       null|       null|     draw|      null|            draw|     null|                    0|C42|2022-07-22T22:33:...| WorldChamp2021|\n",
            "|c512a953-a341-47c...|        11|WCh 2021| Dubai UAE| 2021.12.10|   11|Nepomniachtchi,I|       Carlsen,M|    0-1|     2782|     2855|       null|       null|Carlsen,M|      2855|Nepomniachtchi,I|     2782|                   73|C50|2022-07-22T22:33:...| WorldChamp2021|\n",
            "|99d39a93-427e-4d1...|         1|WCh 2018|London ENG| 2018.11.09|    1|Caruana, Fabiano| Carlsen, Magnus|1/2-1/2|     2832|     2835|         GM|         GM|     draw|      null|            draw|     null|                    0|B31|2022-07-22T22:33:...| WorldChamp2018|\n",
            "|c87ceb3e-67a7-45d...|         2|WCh 2018|London ENG| 2018.11.10|    2| Carlsen, Magnus|Caruana, Fabiano|1/2-1/2|     2835|     2832|         GM|         GM|     draw|      null|            draw|     null|                    0|D37|2022-07-22T22:33:...| WorldChamp2018|\n",
            "|d50510ea-9c1a-460...|         3|WCh 2018|London ENG| 2018.11.12|    3|Caruana, Fabiano| Carlsen, Magnus|1/2-1/2|     2832|     2835|         GM|         GM|     draw|      null|            draw|     null|                    0|B31|2022-07-22T22:33:...| WorldChamp2018|\n",
            "|e899e16a-281e-41b...|         4|WCh 2018|London ENG| 2018.11.13|    4| Carlsen, Magnus|Caruana, Fabiano|1/2-1/2|     2835|     2832|         GM|         GM|     draw|      null|            draw|     null|                    0|A29|2022-07-22T22:33:...| WorldChamp2018|\n",
            "|59f8da88-fd21-405...|         5|WCh 2018|London ENG| 2018.11.15|    5|Caruana, Fabiano| Carlsen, Magnus|1/2-1/2|     2832|     2835|         GM|         GM|     draw|      null|            draw|     null|                    0|B31|2022-07-22T22:33:...| WorldChamp2018|\n",
            "|6dcc4b46-3155-47e...|         6|WCh 2018|London ENG| 2018.11.16|    6| Carlsen, Magnus|Caruana, Fabiano|1/2-1/2|     2835|     2832|         GM|         GM|     draw|      null|            draw|     null|                    0|C42|2022-07-22T22:33:...| WorldChamp2018|\n",
            "|c0c727cf-03ec-4b4...|         7|WCh 2018|London ENG| 2018.11.18|    7| Carlsen, Magnus|Caruana, Fabiano|1/2-1/2|     2835|     2832|         GM|         GM|     draw|      null|            draw|     null|                    0|D37|2022-07-22T22:33:...| WorldChamp2018|\n",
            "|4c14e044-cacc-405...|         8|WCh 2018|London ENG| 2018.11.19|    8|Caruana, Fabiano| Carlsen, Magnus|1/2-1/2|     2832|     2835|         GM|         GM|     draw|      null|            draw|     null|                    0|B33|2022-07-22T22:33:...| WorldChamp2018|\n",
            "|3f4eb26e-3cd1-43b...|         9|WCh 2018|London ENG| 2018.11.21|    9| Carlsen, Magnus|Caruana, Fabiano|1/2-1/2|     2835|     2832|         GM|         GM|     draw|      null|            draw|     null|                    0|A29|2022-07-22T22:33:...| WorldChamp2018|\n",
            "+--------------------+----------+--------+----------+-----------+-----+----------------+----------------+-------+---------+---------+-----------+-----------+---------+----------+----------------+---------+---------------------+---+--------------------+---------------+\n",
            "only showing top 20 rows\n",
            "\n"
          ]
        }
      ]
    },
    {
      "cell_type": "code",
      "source": [
        "winner_freqdf=pyspark_df1.select(\"tournament_name\",\"winner\")  #taking required columns from dataframe1(pyspark1)"
      ],
      "metadata": {
        "id": "gvrHEJRUagsN"
      },
      "execution_count": 369,
      "outputs": []
    },
    {
      "cell_type": "code",
      "source": [
        "winner_capture_score_df=winner_freqdf.groupBy(\"tournament_name\",\"winner\").count().filter(winner_freqdf.winner!=\"draw\")  #filtering the data by removing unnecessary rows from dataframe"
      ],
      "metadata": {
        "id": "hHOOJVb2Z3zX"
      },
      "execution_count": 370,
      "outputs": []
    },
    {
      "cell_type": "code",
      "source": [
        "winner_capture_score_df.show()"
      ],
      "metadata": {
        "colab": {
          "base_uri": "https://localhost:8080/"
        },
        "id": "qwG29XA0aF1I",
        "outputId": "1e42f8bd-16e8-440e-f674-3e2bd78b275b"
      },
      "execution_count": 371,
      "outputs": [
        {
          "output_type": "stream",
          "name": "stdout",
          "text": [
            "+---------------+--------------------+-----+\n",
            "|tournament_name|              winner|count|\n",
            "+---------------+--------------------+-----+\n",
            "|  FideChamp2004|             Kritz,L|    2|\n",
            "| WorldChamp1886|Zukertort, Johann...|    5|\n",
            "|  FideChamp2002|            Nataf,IA|    1|\n",
            "| WorldChamp2006|           Topalov,V|    4|\n",
            "|  FideChamp2000|             Gulko,B|    3|\n",
            "|  FideChamp1999|  Ponomariov, Ruslan|    2|\n",
            "|  FideChamp1999|       Lautier, Joel|    3|\n",
            "|  FideChamp1999|       Dreev, Alexey|    4|\n",
            "|  FideChamp2005|        Morozevich,A|    3|\n",
            "|  FideChamp2002|      Vallejo Pons,F|    2|\n",
            "|  FideChamp2004|          Malakhov,V|    1|\n",
            "|  FideChamp2002|        Radziewicz,I|    1|\n",
            "|  FideChamp2000|            Bacrot,E|    2|\n",
            "|  FideChamp2002|       Baginskaite,C|    2|\n",
            "|  FideChamp2004|           Vasquez,R|    1|\n",
            "|  FideChamp1999|     Georgiev, Kiril|    3|\n",
            "| WorldChamp1935|           Euwe, Max|    9|\n",
            "|  FideChamp2004|             Dreev,A|    6|\n",
            "|  FideChamp2004|        Mamedyarov,S|    3|\n",
            "|  FideChamp2002|        Prudnikova,S|    2|\n",
            "+---------------+--------------------+-----+\n",
            "only showing top 20 rows\n",
            "\n"
          ]
        }
      ]
    },
    {
      "cell_type": "code",
      "source": [
        "from pyspark.sql.types import IntegerType "
      ],
      "metadata": {
        "id": "OorqZHqhaJhl"
      },
      "execution_count": 372,
      "outputs": []
    },
    {
      "cell_type": "code",
      "source": [
        "winner_capture_score_df=winner_capture_score_df.withColumn(\"count\",winner_capture_score_df[\"count\"].cast(IntegerType())).withColumnRenamed(\"count\",\"winner_frequency\") # finding winner capture score by using agg. functions "
      ],
      "metadata": {
        "id": "IowiMj1uaJjB"
      },
      "execution_count": 373,
      "outputs": []
    },
    {
      "cell_type": "code",
      "source": [
        "winner_capture_score_df.show()"
      ],
      "metadata": {
        "colab": {
          "base_uri": "https://localhost:8080/"
        },
        "id": "T5D1y-7daJmh",
        "outputId": "f1670486-3c2d-41ae-dd90-2e000ef9fba8"
      },
      "execution_count": null,
      "outputs": [
        {
          "output_type": "stream",
          "name": "stdout",
          "text": [
            "+---------------+--------------------+----------------+\n",
            "|tournament_name|              winner|winner_frequency|\n",
            "+---------------+--------------------+----------------+\n",
            "|  FideChamp2004|             Kritz,L|               2|\n",
            "| WorldChamp1886|Zukertort, Johann...|               5|\n",
            "|  FideChamp2002|            Nataf,IA|               1|\n",
            "| WorldChamp2006|           Topalov,V|               4|\n",
            "|  FideChamp2000|             Gulko,B|               3|\n",
            "|  FideChamp1999|  Ponomariov, Ruslan|               2|\n",
            "|  FideChamp1999|       Lautier, Joel|               3|\n",
            "|  FideChamp1999|       Dreev, Alexey|               4|\n",
            "|  FideChamp2005|        Morozevich,A|               3|\n",
            "|  FideChamp2002|      Vallejo Pons,F|               2|\n",
            "|  FideChamp2004|          Malakhov,V|               1|\n",
            "|  FideChamp2002|        Radziewicz,I|               1|\n",
            "|  FideChamp2000|            Bacrot,E|               2|\n",
            "|  FideChamp2002|       Baginskaite,C|               2|\n",
            "|  FideChamp2004|           Vasquez,R|               1|\n",
            "|  FideChamp1999|     Georgiev, Kiril|               3|\n",
            "| WorldChamp1935|           Euwe, Max|               9|\n",
            "|  FideChamp2004|             Dreev,A|               6|\n",
            "|  FideChamp2004|        Mamedyarov,S|               3|\n",
            "|  FideChamp2002|        Prudnikova,S|               2|\n",
            "+---------------+--------------------+----------------+\n",
            "only showing top 20 rows\n",
            "\n"
          ]
        }
      ]
    },
    {
      "cell_type": "code",
      "source": [
        "from pyspark.sql.functions import expr"
      ],
      "metadata": {
        "id": "cptju_kqa_ZD"
      },
      "execution_count": 374,
      "outputs": []
    },
    {
      "cell_type": "code",
      "source": [
        "winner_capture_score_df=winner_capture_score_df.withColumn(\"winner_capturescore\",expr('sum(winner_frequency) over (order by winner_frequency desc)'))"
      ],
      "metadata": {
        "id": "2Ci9POBDa_b4"
      },
      "execution_count": 375,
      "outputs": []
    },
    {
      "cell_type": "code",
      "source": [
        "winner_capture_score_df.show()  #using pyspark function find the winner cummulative frequency of the dataframe by using winner_frequency column"
      ],
      "metadata": {
        "colab": {
          "base_uri": "https://localhost:8080/"
        },
        "id": "ZtyxZC6kdai4",
        "outputId": "297f83d2-2e43-4ead-b023-765c996518e7"
      },
      "execution_count": 376,
      "outputs": [
        {
          "output_type": "stream",
          "name": "stdout",
          "text": [
            "+---------------+--------------------+----------------+-------------------+\n",
            "|tournament_name|              winner|winner_frequency|winner_capturescore|\n",
            "+---------------+--------------------+----------------+-------------------+\n",
            "|  FideChamp2004|      Kasimdzhanov,R|              13|                 13|\n",
            "|  FideChamp1999|Khalifman, Alexander|              12|                 37|\n",
            "|  FideChamp2002|        Ponomariov,R|              12|                 37|\n",
            "| WorldChamp1929| Alekhine, Alexander|              11|                 48|\n",
            "| WorldChamp1948|  Botvinnik, Mikhail|              10|                138|\n",
            "| WorldChamp1894|     Lasker, Emanuel|              10|                138|\n",
            "| WorldChamp1889|   Steinitz, William|              10|                138|\n",
            "| WorldChamp1892|   Steinitz, William|              10|                138|\n",
            "|  FideChamp1998|  Anand, Viswanathan|              10|                138|\n",
            "| WorldChamp1886|   Steinitz, William|              10|                138|\n",
            "| WorldChamp1961|  Botvinnik, Mikhail|              10|                138|\n",
            "| WorldChamp1937| Alekhine, Alexander|              10|                138|\n",
            "| WorldChamp1896|     Lasker, Emanuel|              10|                138|\n",
            "| WorldChamp1935|           Euwe, Max|               9|                183|\n",
            "|  FideChamp2004|            Adams,Mi|               9|                183|\n",
            "|  FideChamp1998|      Adams, Michael|               9|                183|\n",
            "|  FideChamp2004|           Topalov,V|               9|                183|\n",
            "|  FideChamp1998|      Short, Nigel D|               9|                183|\n",
            "| WorldChamp1892|   Chigorin, Mikhail|               8|                279|\n",
            "| WorldChamp1907|     Lasker, Emanuel|               8|                279|\n",
            "+---------------+--------------------+----------------+-------------------+\n",
            "only showing top 20 rows\n",
            "\n"
          ]
        }
      ]
    },
    {
      "cell_type": "code",
      "source": [
        "loser_freqdf=pyspark_df1.select(\"tournament_name\",\"loser\")  # select the columns from dataframe1(pyspark_df1)"
      ],
      "metadata": {
        "id": "ifKk8ZFYb6Qj"
      },
      "execution_count": 377,
      "outputs": []
    },
    {
      "cell_type": "code",
      "source": [
        "loser_capture_score_df=loser_freqdf.groupBy(\"tournament_name\",\"loser\").count().filter(loser_freqdf.loser!=\"draw\") #here we coun the frequency of the looser"
      ],
      "metadata": {
        "id": "BjR6fH2IcntD"
      },
      "execution_count": 378,
      "outputs": []
    },
    {
      "cell_type": "code",
      "source": [
        "loser_capture_score_df=loser_capture_score_df.withColumn(\"count\",loser_capture_score_df[\"count\"].cast(IntegerType())).withColumnRenamed(\"count\",\"loser_frequency\")"
      ],
      "metadata": {
        "id": "6ZWFEqrjcuLK"
      },
      "execution_count": 379,
      "outputs": []
    },
    {
      "cell_type": "code",
      "source": [
        "loser_capture_score_df"
      ],
      "metadata": {
        "colab": {
          "base_uri": "https://localhost:8080/"
        },
        "id": "xES9neNhcy-W",
        "outputId": "3457637c-fe42-4503-971d-3aa27f997f36"
      },
      "execution_count": 380,
      "outputs": [
        {
          "output_type": "execute_result",
          "data": {
            "text/plain": [
              "DataFrame[tournament_name: string, loser: string, loser_frequency: int]"
            ]
          },
          "metadata": {},
          "execution_count": 380
        }
      ]
    },
    {
      "cell_type": "code",
      "source": [
        "loser_capture_score_df=loser_capture_score_df.withColumn(\"loser_capturescore\",expr('sum(loser_frequency) over (order by loser_frequency desc)'))  # find cummulative frequency (capture score) uisng lose frequency column"
      ],
      "metadata": {
        "id": "2etI6yUDc29D"
      },
      "execution_count": 381,
      "outputs": []
    },
    {
      "cell_type": "code",
      "source": [
        "loser_capture_score_df.show()"
      ],
      "metadata": {
        "colab": {
          "base_uri": "https://localhost:8080/"
        },
        "id": "qcJv2cQEc7o1",
        "outputId": "7a32df9b-4a57-44b1-b233-714cffe9a1a1"
      },
      "execution_count": 382,
      "outputs": [
        {
          "output_type": "stream",
          "name": "stdout",
          "text": [
            "+---------------+--------------------+---------------+------------------+\n",
            "|tournament_name|               loser|loser_frequency|loser_capturescore|\n",
            "+---------------+--------------------+---------------+------------------+\n",
            "| WorldChamp1948|           Euwe, Max|             13|                13|\n",
            "| WorldChamp1929|    Bogoljubow, Efim|             11|                24|\n",
            "| WorldChamp1886|Zukertort, Johann...|             10|                94|\n",
            "| WorldChamp1961|         Tal, Mihail|             10|                94|\n",
            "| WorldChamp1894|   Steinitz, William|             10|                94|\n",
            "| WorldChamp1892|   Chigorin, Mikhail|             10|                94|\n",
            "| WorldChamp1937|           Euwe, Max|             10|                94|\n",
            "| WorldChamp1896|   Steinitz, William|             10|                94|\n",
            "| WorldChamp1889|   Chigorin, Mikhail|             10|                94|\n",
            "| WorldChamp1935| Alekhine, Alexander|              9|               103|\n",
            "| WorldChamp1935|           Euwe, Max|              8|               151|\n",
            "| WorldChamp1908|  Tarrasch, Siegbert|              8|               151|\n",
            "| WorldChamp1892|   Steinitz, William|              8|               151|\n",
            "| WorldChamp1907|Marshall, Frank J...|              8|               151|\n",
            "|WorldChamp1910b|Janowsky, Dawid M...|              8|               151|\n",
            "| WorldChamp1934|    Bogoljubow, Efim|              8|               151|\n",
            "| WorldChamp1954|  Botvinnik, Mikhail|              7|               193|\n",
            "| WorldChamp1954|    Smyslov, Vassily|              7|               193|\n",
            "| WorldChamp1972|    Spassky, Boris V|              7|               193|\n",
            "| WorldChamp1948|         Keres, Paul|              7|               193|\n",
            "+---------------+--------------------+---------------+------------------+\n",
            "only showing top 20 rows\n",
            "\n"
          ]
        }
      ]
    },
    {
      "cell_type": "code",
      "source": [
        "winner_loser_capturescore_df=loser_capture_score_df.join(winner_capture_score_df,\"tournament_name\")  #joining both tables for further comparision"
      ],
      "metadata": {
        "id": "HtIrHsWZBd4k"
      },
      "execution_count": 383,
      "outputs": []
    },
    {
      "cell_type": "code",
      "source": [
        "winner_loser_capturescore_df.show()"
      ],
      "metadata": {
        "colab": {
          "base_uri": "https://localhost:8080/"
        },
        "id": "JWRUrgSkhsY2",
        "outputId": "d63c7470-4773-44fb-9af8-16df7917bccf"
      },
      "execution_count": 384,
      "outputs": [
        {
          "output_type": "stream",
          "name": "stdout",
          "text": [
            "+---------------+--------------------+---------------+------------------+--------------------+----------------+-------------------+\n",
            "|tournament_name|               loser|loser_frequency|loser_capturescore|              winner|winner_frequency|winner_capturescore|\n",
            "+---------------+--------------------+---------------+------------------+--------------------+----------------+-------------------+\n",
            "| WorldChamp1948|           Euwe, Max|             13|                13|           Euwe, Max|               1|               1423|\n",
            "| WorldChamp1948|           Euwe, Max|             13|                13|Reshevsky, Samuel...|               6|                521|\n",
            "| WorldChamp1948|           Euwe, Max|             13|                13|    Smyslov, Vassily|               6|                521|\n",
            "| WorldChamp1948|           Euwe, Max|             13|                13|         Keres, Paul|               8|                279|\n",
            "| WorldChamp1948|           Euwe, Max|             13|                13|  Botvinnik, Mikhail|              10|                138|\n",
            "| WorldChamp1929|    Bogoljubow, Efim|             11|                24|    Bogoljubow, Efim|               5|                651|\n",
            "| WorldChamp1929|    Bogoljubow, Efim|             11|                24| Alekhine, Alexander|              11|                 48|\n",
            "| WorldChamp1886|Zukertort, Johann...|             10|                94|Zukertort, Johann...|               5|                651|\n",
            "| WorldChamp1886|Zukertort, Johann...|             10|                94|   Steinitz, William|              10|                138|\n",
            "| WorldChamp1961|         Tal, Mihail|             10|                94|         Tal, Mihail|               5|                651|\n",
            "| WorldChamp1961|         Tal, Mihail|             10|                94|  Botvinnik, Mikhail|              10|                138|\n",
            "| WorldChamp1894|   Steinitz, William|             10|                94|   Steinitz, William|               5|                651|\n",
            "| WorldChamp1894|   Steinitz, William|             10|                94|     Lasker, Emanuel|              10|                138|\n",
            "| WorldChamp1892|   Chigorin, Mikhail|             10|                94|   Chigorin, Mikhail|               8|                279|\n",
            "| WorldChamp1892|   Chigorin, Mikhail|             10|                94|   Steinitz, William|              10|                138|\n",
            "| WorldChamp1937|           Euwe, Max|             10|                94|           Euwe, Max|               4|                859|\n",
            "| WorldChamp1937|           Euwe, Max|             10|                94| Alekhine, Alexander|              10|                138|\n",
            "| WorldChamp1896|   Steinitz, William|             10|                94|   Steinitz, William|               2|               1286|\n",
            "| WorldChamp1896|   Steinitz, William|             10|                94|     Lasker, Emanuel|              10|                138|\n",
            "| WorldChamp1889|   Chigorin, Mikhail|             10|                94|   Chigorin, Mikhail|               6|                521|\n",
            "+---------------+--------------------+---------------+------------------+--------------------+----------------+-------------------+\n",
            "only showing top 20 rows\n",
            "\n"
          ]
        }
      ]
    },
    {
      "cell_type": "code",
      "source": [
        "winner_loser_capturescore_df=winner_loser_capturescore_df.filter(winner_loser_capturescore_df.loser_capturescore > winner_loser_capturescore_df.winner_capturescore) #here filtered the columns by only taking looser capture score graeter than winner capture score "
      ],
      "metadata": {
        "id": "XlJUaUPHh2iw"
      },
      "execution_count": 385,
      "outputs": []
    },
    {
      "cell_type": "code",
      "source": [
        "winner_loser_capturescore_df.show()"
      ],
      "metadata": {
        "colab": {
          "base_uri": "https://localhost:8080/"
        },
        "id": "HXUqsucOh22v",
        "outputId": "950d3555-bd94-4d96-b193-0d12ccb76dc4"
      },
      "execution_count": 386,
      "outputs": [
        {
          "output_type": "stream",
          "name": "stdout",
          "text": [
            "+---------------+--------------------+---------------+------------------+--------------------+----------------+-------------------+\n",
            "|tournament_name|               loser|loser_frequency|loser_capturescore|              winner|winner_frequency|winner_capturescore|\n",
            "+---------------+--------------------+---------------+------------------+--------------------+----------------+-------------------+\n",
            "| WorldChamp1892|   Steinitz, William|              8|               151|   Steinitz, William|              10|                138|\n",
            "| WorldChamp1948|         Keres, Paul|              7|               193|  Botvinnik, Mikhail|              10|                138|\n",
            "| WorldChamp1889|   Steinitz, William|              6|               271|   Steinitz, William|              10|                138|\n",
            "|  FideChamp2000|             Dreev,A|              5|               371|            Shirov,A|               8|                279|\n",
            "|  FideChamp2000|             Dreev,A|              5|               371|             Anand,V|               8|                279|\n",
            "| WorldChamp1894|     Lasker, Emanuel|              5|               371|     Lasker, Emanuel|              10|                138|\n",
            "|  FideChamp1999|    Dolmatov, Sergey|              5|               371|   Akopian, Vladimir|               8|                279|\n",
            "|  FideChamp1999|    Dolmatov, Sergey|              5|               371|Khalifman, Alexander|              12|                 37|\n",
            "| WorldChamp1886|   Steinitz, William|              5|               371|   Steinitz, William|              10|                138|\n",
            "| WorldChamp1961|  Botvinnik, Mikhail|              5|               371|  Botvinnik, Mikhail|              10|                138|\n",
            "|  FideChamp1999|Khalifman, Alexander|              5|               371|   Akopian, Vladimir|               8|                279|\n",
            "|  FideChamp1999|Khalifman, Alexander|              5|               371|Khalifman, Alexander|              12|                 37|\n",
            "| WorldChamp1929| Alekhine, Alexander|              5|               371| Alekhine, Alexander|              11|                 48|\n",
            "| WorldChamp1948|Reshevsky, Samuel...|              5|               371|         Keres, Paul|               8|                279|\n",
            "| WorldChamp1948|Reshevsky, Samuel...|              5|               371|  Botvinnik, Mikhail|              10|                138|\n",
            "|  FideChamp2004|           Felgaer,R|              4|               467|          Grischuk,A|               7|                377|\n",
            "|  FideChamp2004|           Felgaer,R|              4|               467|         Dominguez,L|               7|                377|\n",
            "|  FideChamp2004|           Felgaer,R|              4|               467|           Topalov,V|               9|                183|\n",
            "|  FideChamp2004|           Felgaer,R|              4|               467|            Adams,Mi|               9|                183|\n",
            "|  FideChamp2004|           Felgaer,R|              4|               467|      Kasimdzhanov,R|              13|                 13|\n",
            "+---------------+--------------------+---------------+------------------+--------------------+----------------+-------------------+\n",
            "only showing top 20 rows\n",
            "\n"
          ]
        }
      ]
    },
    {
      "cell_type": "code",
      "source": [
        "no_of_games = winner_loser_capturescore_df.count()"
      ],
      "metadata": {
        "id": "eurc9TAHjMYZ"
      },
      "execution_count": 387,
      "outputs": []
    },
    {
      "cell_type": "code",
      "source": [
        "print(no_of_games)   #the final result we meed is number of games where loser capture score graeter than winner capture score"
      ],
      "metadata": {
        "colab": {
          "base_uri": "https://localhost:8080/"
        },
        "id": "ON8auVEkjext",
        "outputId": "e759dda9-40cd-468a-dc03-1b2fc243859b"
      },
      "execution_count": 388,
      "outputs": [
        {
          "output_type": "stream",
          "name": "stdout",
          "text": [
            "19111\n"
          ]
        }
      ]
    },
    {
      "cell_type": "code",
      "source": [
        "data=[{\"total_no_of_games\":no_of_games}]"
      ],
      "metadata": {
        "id": "1jDkhe2Hjml9"
      },
      "execution_count": 389,
      "outputs": []
    },
    {
      "cell_type": "code",
      "source": [
        "final_ques11=spark.createDataFrame(data) #converting dictionary to pyspark datframe"
      ],
      "metadata": {
        "id": "Xd-93SnrkESf"
      },
      "execution_count": 390,
      "outputs": []
    },
    {
      "cell_type": "code",
      "source": [
        "final_ques11.show()  #final result"
      ],
      "metadata": {
        "colab": {
          "base_uri": "https://localhost:8080/"
        },
        "id": "XIlx2BWwkfOt",
        "outputId": "0112e57f-e3e6-4743-faa3-e8c87c5908fb"
      },
      "execution_count": 391,
      "outputs": [
        {
          "output_type": "stream",
          "name": "stdout",
          "text": [
            "+-----------------+\n",
            "|total_no_of_games|\n",
            "+-----------------+\n",
            "|            19111|\n",
            "+-----------------+\n",
            "\n"
          ]
        }
      ]
    },
    {
      "cell_type": "code",
      "source": [
        "#Question 12"
      ],
      "metadata": {
        "id": "uW9UvbK6BmYV"
      },
      "execution_count": null,
      "outputs": []
    },
    {
      "cell_type": "markdown",
      "source": [
        "12. List All Perfect Tournament with Winner Name.\n",
        "Chess Funda: Perfect Tournament means a player has won all the matches excluding draw matches. e.g Player A has won 5 matches out of 7\n",
        "Matches in tournament where 2 matches are draw and player B has won 0 matches)\n",
        "Result attributes: winner_name, tournament_name\n"
      ],
      "metadata": {
        "id": "Sp6dz3RCBpYV"
      }
    },
    {
      "cell_type": "code",
      "source": [
        "pyspark_df1.show()"
      ],
      "metadata": {
        "id": "XJzvVrAZBmbL",
        "colab": {
          "base_uri": "https://localhost:8080/"
        },
        "outputId": "bf616c9c-4952-4700-b124-ac7c6cc2c87e"
      },
      "execution_count": null,
      "outputs": [
        {
          "output_type": "stream",
          "name": "stdout",
          "text": [
            "+--------------------+----------+--------+----------+-----------+-----+----------------+----------------+-------+---------+---------+-----------+-----------+---------+----------+----------------+---------+---------------------+---+--------------------+---------------+\n",
            "|             game_id|game_order|   event|      site|date_played|round|           white|           black| result|white_elo|black_elo|white_title|black_title|   winner|winner_elo|           loser|loser_elo|winner_loser_elo_diff|eco|        date_created|tournament_name|\n",
            "+--------------------+----------+--------+----------+-----------+-----+----------------+----------------+-------+---------+---------+-----------+-----------+---------+----------+----------------+---------+---------------------+---+--------------------+---------------+\n",
            "|86e0b7f5-7b94-4ae...|         1|WCh 2021| Dubai UAE| 2021.11.26|    1|Nepomniachtchi,I|       Carlsen,M|1/2-1/2|     2782|     2855|       null|       null|     draw|      null|            draw|     null|                    0|C88|2022-07-22T22:33:...| WorldChamp2021|\n",
            "|dc4a10ab-54cf-49d...|         2|WCh 2021| Dubai UAE| 2021.11.27|    2|       Carlsen,M|Nepomniachtchi,I|1/2-1/2|     2855|     2782|       null|       null|     draw|      null|            draw|     null|                    0|E06|2022-07-22T22:33:...| WorldChamp2021|\n",
            "|f042ca37-8899-488...|         3|WCh 2021| Dubai UAE| 2021.11.28|    3|Nepomniachtchi,I|       Carlsen,M|1/2-1/2|     2782|     2855|       null|       null|     draw|      null|            draw|     null|                    0|C88|2022-07-22T22:33:...| WorldChamp2021|\n",
            "|f70e4bbc-21e3-46f...|         4|WCh 2021| Dubai UAE| 2021.11.30|    4|       Carlsen,M|Nepomniachtchi,I|1/2-1/2|     2855|     2782|       null|       null|     draw|      null|            draw|     null|                    0|C42|2022-07-22T22:33:...| WorldChamp2021|\n",
            "|c941c323-308a-4c8...|         5|WCh 2021| Dubai UAE| 2021.12.01|    5|Nepomniachtchi,I|       Carlsen,M|1/2-1/2|     2782|     2855|       null|       null|     draw|      null|            draw|     null|                    0|C88|2022-07-22T22:33:...| WorldChamp2021|\n",
            "|58e83255-93bb-4d5...|         6|WCh 2021| Dubai UAE| 2021.12.03|    6|       Carlsen,M|Nepomniachtchi,I|    1-0|     2855|     2782|       null|       null|Carlsen,M|      2855|Nepomniachtchi,I|     2782|                   73|D02|2022-07-22T22:33:...| WorldChamp2021|\n",
            "|29181d93-73f4-4fb...|         7|WCh 2021| Dubai UAE| 2021.12.04|    7|Nepomniachtchi,I|       Carlsen,M|1/2-1/2|     2782|     2855|       null|       null|     draw|      null|            draw|     null|                    0|C88|2022-07-22T22:33:...| WorldChamp2021|\n",
            "|8a4ccd8c-d437-429...|         8|WCh 2021| Dubai UAE| 2021.12.05|    8|       Carlsen,M|Nepomniachtchi,I|    1-0|     2855|     2782|       null|       null|Carlsen,M|      2855|Nepomniachtchi,I|     2782|                   73|C43|2022-07-22T22:33:...| WorldChamp2021|\n",
            "|55a122db-27d1-495...|         9|WCh 2021| Dubai UAE| 2021.12.07|    9|Nepomniachtchi,I|       Carlsen,M|    0-1|     2782|     2855|       null|       null|Carlsen,M|      2855|Nepomniachtchi,I|     2782|                   73|A13|2022-07-22T22:33:...| WorldChamp2021|\n",
            "|1f900d18-5ea3-4f4...|        10|WCh 2021| Dubai UAE| 2021.12.08|   10|       Carlsen,M|Nepomniachtchi,I|1/2-1/2|     2855|     2782|       null|       null|     draw|      null|            draw|     null|                    0|C42|2022-07-22T22:33:...| WorldChamp2021|\n",
            "|c512a953-a341-47c...|        11|WCh 2021| Dubai UAE| 2021.12.10|   11|Nepomniachtchi,I|       Carlsen,M|    0-1|     2782|     2855|       null|       null|Carlsen,M|      2855|Nepomniachtchi,I|     2782|                   73|C50|2022-07-22T22:33:...| WorldChamp2021|\n",
            "|99d39a93-427e-4d1...|         1|WCh 2018|London ENG| 2018.11.09|    1|Caruana, Fabiano| Carlsen, Magnus|1/2-1/2|     2832|     2835|         GM|         GM|     draw|      null|            draw|     null|                    0|B31|2022-07-22T22:33:...| WorldChamp2018|\n",
            "|c87ceb3e-67a7-45d...|         2|WCh 2018|London ENG| 2018.11.10|    2| Carlsen, Magnus|Caruana, Fabiano|1/2-1/2|     2835|     2832|         GM|         GM|     draw|      null|            draw|     null|                    0|D37|2022-07-22T22:33:...| WorldChamp2018|\n",
            "|d50510ea-9c1a-460...|         3|WCh 2018|London ENG| 2018.11.12|    3|Caruana, Fabiano| Carlsen, Magnus|1/2-1/2|     2832|     2835|         GM|         GM|     draw|      null|            draw|     null|                    0|B31|2022-07-22T22:33:...| WorldChamp2018|\n",
            "|e899e16a-281e-41b...|         4|WCh 2018|London ENG| 2018.11.13|    4| Carlsen, Magnus|Caruana, Fabiano|1/2-1/2|     2835|     2832|         GM|         GM|     draw|      null|            draw|     null|                    0|A29|2022-07-22T22:33:...| WorldChamp2018|\n",
            "|59f8da88-fd21-405...|         5|WCh 2018|London ENG| 2018.11.15|    5|Caruana, Fabiano| Carlsen, Magnus|1/2-1/2|     2832|     2835|         GM|         GM|     draw|      null|            draw|     null|                    0|B31|2022-07-22T22:33:...| WorldChamp2018|\n",
            "|6dcc4b46-3155-47e...|         6|WCh 2018|London ENG| 2018.11.16|    6| Carlsen, Magnus|Caruana, Fabiano|1/2-1/2|     2835|     2832|         GM|         GM|     draw|      null|            draw|     null|                    0|C42|2022-07-22T22:33:...| WorldChamp2018|\n",
            "|c0c727cf-03ec-4b4...|         7|WCh 2018|London ENG| 2018.11.18|    7| Carlsen, Magnus|Caruana, Fabiano|1/2-1/2|     2835|     2832|         GM|         GM|     draw|      null|            draw|     null|                    0|D37|2022-07-22T22:33:...| WorldChamp2018|\n",
            "|4c14e044-cacc-405...|         8|WCh 2018|London ENG| 2018.11.19|    8|Caruana, Fabiano| Carlsen, Magnus|1/2-1/2|     2832|     2835|         GM|         GM|     draw|      null|            draw|     null|                    0|B33|2022-07-22T22:33:...| WorldChamp2018|\n",
            "|3f4eb26e-3cd1-43b...|         9|WCh 2018|London ENG| 2018.11.21|    9| Carlsen, Magnus|Caruana, Fabiano|1/2-1/2|     2835|     2832|         GM|         GM|     draw|      null|            draw|     null|                    0|A29|2022-07-22T22:33:...| WorldChamp2018|\n",
            "+--------------------+----------+--------+----------+-----------+-----+----------------+----------------+-------+---------+---------+-----------+-----------+---------+----------+----------------+---------+---------------------+---+--------------------+---------------+\n",
            "only showing top 20 rows\n",
            "\n"
          ]
        }
      ]
    },
    {
      "cell_type": "code",
      "source": [
        "winner_df1=pyspark_df1.select(\"tournament_name\",\"winner\").groupBy(\"tournament_name\",\"winner\").count().withColumnRenamed(\"count\",\"no_of_wins\")  #selecting particular columns from dataframe1(pyspark_df1)"
      ],
      "metadata": {
        "id": "eMHJuELnGJYD"
      },
      "execution_count": null,
      "outputs": []
    },
    {
      "cell_type": "code",
      "source": [
        "winner_filter_df=winner_df1.filter(winner_df1.winner!=\"draw\") #filtering the dataframe by removing unnnecessary rows"
      ],
      "metadata": {
        "id": "-QUOWAIPbEoU"
      },
      "execution_count": null,
      "outputs": []
    },
    {
      "cell_type": "code",
      "source": [
        "winner_filter_df.show()"
      ],
      "metadata": {
        "colab": {
          "base_uri": "https://localhost:8080/"
        },
        "id": "3rfLgeVhbEpm",
        "outputId": "380e237e-ab92-4d33-9981-c512d2dce9ea"
      },
      "execution_count": null,
      "outputs": [
        {
          "output_type": "stream",
          "name": "stdout",
          "text": [
            "+---------------+--------------------+----------+\n",
            "|tournament_name|              winner|no_of_wins|\n",
            "+---------------+--------------------+----------+\n",
            "|  FideChamp2004|             Kritz,L|         2|\n",
            "| WorldChamp1886|Zukertort, Johann...|         5|\n",
            "|  FideChamp2002|            Nataf,IA|         1|\n",
            "| WorldChamp2006|           Topalov,V|         4|\n",
            "|  FideChamp2000|             Gulko,B|         3|\n",
            "|  FideChamp1999|  Ponomariov, Ruslan|         2|\n",
            "|  FideChamp1999|       Lautier, Joel|         3|\n",
            "|  FideChamp1999|       Dreev, Alexey|         4|\n",
            "|  FideChamp2005|        Morozevich,A|         3|\n",
            "|  FideChamp2002|      Vallejo Pons,F|         2|\n",
            "|  FideChamp2004|          Malakhov,V|         1|\n",
            "|  FideChamp2002|        Radziewicz,I|         1|\n",
            "|  FideChamp2000|            Bacrot,E|         2|\n",
            "|  FideChamp2002|       Baginskaite,C|         2|\n",
            "|  FideChamp2004|           Vasquez,R|         1|\n",
            "|  FideChamp1999|     Georgiev, Kiril|         3|\n",
            "| WorldChamp1935|           Euwe, Max|         9|\n",
            "|  FideChamp2004|             Dreev,A|         6|\n",
            "|  FideChamp2004|        Mamedyarov,S|         3|\n",
            "|  FideChamp2002|        Prudnikova,S|         2|\n",
            "+---------------+--------------------+----------+\n",
            "only showing top 20 rows\n",
            "\n"
          ]
        }
      ]
    },
    {
      "cell_type": "code",
      "source": [
        "loser_df1=pyspark_df1.select(\"tournament_name\",\"loser\").groupBy(\"tournament_name\",\"loser\").count().withColumnRenamed(\"count\",\"no_of_loses\") #finding number of loses for comparing with number of wins"
      ],
      "metadata": {
        "id": "WyDwTPmwbGqK"
      },
      "execution_count": null,
      "outputs": []
    },
    {
      "cell_type": "code",
      "source": [
        "loser_filter_df=loser_df1.filter(loser_df1.loser!=\"draw\")"
      ],
      "metadata": {
        "id": "B-tym-84M58L"
      },
      "execution_count": null,
      "outputs": []
    },
    {
      "cell_type": "code",
      "source": [
        "loser_filter_df.show()"
      ],
      "metadata": {
        "colab": {
          "base_uri": "https://localhost:8080/"
        },
        "id": "RP7l8Q4INHA3",
        "outputId": "912217f7-4d88-49d1-c328-4336ef911712"
      },
      "execution_count": null,
      "outputs": [
        {
          "output_type": "stream",
          "name": "stdout",
          "text": [
            "+---------------+--------------------+-----------+\n",
            "|tournament_name|               loser|no_of_loses|\n",
            "+---------------+--------------------+-----------+\n",
            "|  FideChamp2004|          Johansen,D|          1|\n",
            "|  FideChamp2002|       Dao Thien Hai|          1|\n",
            "|  FideChamp2004|             Kritz,L|          1|\n",
            "| WorldChamp1886|Zukertort, Johann...|         10|\n",
            "|  FideChamp2002|            Nataf,IA|          1|\n",
            "|  FideChamp2000|             Hakki,I|          1|\n",
            "|  FideChamp1999|       Salov, Valery|          2|\n",
            "| WorldChamp2006|           Topalov,V|          5|\n",
            "|  FideChamp2000|             Gulko,B|          1|\n",
            "|  FideChamp1999|  Ponomariov, Ruslan|          3|\n",
            "|  FideChamp2004|           Ganguly,S|          2|\n",
            "|  FideChamp2002|          Kaidanov,G|          1|\n",
            "|  FideChamp2002|             Gulko,B|          1|\n",
            "|  FideChamp1999|       Dreev, Alexey|          3|\n",
            "|  FideChamp1999|       Lautier, Joel|          2|\n",
            "|  FideChamp1998|       Timman, Jan H|          1|\n",
            "|  FideChamp2005|        Morozevich,A|          3|\n",
            "|  FideChamp2004|           Asabri,Hu|          2|\n",
            "|  FideChamp2002|      Vallejo Pons,F|          3|\n",
            "|  FideChamp2002|           Bologan,V|          1|\n",
            "+---------------+--------------------+-----------+\n",
            "only showing top 20 rows\n",
            "\n"
          ]
        }
      ]
    },
    {
      "cell_type": "code",
      "source": [
        "join_winner_loser=loser_filter_df.join(winner_filter_df,\"tournament_name\")  #joining both winner and loser dataframesfor further comparision between number of loss and wins"
      ],
      "metadata": {
        "id": "hYHlc7iCNMyM"
      },
      "execution_count": null,
      "outputs": []
    },
    {
      "cell_type": "code",
      "source": [
        "join_winner_loser.show()"
      ],
      "metadata": {
        "colab": {
          "base_uri": "https://localhost:8080/"
        },
        "id": "pY_zzW0wNM1D",
        "outputId": "6484fce0-8c0a-42de-91a6-a502d1eda9a4"
      },
      "execution_count": null,
      "outputs": [
        {
          "output_type": "stream",
          "name": "stdout",
          "text": [
            "+---------------+----------+-----------+-------------+----------+\n",
            "|tournament_name|     loser|no_of_loses|       winner|no_of_wins|\n",
            "+---------------+----------+-----------+-------------+----------+\n",
            "|  FideChamp2004|Johansen,D|          1|Ye Jiangchuan|         4|\n",
            "|  FideChamp2004|Johansen,D|          1|Harikrishna,P|         2|\n",
            "|  FideChamp2004|Johansen,D|          1|   Akopian,Vl|         4|\n",
            "|  FideChamp2004|Johansen,D|          1|   Van Wely,L|         4|\n",
            "|  FideChamp2004|Johansen,D|          1|   Gurevich,M|         1|\n",
            "|  FideChamp2004|Johansen,D|          1|       Graf,A|         2|\n",
            "|  FideChamp2004|Johansen,D|          1|   Nielsen,PH|         2|\n",
            "|  FideChamp2004|Johansen,D|          1|    Topalov,V|         9|\n",
            "|  FideChamp2004|Johansen,D|          1|  Hamdouchi,H|         3|\n",
            "|  FideChamp2004|Johansen,D|          1|    Paragua,M|         1|\n",
            "|  FideChamp2004|Johansen,D|          1|      Kozul,Z|         5|\n",
            "|  FideChamp2004|Johansen,D|          1|    Adianto,U|         1|\n",
            "|  FideChamp2004|Johansen,D|          1|    Sokolov,I|         2|\n",
            "|  FideChamp2004|Johansen,D|          1|  Moiseenko,A|         2|\n",
            "|  FideChamp2004|Johansen,D|          1|   Grischuk,A|         7|\n",
            "|  FideChamp2004|Johansen,D|          1|  Beliavsky,A|         3|\n",
            "|  FideChamp2004|Johansen,D|          1|    Lputian,S|         2|\n",
            "|  FideChamp2004|Johansen,D|          1|     Kudrin,S|         1|\n",
            "|  FideChamp2004|Johansen,D|          1|     Almasi,Z|         4|\n",
            "|  FideChamp2004|Johansen,D|          1|    Kharlov,A|         4|\n",
            "+---------------+----------+-----------+-------------+----------+\n",
            "only showing top 20 rows\n",
            "\n"
          ]
        }
      ]
    },
    {
      "cell_type": "code",
      "source": [
        "\n",
        "from pyspark.sql.types import IntegerType , StringType"
      ],
      "metadata": {
        "id": "VXUI97UgNkP8"
      },
      "execution_count": null,
      "outputs": []
    },
    {
      "cell_type": "code",
      "source": [
        "final_ques12=join_winner_loser.withColumn(\"no_of_loses\",join_winner_loser[\"no_of_loses\"].cast(IntegerType())) #type conversion of a column to integer type"
      ],
      "metadata": {
        "id": "XnrJv7aYNkSx"
      },
      "execution_count": null,
      "outputs": []
    },
    {
      "cell_type": "code",
      "source": [
        "final_ques12.filter(final_ques12.no_of_loses!=0).drop(\"no_of_wins\",\"no_of_loses\",\"loser\").withColumnRenamed(\"winner\",\"winner_name\").distinct().show() #getting those rows only whos has no losses and removing duplicates"
      ],
      "metadata": {
        "colab": {
          "base_uri": "https://localhost:8080/"
        },
        "id": "meElNe-bM5_I",
        "outputId": "b450584a-316c-497b-b85c-4b05791627be"
      },
      "execution_count": null,
      "outputs": [
        {
          "output_type": "stream",
          "name": "stdout",
          "text": [
            "+---------------+--------------------+\n",
            "|tournament_name|         winner_name|\n",
            "+---------------+--------------------+\n",
            "|  FideChamp2004|             Kritz,L|\n",
            "| WorldChamp1886|Zukertort, Johann...|\n",
            "|  FideChamp2002|            Nataf,IA|\n",
            "| WorldChamp2006|           Topalov,V|\n",
            "|  FideChamp2000|             Gulko,B|\n",
            "|  FideChamp1999|  Ponomariov, Ruslan|\n",
            "|  FideChamp1999|       Lautier, Joel|\n",
            "|  FideChamp1999|       Dreev, Alexey|\n",
            "|  FideChamp2005|        Morozevich,A|\n",
            "|  FideChamp2002|      Vallejo Pons,F|\n",
            "|  FideChamp2004|          Malakhov,V|\n",
            "|  FideChamp2002|        Radziewicz,I|\n",
            "|  FideChamp2000|            Bacrot,E|\n",
            "|  FideChamp2002|       Baginskaite,C|\n",
            "|  FideChamp2004|           Vasquez,R|\n",
            "|  FideChamp1999|     Georgiev, Kiril|\n",
            "| WorldChamp1935|           Euwe, Max|\n",
            "|  FideChamp2004|             Dreev,A|\n",
            "|  FideChamp2004|        Mamedyarov,S|\n",
            "|  FideChamp2002|        Prudnikova,S|\n",
            "+---------------+--------------------+\n",
            "only showing top 20 rows\n",
            "\n"
          ]
        }
      ]
    },
    {
      "cell_type": "code",
      "source": [
        "#Question 13"
      ],
      "metadata": {
        "id": "RYK3RjXCBuqq"
      },
      "execution_count": null,
      "outputs": []
    },
    {
      "cell_type": "markdown",
      "source": [
        "13. Player with highest winning ratio.\n",
        "Hint: Winning ratio: (Number of rounds won)/(Number of rounds played)\n",
        "Result attributes: player_name\n",
        "Final result will have only one row"
      ],
      "metadata": {
        "id": "iXX3p3U5B05Q"
      }
    },
    {
      "cell_type": "code",
      "source": [
        "white_df=pyspark_df1.select(\"white\").groupBy('white').count().withColumnRenamed(\"count\",\"white_count\").withColumnRenamed(\"white\",\"player_name\") #getting columns for calculating total rows"
      ],
      "metadata": {
        "id": "-DeaGN1lBusl"
      },
      "execution_count": null,
      "outputs": []
    },
    {
      "cell_type": "code",
      "source": [
        "white_df.show()"
      ],
      "metadata": {
        "colab": {
          "base_uri": "https://localhost:8080/"
        },
        "id": "1zlZQL9_db8E",
        "outputId": "1ac004c3-9306-4049-da59-7b1bceead88c"
      },
      "execution_count": null,
      "outputs": [
        {
          "output_type": "stream",
          "name": "stdout",
          "text": [
            "+------------------+-----------+\n",
            "|       player_name|white_count|\n",
            "+------------------+-----------+\n",
            "| Hamdouchi, Hichem|          2|\n",
            "|   Fridman, Daniel|          2|\n",
            "|    Svidler, Peter|          7|\n",
            "|   Alterman, Boris|          3|\n",
            "|  Nepomniachtchi,I|          6|\n",
            "|        Ivanchuk,V|         20|\n",
            "|    Andersson, Ulf|         11|\n",
            "|   Jussupow, Artur|          2|\n",
            "|          Piket,Je|          4|\n",
            "|    Van Wely, Loek|          7|\n",
            "|       Onischuk,Al|          3|\n",
            "|      Peng Xiaomin|          8|\n",
            "|      Vladimirov,E|          7|\n",
            "|    Kacheishvili,G|          2|\n",
            "|          Luther,T|          3|\n",
            "| Ivanchuk, Vassily|          5|\n",
            "|Sakaev, Konstantin|          2|\n",
            "| Steinitz, William|         57|\n",
            "|         Carlsen,M|          7|\n",
            "|         Ivanov,AV|          3|\n",
            "+------------------+-----------+\n",
            "only showing top 20 rows\n",
            "\n"
          ]
        }
      ]
    },
    {
      "cell_type": "code",
      "source": [
        "black_df=pyspark_df1.select(\"black\").groupBy('black').count().withColumnRenamed(\"count\",\"black_count\").withColumnRenamed(\"black\",\"player_name\") # count(black) + count(white)=no.of rounds"
      ],
      "metadata": {
        "id": "AvLPn5Xudb9o"
      },
      "execution_count": null,
      "outputs": []
    },
    {
      "cell_type": "code",
      "source": [
        "black_df.show()"
      ],
      "metadata": {
        "colab": {
          "base_uri": "https://localhost:8080/"
        },
        "id": "sQfpf-zWdcAW",
        "outputId": "6e724111-3bef-4a0c-85a9-cafb34bde6fd"
      },
      "execution_count": null,
      "outputs": [
        {
          "output_type": "stream",
          "name": "stdout",
          "text": [
            "+------------------+-----------+\n",
            "|       player_name|black_count|\n",
            "+------------------+-----------+\n",
            "| Hamdouchi, Hichem|          2|\n",
            "|   Fridman, Daniel|          2|\n",
            "|    Svidler, Peter|          7|\n",
            "|   Alterman, Boris|          3|\n",
            "|  Nepomniachtchi,I|          5|\n",
            "|        Ivanchuk,V|         21|\n",
            "|    Andersson, Ulf|         11|\n",
            "|   Jussupow, Artur|          2|\n",
            "|          Piket,Je|          4|\n",
            "|    Van Wely, Loek|          7|\n",
            "|       Onischuk,Al|          3|\n",
            "|      Peng Xiaomin|          8|\n",
            "|    Kacheishvili,G|          2|\n",
            "|      Vladimirov,E|          8|\n",
            "|          Luther,T|          3|\n",
            "|Sakaev, Konstantin|          2|\n",
            "| Ivanchuk, Vassily|          5|\n",
            "| Steinitz, William|         58|\n",
            "|         Carlsen,M|          8|\n",
            "|         Ivanov,AV|          3|\n",
            "+------------------+-----------+\n",
            "only showing top 20 rows\n",
            "\n"
          ]
        }
      ]
    },
    {
      "cell_type": "code",
      "source": [
        "join_whitedf_blackdf=black_df.join(white_df,\"player_name\") #joined the tables to add bot balck count and white count"
      ],
      "metadata": {
        "id": "uridpMRrdcB2"
      },
      "execution_count": null,
      "outputs": []
    },
    {
      "cell_type": "code",
      "source": [
        "join_whitedf_blackdf.show()"
      ],
      "metadata": {
        "colab": {
          "base_uri": "https://localhost:8080/"
        },
        "id": "EFKO9WmOqTyD",
        "outputId": "05238561-f80a-4486-fcb9-3e70dbc1e0f5"
      },
      "execution_count": null,
      "outputs": [
        {
          "output_type": "stream",
          "name": "stdout",
          "text": [
            "+------------------+-----------+-----------+\n",
            "|       player_name|black_count|white_count|\n",
            "+------------------+-----------+-----------+\n",
            "| Hamdouchi, Hichem|          2|          2|\n",
            "|   Fridman, Daniel|          2|          2|\n",
            "|    Svidler, Peter|          7|          7|\n",
            "|   Alterman, Boris|          3|          3|\n",
            "|  Nepomniachtchi,I|          5|          6|\n",
            "|        Ivanchuk,V|         21|         20|\n",
            "|    Andersson, Ulf|         11|         11|\n",
            "|   Jussupow, Artur|          2|          2|\n",
            "|          Piket,Je|          4|          4|\n",
            "|    Van Wely, Loek|          7|          7|\n",
            "|       Onischuk,Al|          3|          3|\n",
            "|      Peng Xiaomin|          8|          8|\n",
            "|    Kacheishvili,G|          2|          2|\n",
            "|      Vladimirov,E|          8|          7|\n",
            "|          Luther,T|          3|          3|\n",
            "|Sakaev, Konstantin|          2|          2|\n",
            "| Ivanchuk, Vassily|          5|          5|\n",
            "| Steinitz, William|         58|         57|\n",
            "|         Carlsen,M|          8|          7|\n",
            "|         Ivanov,AV|          3|          3|\n",
            "+------------------+-----------+-----------+\n",
            "only showing top 20 rows\n",
            "\n"
          ]
        }
      ]
    },
    {
      "cell_type": "code",
      "source": [
        "winner_df=pyspark_df1.select(\"winner\").groupBy('winner').count().withColumnRenamed(\"count\",\"no_of_wins\").withColumnRenamed(\"winner\",\"player_name\")"
      ],
      "metadata": {
        "id": "ikvt9r27dcFZ"
      },
      "execution_count": null,
      "outputs": []
    },
    {
      "cell_type": "code",
      "source": [
        "winner_df.show()"
      ],
      "metadata": {
        "colab": {
          "base_uri": "https://localhost:8080/"
        },
        "id": "RXRwwe0WqmRQ",
        "outputId": "35c8c77c-edb5-47c7-8a52-dbd20dd1ae94"
      },
      "execution_count": null,
      "outputs": [
        {
          "output_type": "stream",
          "name": "stdout",
          "text": [
            "+------------------+----------+\n",
            "|       player_name|no_of_wins|\n",
            "+------------------+----------+\n",
            "|   Fridman, Daniel|         2|\n",
            "|    Svidler, Peter|         4|\n",
            "|   Alterman, Boris|         1|\n",
            "|        Ivanchuk,V|        12|\n",
            "|    Andersson, Ulf|         5|\n",
            "|   Jussupow, Artur|         1|\n",
            "|          Piket,Je|         3|\n",
            "|    Van Wely, Loek|         4|\n",
            "|       Onischuk,Al|         1|\n",
            "|      Peng Xiaomin|         5|\n",
            "|    Kacheishvili,G|         1|\n",
            "|      Vladimirov,E|         4|\n",
            "|          Luther,T|         3|\n",
            "| Ivanchuk, Vassily|         4|\n",
            "| Steinitz, William|        43|\n",
            "|         Carlsen,M|         4|\n",
            "|         Ivanov,AV|         1|\n",
            "|Istratescu, Andrei|         2|\n",
            "|        Tiviakov,S|         5|\n",
            "|   Karpov, Anatoly|        47|\n",
            "+------------------+----------+\n",
            "only showing top 20 rows\n",
            "\n"
          ]
        }
      ]
    },
    {
      "cell_type": "code",
      "source": [
        "winner_df2=winner_df.join(join_whitedf_blackdf,\"player_name\")"
      ],
      "metadata": {
        "id": "IrcpeZwpqpiE"
      },
      "execution_count": null,
      "outputs": []
    },
    {
      "cell_type": "code",
      "source": [
        "winner_df2.show()"
      ],
      "metadata": {
        "colab": {
          "base_uri": "https://localhost:8080/"
        },
        "id": "90DCt3tLqpk5",
        "outputId": "87e71c5f-975a-4e13-a9f9-3389357be6b4"
      },
      "execution_count": null,
      "outputs": [
        {
          "output_type": "stream",
          "name": "stdout",
          "text": [
            "+------------------+----------+-----------+-----------+\n",
            "|       player_name|no_of_wins|black_count|white_count|\n",
            "+------------------+----------+-----------+-----------+\n",
            "|   Fridman, Daniel|         2|          2|          2|\n",
            "|    Svidler, Peter|         4|          7|          7|\n",
            "|   Alterman, Boris|         1|          3|          3|\n",
            "|        Ivanchuk,V|        12|         21|         20|\n",
            "|    Andersson, Ulf|         5|         11|         11|\n",
            "|   Jussupow, Artur|         1|          2|          2|\n",
            "|          Piket,Je|         3|          4|          4|\n",
            "|    Van Wely, Loek|         4|          7|          7|\n",
            "|       Onischuk,Al|         1|          3|          3|\n",
            "|      Peng Xiaomin|         5|          8|          8|\n",
            "|    Kacheishvili,G|         1|          2|          2|\n",
            "|      Vladimirov,E|         4|          8|          7|\n",
            "|          Luther,T|         3|          3|          3|\n",
            "| Ivanchuk, Vassily|         4|          5|          5|\n",
            "| Steinitz, William|        43|         58|         57|\n",
            "|         Carlsen,M|         4|          8|          7|\n",
            "|         Ivanov,AV|         1|          3|          3|\n",
            "|Istratescu, Andrei|         2|          3|          4|\n",
            "|        Tiviakov,S|         5|          9|          8|\n",
            "|   Karpov, Anatoly|        47|        121|        120|\n",
            "+------------------+----------+-----------+-----------+\n",
            "only showing top 20 rows\n",
            "\n"
          ]
        }
      ]
    },
    {
      "cell_type": "code",
      "source": [
        "from pyspark.sql.types import IntegerType , StringType,FloatType"
      ],
      "metadata": {
        "id": "VnlV_mC7sMqZ"
      },
      "execution_count": null,
      "outputs": []
    },
    {
      "cell_type": "code",
      "source": [
        "winner_df2=winner_df2.withColumn(\"white_count\",winner_df2[\"white_count\"].cast(IntegerType()))    #type conversion of column into integer type"
      ],
      "metadata": {
        "id": "Q4ZFx44PsYk6"
      },
      "execution_count": null,
      "outputs": []
    },
    {
      "cell_type": "code",
      "source": [
        "winner_df2=winner_df2.withColumn(\"black_count\",winner_df2[\"black_count\"].cast(IntegerType()))"
      ],
      "metadata": {
        "id": "j6TlOOdfspw7"
      },
      "execution_count": null,
      "outputs": []
    },
    {
      "cell_type": "code",
      "source": [
        "winner_df2=winner_df2.withColumn(\"no_of_wins\",winner_df2[\"no_of_wins\"].cast(IntegerType()))"
      ],
      "metadata": {
        "id": "OkmB_A9zspzy"
      },
      "execution_count": null,
      "outputs": []
    },
    {
      "cell_type": "code",
      "source": [
        "winner_df2.show()"
      ],
      "metadata": {
        "colab": {
          "base_uri": "https://localhost:8080/"
        },
        "id": "RXXUpicCtHbi",
        "outputId": "6401eb35-754e-4884-a291-2381a0fd00d7"
      },
      "execution_count": null,
      "outputs": [
        {
          "output_type": "stream",
          "name": "stdout",
          "text": [
            "+------------------+----------+-----------+-----------+\n",
            "|       player_name|no_of_wins|black_count|white_count|\n",
            "+------------------+----------+-----------+-----------+\n",
            "|   Fridman, Daniel|         2|          2|          2|\n",
            "|    Svidler, Peter|         4|          7|          7|\n",
            "|   Alterman, Boris|         1|          3|          3|\n",
            "|        Ivanchuk,V|        12|         21|         20|\n",
            "|    Andersson, Ulf|         5|         11|         11|\n",
            "|   Jussupow, Artur|         1|          2|          2|\n",
            "|          Piket,Je|         3|          4|          4|\n",
            "|    Van Wely, Loek|         4|          7|          7|\n",
            "|       Onischuk,Al|         1|          3|          3|\n",
            "|      Peng Xiaomin|         5|          8|          8|\n",
            "|    Kacheishvili,G|         1|          2|          2|\n",
            "|      Vladimirov,E|         4|          8|          7|\n",
            "|          Luther,T|         3|          3|          3|\n",
            "| Ivanchuk, Vassily|         4|          5|          5|\n",
            "| Steinitz, William|        43|         58|         57|\n",
            "|         Carlsen,M|         4|          8|          7|\n",
            "|         Ivanov,AV|         1|          3|          3|\n",
            "|Istratescu, Andrei|         2|          3|          4|\n",
            "|        Tiviakov,S|         5|          9|          8|\n",
            "|   Karpov, Anatoly|        47|        121|        120|\n",
            "+------------------+----------+-----------+-----------+\n",
            "only showing top 20 rows\n",
            "\n"
          ]
        }
      ]
    },
    {
      "cell_type": "code",
      "source": [
        "rounds_df=winner_df2.withColumn(\"no_of_rounds\",winner_df2.black_count+winner_df2.white_count) #calculating total rounds by adding black_count and white_count column"
      ],
      "metadata": {
        "id": "carQGgvptPYU"
      },
      "execution_count": null,
      "outputs": []
    },
    {
      "cell_type": "code",
      "source": [
        "rounds_df.show()"
      ],
      "metadata": {
        "colab": {
          "base_uri": "https://localhost:8080/"
        },
        "id": "O5JoTIWmtZfs",
        "outputId": "c3485c6d-eb03-409f-9b1a-069b479ee010"
      },
      "execution_count": null,
      "outputs": [
        {
          "output_type": "stream",
          "name": "stdout",
          "text": [
            "+------------------+----------+-----------+-----------+------------+\n",
            "|       player_name|no_of_wins|black_count|white_count|no_of_rounds|\n",
            "+------------------+----------+-----------+-----------+------------+\n",
            "|   Fridman, Daniel|         2|          2|          2|           4|\n",
            "|    Svidler, Peter|         4|          7|          7|          14|\n",
            "|   Alterman, Boris|         1|          3|          3|           6|\n",
            "|        Ivanchuk,V|        12|         21|         20|          41|\n",
            "|    Andersson, Ulf|         5|         11|         11|          22|\n",
            "|   Jussupow, Artur|         1|          2|          2|           4|\n",
            "|          Piket,Je|         3|          4|          4|           8|\n",
            "|    Van Wely, Loek|         4|          7|          7|          14|\n",
            "|       Onischuk,Al|         1|          3|          3|           6|\n",
            "|      Peng Xiaomin|         5|          8|          8|          16|\n",
            "|    Kacheishvili,G|         1|          2|          2|           4|\n",
            "|      Vladimirov,E|         4|          8|          7|          15|\n",
            "|          Luther,T|         3|          3|          3|           6|\n",
            "| Ivanchuk, Vassily|         4|          5|          5|          10|\n",
            "| Steinitz, William|        43|         58|         57|         115|\n",
            "|         Carlsen,M|         4|          8|          7|          15|\n",
            "|         Ivanov,AV|         1|          3|          3|           6|\n",
            "|Istratescu, Andrei|         2|          3|          4|           7|\n",
            "|        Tiviakov,S|         5|          9|          8|          17|\n",
            "|   Karpov, Anatoly|        47|        121|        120|         241|\n",
            "+------------------+----------+-----------+-----------+------------+\n",
            "only showing top 20 rows\n",
            "\n"
          ]
        }
      ]
    },
    {
      "cell_type": "code",
      "source": [
        "winning_ratio_df=rounds_df.withColumn(\"winning_ratio\",rounds_df.no_of_wins/rounds_df.no_of_rounds) #calculating winning ratio by dividing no.of wins with no.of rounds of a player"
      ],
      "metadata": {
        "id": "dksbA_D6thWL"
      },
      "execution_count": null,
      "outputs": []
    },
    {
      "cell_type": "code",
      "source": [
        "winning_ratio_df.show()"
      ],
      "metadata": {
        "colab": {
          "base_uri": "https://localhost:8080/"
        },
        "id": "W7zjQpEJtxk3",
        "outputId": "cbb6d00f-4818-4eca-fa62-6d56cf1d47f0"
      },
      "execution_count": null,
      "outputs": [
        {
          "output_type": "stream",
          "name": "stdout",
          "text": [
            "+------------------+----------+-----------+-----------+------------+-------------------+\n",
            "|       player_name|no_of_wins|black_count|white_count|no_of_rounds|      winning_ratio|\n",
            "+------------------+----------+-----------+-----------+------------+-------------------+\n",
            "|   Fridman, Daniel|         2|          2|          2|           4|                0.5|\n",
            "|    Svidler, Peter|         4|          7|          7|          14| 0.2857142857142857|\n",
            "|   Alterman, Boris|         1|          3|          3|           6|0.16666666666666666|\n",
            "|        Ivanchuk,V|        12|         21|         20|          41| 0.2926829268292683|\n",
            "|    Andersson, Ulf|         5|         11|         11|          22|0.22727272727272727|\n",
            "|   Jussupow, Artur|         1|          2|          2|           4|               0.25|\n",
            "|          Piket,Je|         3|          4|          4|           8|              0.375|\n",
            "|    Van Wely, Loek|         4|          7|          7|          14| 0.2857142857142857|\n",
            "|       Onischuk,Al|         1|          3|          3|           6|0.16666666666666666|\n",
            "|      Peng Xiaomin|         5|          8|          8|          16|             0.3125|\n",
            "|    Kacheishvili,G|         1|          2|          2|           4|               0.25|\n",
            "|      Vladimirov,E|         4|          8|          7|          15|0.26666666666666666|\n",
            "|          Luther,T|         3|          3|          3|           6|                0.5|\n",
            "| Ivanchuk, Vassily|         4|          5|          5|          10|                0.4|\n",
            "| Steinitz, William|        43|         58|         57|         115| 0.3739130434782609|\n",
            "|         Carlsen,M|         4|          8|          7|          15|0.26666666666666666|\n",
            "|         Ivanov,AV|         1|          3|          3|           6|0.16666666666666666|\n",
            "|Istratescu, Andrei|         2|          3|          4|           7| 0.2857142857142857|\n",
            "|        Tiviakov,S|         5|          9|          8|          17|0.29411764705882354|\n",
            "|   Karpov, Anatoly|        47|        121|        120|         241| 0.1950207468879668|\n",
            "+------------------+----------+-----------+-----------+------------+-------------------+\n",
            "only showing top 20 rows\n",
            "\n"
          ]
        }
      ]
    },
    {
      "cell_type": "code",
      "source": [
        "winning_ratio_df=winning_ratio_df.withColumn(\"winning_ratio\",winning_ratio_df[\"winning_ratio\"].cast(FloatType()))"
      ],
      "metadata": {
        "id": "DW42CuYPt7UY"
      },
      "execution_count": null,
      "outputs": []
    },
    {
      "cell_type": "code",
      "source": [
        "max_winning_ratio=winning_ratio_df.agg({\"winning_ratio\":\"max\"}).collect()[0][0] # finding max winning ratio"
      ],
      "metadata": {
        "id": "sLflgyqeuHFW"
      },
      "execution_count": null,
      "outputs": []
    },
    {
      "cell_type": "code",
      "source": [
        "ques13=winning_ratio_df.filter(winning_ratio_df.winning_ratio==max_winning_ratio)  #filtering the final dataframe to get only maximum winning ratio row"
      ],
      "metadata": {
        "id": "V3PbVUh0uWCX"
      },
      "execution_count": null,
      "outputs": []
    },
    {
      "cell_type": "code",
      "source": [
        "ques13.show()"
      ],
      "metadata": {
        "colab": {
          "base_uri": "https://localhost:8080/"
        },
        "id": "aC-u9OA9uo1F",
        "outputId": "b6d64b75-c34b-44b6-e8ca-291ae82ecdc4"
      },
      "execution_count": null,
      "outputs": [
        {
          "output_type": "stream",
          "name": "stdout",
          "text": [
            "+-----------+----------+-----------+-----------+------------+-------------+\n",
            "|player_name|no_of_wins|black_count|white_count|no_of_rounds|winning_ratio|\n",
            "+-----------+----------+-----------+-----------+------------+-------------+\n",
            "| Kiseleva,N|         2|          1|          1|           2|          1.0|\n",
            "|   Foisor,C|         2|          1|          1|           2|          1.0|\n",
            "+-----------+----------+-----------+-----------+------------+-------------+\n",
            "\n"
          ]
        }
      ]
    },
    {
      "cell_type": "code",
      "source": [
        "ques13.select(\"player_name\").show()  # this is the name of the player"
      ],
      "metadata": {
        "colab": {
          "base_uri": "https://localhost:8080/"
        },
        "id": "zqHyGQgDutlf",
        "outputId": "e5a738f3-68e5-4288-e23d-5230af687841"
      },
      "execution_count": null,
      "outputs": [
        {
          "output_type": "stream",
          "name": "stdout",
          "text": [
            "+-----------+\n",
            "|player_name|\n",
            "+-----------+\n",
            "| Kiseleva,N|\n",
            "|   Foisor,C|\n",
            "+-----------+\n",
            "\n"
          ]
        }
      ]
    },
    {
      "cell_type": "code",
      "source": [
        ""
      ],
      "metadata": {
        "id": "N23xn_pYuuDv"
      },
      "execution_count": null,
      "outputs": []
    },
    {
      "cell_type": "code",
      "source": [
        ""
      ],
      "metadata": {
        "id": "dYCuYwxdtPbJ"
      },
      "execution_count": null,
      "outputs": []
    },
    {
      "cell_type": "code",
      "source": [
        "#Question 14"
      ],
      "metadata": {
        "id": "ADiTU5mBB31y"
      },
      "execution_count": null,
      "outputs": []
    },
    {
      "cell_type": "markdown",
      "source": [
        "14. Player who had given checkmate with Pawn.\n",
        "Note: Consider all events for this query\n",
        "Result attributes: player_name\n",
        "Final result will have only one row"
      ],
      "metadata": {
        "id": "LsLo5cvgB9AI"
      }
    },
    {
      "cell_type": "code",
      "source": [
        ""
      ],
      "metadata": {
        "id": "WgkC7Xy-Y27a"
      },
      "execution_count": null,
      "outputs": []
    },
    {
      "cell_type": "code",
      "source": [
        "pyspark_df2.show()"
      ],
      "metadata": {
        "colab": {
          "base_uri": "https://localhost:8080/"
        },
        "id": "UEFX51_wzYi-",
        "outputId": "99984874-ec4e-4f63-ae15-49d548dd6fb9"
      },
      "execution_count": null,
      "outputs": [
        {
          "output_type": "stream",
          "name": "stdout",
          "text": [
            "+--------------------+-------+------------+----------------+--------+----+-----------+---------+-----+-----+--------------------+--------+-------------+--------------+----------------------+------------+------------------------+-----------+-----------+----------------+----------------+-----------------+-----------------+------------------+------------------+------------------+------------------+----------------+----------------+------------------------+------------------------+--------------------+--------------------+--------------------+--------------------+--------------------+--------------------+--------------------+--------------------+--------------------+--------------------+--------------------+--------------------+--------------------+--------------------+--------------------+--------------------+--------------------+--------------------+--------------------+--------------------+--------------------+--------------------+--------------------+--------------------+--------------------+--------------------+--------------------+--------------------+--------------------+--------------------+--------------------+--------------------+--------------------+\n",
            "|             game_id|move_no|move_no_pair|          player|notation|move|from_square|to_square|piece|color|                 fen|is_check|is_check_mate|is_fifty_moves|is_fivefold_repetition|is_game_over|is_insufficient_material|white_count|black_count|white_pawn_count|black_pawn_count|white_queen_count|black_queen_count|white_bishop_count|black_bishop_count|white_knight_count|black_knight_count|white_rook_count|black_rook_count|captured_score_for_white|captured_score_for_black|fen_row1_white_count|fen_row2_white_count|fen_row3_white_count|fen_row4_white_count|fen_row5_white_count|fen_row6_white_count|fen_row7_white_count|fen_row8_white_count|fen_row1_white_value|fen_row2_white_value|fen_row3_white_value|fen_row4_white_value|fen_row5_white_value|fen_row6_white_value|fen_row7_white_value|fen_row8_white_value|fen_row1_black_count|fen_row2_black_count|fen_row3_black_count|fen_row4_black_count|fen_row5_black_count|fen_row6_black_count|fen_row7_black_count|fen_row8_black_count|fen_row1_black_value|fen_row2_black_value|fen_row3_black_value|fen_row4_black_value|fen_row5_black_value|fen_row6_black_value|fen_row7_black_value|fen_row8_black_value|       move_sequence|\n",
            "+--------------------+-------+------------+----------------+--------+----+-----------+---------+-----+-----+--------------------+--------+-------------+--------------+----------------------+------------+------------------------+-----------+-----------+----------------+----------------+-----------------+-----------------+------------------+------------------+------------------+------------------+----------------+----------------+------------------------+------------------------+--------------------+--------------------+--------------------+--------------------+--------------------+--------------------+--------------------+--------------------+--------------------+--------------------+--------------------+--------------------+--------------------+--------------------+--------------------+--------------------+--------------------+--------------------+--------------------+--------------------+--------------------+--------------------+--------------------+--------------------+--------------------+--------------------+--------------------+--------------------+--------------------+--------------------+--------------------+--------------------+--------------------+\n",
            "|86e0b7f5-7b94-4ae...|      1|           1|Nepomniachtchi,I|      e4|e2e4|         e2|       e4|    P|White|rnbqkbnr/pppppppp...|       0|            0|             0|                     0|           0|                       0|         16|         16|               8|               8|                1|                1|                 2|                 2|                 2|                 2|               2|               2|                       0|                       0|                   8|                   7|                   0|                   1|                   0|                   0|                   0|                   0|                  31|                   7|                   0|                   1|                   0|                   0|                   0|                   0|                   0|                   0|                   0|                   0|                   0|                   0|                   8|                   8|                   0|                   0|                   0|                   0|                   0|                   0|                   8|                  31|                  e4|\n",
            "|86e0b7f5-7b94-4ae...|      2|           1|       Carlsen,M|      e5|e7e5|         e7|       e5|    P|Black|rnbqkbnr/pppp1ppp...|       0|            0|             0|                     0|           0|                       0|         16|         16|               8|               8|                1|                1|                 2|                 2|                 2|                 2|               2|               2|                       0|                       0|                   8|                   7|                   0|                   1|                   0|                   0|                   0|                   0|                  31|                   7|                   0|                   1|                   0|                   0|                   0|                   0|                   0|                   0|                   0|                   0|                   1|                   0|                   7|                   8|                   0|                   0|                   0|                   0|                   1|                   0|                   7|                  31|               e4|e5|\n",
            "|86e0b7f5-7b94-4ae...|      3|           2|Nepomniachtchi,I|     Nf3|g1f3|         g1|       f3|    N|White|rnbqkbnr/pppp1ppp...|       0|            0|             0|                     0|           0|                       0|         16|         16|               8|               8|                1|                1|                 2|                 2|                 2|                 2|               2|               2|                       0|                       0|                   7|                   7|                   1|                   1|                   0|                   0|                   0|                   0|                  28|                   7|                   3|                   1|                   0|                   0|                   0|                   0|                   0|                   0|                   0|                   0|                   1|                   0|                   7|                   8|                   0|                   0|                   0|                   0|                   1|                   0|                   7|                  31|           e4|e5|Nf3|\n",
            "|86e0b7f5-7b94-4ae...|      4|           2|       Carlsen,M|     Nc6|b8c6|         b8|       c6|    N|Black|r1bqkbnr/pppp1ppp...|       0|            0|             0|                     0|           0|                       0|         16|         16|               8|               8|                1|                1|                 2|                 2|                 2|                 2|               2|               2|                       0|                       0|                   7|                   7|                   1|                   1|                   0|                   0|                   0|                   0|                  28|                   7|                   3|                   1|                   0|                   0|                   0|                   0|                   0|                   0|                   0|                   0|                   1|                   1|                   7|                   7|                   0|                   0|                   0|                   0|                   1|                   3|                   7|                  28|       e4|e5|Nf3|Nc6|\n",
            "|86e0b7f5-7b94-4ae...|      5|           3|Nepomniachtchi,I|     Bb5|f1b5|         f1|       b5|    B|White|r1bqkbnr/pppp1ppp...|       0|            0|             0|                     0|           0|                       0|         16|         16|               8|               8|                1|                1|                 2|                 2|                 2|                 2|               2|               2|                       0|                       0|                   6|                   7|                   1|                   1|                   1|                   0|                   0|                   0|                  25|                   7|                   3|                   1|                   3|                   0|                   0|                   0|                   0|                   0|                   0|                   0|                   1|                   1|                   7|                   7|                   0|                   0|                   0|                   0|                   1|                   3|                   7|                  28|   e4|e5|Nf3|Nc6|Bb5|\n",
            "|86e0b7f5-7b94-4ae...|      6|           3|       Carlsen,M|      a6|a7a6|         a7|       a6|    P|Black|r1bqkbnr/1ppp1ppp...|       0|            0|             0|                     0|           0|                       0|         16|         16|               8|               8|                1|                1|                 2|                 2|                 2|                 2|               2|               2|                       0|                       0|                   6|                   7|                   1|                   1|                   1|                   0|                   0|                   0|                  25|                   7|                   3|                   1|                   3|                   0|                   0|                   0|                   0|                   0|                   0|                   0|                   1|                   2|                   6|                   7|                   0|                   0|                   0|                   0|                   1|                   4|                   6|                  28|e4|e5|Nf3|Nc6|Bb5|a6|\n",
            "|86e0b7f5-7b94-4ae...|      7|           4|Nepomniachtchi,I|     Ba4|b5a4|         b5|       a4|    B|White|r1bqkbnr/1ppp1ppp...|       0|            0|             0|                     0|           0|                       0|         16|         16|               8|               8|                1|                1|                 2|                 2|                 2|                 2|               2|               2|                       0|                       0|                   6|                   7|                   1|                   2|                   0|                   0|                   0|                   0|                  25|                   7|                   3|                   4|                   0|                   0|                   0|                   0|                   0|                   0|                   0|                   0|                   1|                   2|                   6|                   7|                   0|                   0|                   0|                   0|                   1|                   4|                   6|                  28|e4|e5|Nf3|Nc6|Bb5...|\n",
            "|86e0b7f5-7b94-4ae...|      8|           4|       Carlsen,M|     Nf6|g8f6|         g8|       f6|    N|Black|r1bqkb1r/1ppp1ppp...|       0|            0|             0|                     0|           0|                       0|         16|         16|               8|               8|                1|                1|                 2|                 2|                 2|                 2|               2|               2|                       0|                       0|                   6|                   7|                   1|                   2|                   0|                   0|                   0|                   0|                  25|                   7|                   3|                   4|                   0|                   0|                   0|                   0|                   0|                   0|                   0|                   0|                   1|                   3|                   6|                   6|                   0|                   0|                   0|                   0|                   1|                   7|                   6|                  25|e4|e5|Nf3|Nc6|Bb5...|\n",
            "|86e0b7f5-7b94-4ae...|      9|           5|Nepomniachtchi,I|     O-O|e1g1|         e1|       g1|    K|White|r1bqkb1r/1ppp1ppp...|       0|            0|             0|                     0|           0|                       0|         16|         16|               8|               8|                1|                1|                 2|                 2|                 2|                 2|               2|               2|                       0|                       0|                   6|                   7|                   1|                   2|                   0|                   0|                   0|                   0|                  25|                   7|                   3|                   4|                   0|                   0|                   0|                   0|                   0|                   0|                   0|                   0|                   1|                   3|                   6|                   6|                   0|                   0|                   0|                   0|                   1|                   7|                   6|                  25|e4|e5|Nf3|Nc6|Bb5...|\n",
            "|86e0b7f5-7b94-4ae...|     10|           5|       Carlsen,M|     Be7|f8e7|         f8|       e7|    B|Black|r1bqk2r/1pppbppp/...|       0|            0|             0|                     0|           0|                       0|         16|         16|               8|               8|                1|                1|                 2|                 2|                 2|                 2|               2|               2|                       0|                       0|                   6|                   7|                   1|                   2|                   0|                   0|                   0|                   0|                  25|                   7|                   3|                   4|                   0|                   0|                   0|                   0|                   0|                   0|                   0|                   0|                   1|                   3|                   7|                   5|                   0|                   0|                   0|                   0|                   1|                   7|                   9|                  22|e4|e5|Nf3|Nc6|Bb5...|\n",
            "|86e0b7f5-7b94-4ae...|     11|           6|Nepomniachtchi,I|     Re1|f1e1|         f1|       e1|    R|White|r1bqk2r/1pppbppp/...|       0|            0|             0|                     0|           0|                       0|         16|         16|               8|               8|                1|                1|                 2|                 2|                 2|                 2|               2|               2|                       0|                       0|                   6|                   7|                   1|                   2|                   0|                   0|                   0|                   0|                  25|                   7|                   3|                   4|                   0|                   0|                   0|                   0|                   0|                   0|                   0|                   0|                   1|                   3|                   7|                   5|                   0|                   0|                   0|                   0|                   1|                   7|                   9|                  22|e4|e5|Nf3|Nc6|Bb5...|\n",
            "|86e0b7f5-7b94-4ae...|     12|           6|       Carlsen,M|      b5|b7b5|         b7|       b5|    P|Black|r1bqk2r/2ppbppp/p...|       0|            0|             0|                     0|           0|                       0|         16|         16|               8|               8|                1|                1|                 2|                 2|                 2|                 2|               2|               2|                       0|                       0|                   6|                   7|                   1|                   2|                   0|                   0|                   0|                   0|                  25|                   7|                   3|                   4|                   0|                   0|                   0|                   0|                   0|                   0|                   0|                   0|                   2|                   3|                   6|                   5|                   0|                   0|                   0|                   0|                   2|                   7|                   8|                  22|e4|e5|Nf3|Nc6|Bb5...|\n",
            "|86e0b7f5-7b94-4ae...|     13|           7|Nepomniachtchi,I|     Bb3|a4b3|         a4|       b3|    B|White|r1bqk2r/2ppbppp/p...|       0|            0|             0|                     0|           0|                       0|         16|         16|               8|               8|                1|                1|                 2|                 2|                 2|                 2|               2|               2|                       0|                       0|                   6|                   7|                   2|                   1|                   0|                   0|                   0|                   0|                  25|                   7|                   6|                   1|                   0|                   0|                   0|                   0|                   0|                   0|                   0|                   0|                   2|                   3|                   6|                   5|                   0|                   0|                   0|                   0|                   2|                   7|                   8|                  22|e4|e5|Nf3|Nc6|Bb5...|\n",
            "|86e0b7f5-7b94-4ae...|     14|           7|       Carlsen,M|     O-O|e8g8|         e8|       g8|    K|Black|r1bq1rk1/2ppbppp/...|       0|            0|             0|                     0|           0|                       0|         16|         16|               8|               8|                1|                1|                 2|                 2|                 2|                 2|               2|               2|                       0|                       0|                   6|                   7|                   2|                   1|                   0|                   0|                   0|                   0|                  25|                   7|                   6|                   1|                   0|                   0|                   0|                   0|                   0|                   0|                   0|                   0|                   2|                   3|                   6|                   5|                   0|                   0|                   0|                   0|                   2|                   7|                   8|                  22|e4|e5|Nf3|Nc6|Bb5...|\n",
            "|86e0b7f5-7b94-4ae...|     15|           8|Nepomniachtchi,I|      h3|h2h3|         h2|       h3|    P|White|r1bq1rk1/2ppbppp/...|       0|            0|             0|                     0|           0|                       0|         16|         16|               8|               8|                1|                1|                 2|                 2|                 2|                 2|               2|               2|                       0|                       0|                   6|                   6|                   3|                   1|                   0|                   0|                   0|                   0|                  25|                   6|                   7|                   1|                   0|                   0|                   0|                   0|                   0|                   0|                   0|                   0|                   2|                   3|                   6|                   5|                   0|                   0|                   0|                   0|                   2|                   7|                   8|                  22|e4|e5|Nf3|Nc6|Bb5...|\n",
            "|86e0b7f5-7b94-4ae...|     16|           8|       Carlsen,M|     Na5|c6a5|         c6|       a5|    N|Black|r1bq1rk1/2ppbppp/...|       0|            0|             0|                     0|           0|                       0|         16|         16|               8|               8|                1|                1|                 2|                 2|                 2|                 2|               2|               2|                       0|                       0|                   6|                   6|                   3|                   1|                   0|                   0|                   0|                   0|                  25|                   6|                   7|                   1|                   0|                   0|                   0|                   0|                   0|                   0|                   0|                   0|                   3|                   2|                   6|                   5|                   0|                   0|                   0|                   0|                   5|                   4|                   8|                  22|e4|e5|Nf3|Nc6|Bb5...|\n",
            "|86e0b7f5-7b94-4ae...|     17|           9|Nepomniachtchi,I|    Nxe5|f3e5|         f3|       e5|    N|White|r1bq1rk1/2ppbppp/...|       0|            0|             0|                     0|           0|                       0|         16|         15|               8|               7|                1|                1|                 2|                 2|                 2|                 2|               2|               2|                       1|                       0|                   6|                   6|                   2|                   1|                   1|                   0|                   0|                   0|                  25|                   6|                   4|                   1|                   3|                   0|                   0|                   0|                   0|                   0|                   0|                   0|                   2|                   2|                   6|                   5|                   0|                   0|                   0|                   0|                   4|                   4|                   8|                  22|e4|e5|Nf3|Nc6|Bb5...|\n",
            "|86e0b7f5-7b94-4ae...|     18|           9|       Carlsen,M|    Nxb3|a5b3|         a5|       b3|    N|Black|r1bq1rk1/2ppbppp/...|       0|            0|             0|                     0|           0|                       0|         15|         15|               8|               7|                1|                1|                 1|                 2|                 2|                 2|               2|               2|                       1|                       3|                   6|                   6|                   1|                   1|                   1|                   0|                   0|                   0|                  25|                   6|                   1|                   1|                   3|                   0|                   0|                   0|                   0|                   0|                   1|                   0|                   1|                   2|                   6|                   5|                   0|                   0|                   3|                   0|                   1|                   4|                   8|                  22|e4|e5|Nf3|Nc6|Bb5...|\n",
            "|86e0b7f5-7b94-4ae...|     19|          10|Nepomniachtchi,I|    axb3|a2b3|         a2|       b3|    P|White|r1bq1rk1/2ppbppp/...|       0|            0|             0|                     0|           0|                       0|         15|         14|               8|               7|                1|                1|                 1|                 2|                 2|                 1|               2|               2|                       4|                       3|                   6|                   5|                   2|                   1|                   1|                   0|                   0|                   0|                  25|                   5|                   2|                   1|                   3|                   0|                   0|                   0|                   0|                   0|                   0|                   0|                   1|                   2|                   6|                   5|                   0|                   0|                   0|                   0|                   1|                   4|                   8|                  22|e4|e5|Nf3|Nc6|Bb5...|\n",
            "|86e0b7f5-7b94-4ae...|     20|          10|       Carlsen,M|     Bb7|c8b7|         c8|       b7|    B|Black|r2q1rk1/1bppbppp/...|       0|            0|             0|                     0|           0|                       0|         15|         14|               8|               7|                1|                1|                 1|                 2|                 2|                 1|               2|               2|                       4|                       3|                   6|                   5|                   2|                   1|                   1|                   0|                   0|                   0|                  25|                   5|                   2|                   1|                   3|                   0|                   0|                   0|                   0|                   0|                   0|                   0|                   1|                   2|                   7|                   4|                   0|                   0|                   0|                   0|                   1|                   4|                  11|                  19|e4|e5|Nf3|Nc6|Bb5...|\n",
            "+--------------------+-------+------------+----------------+--------+----+-----------+---------+-----+-----+--------------------+--------+-------------+--------------+----------------------+------------+------------------------+-----------+-----------+----------------+----------------+-----------------+-----------------+------------------+------------------+------------------+------------------+----------------+----------------+------------------------+------------------------+--------------------+--------------------+--------------------+--------------------+--------------------+--------------------+--------------------+--------------------+--------------------+--------------------+--------------------+--------------------+--------------------+--------------------+--------------------+--------------------+--------------------+--------------------+--------------------+--------------------+--------------------+--------------------+--------------------+--------------------+--------------------+--------------------+--------------------+--------------------+--------------------+--------------------+--------------------+--------------------+--------------------+\n",
            "only showing top 20 rows\n",
            "\n"
          ]
        }
      ]
    },
    {
      "cell_type": "code",
      "source": [
        "# selection only those rows whose piece is pawn and check_mate=1"
      ],
      "metadata": {
        "id": "Gc1gqpRhY7jq"
      },
      "execution_count": null,
      "outputs": []
    },
    {
      "cell_type": "code",
      "source": [
        "pyspark_df2.select(\"player\",\"piece\",\"is_check_mate\").filter((pyspark_df2.piece==\"P\")&( pyspark_df2.is_check_mate==1)).drop(\"piece\",\"is_check_mate\").show()"
      ],
      "metadata": {
        "colab": {
          "base_uri": "https://localhost:8080/"
        },
        "id": "Zu-py4PUzYlu",
        "outputId": "8b90ca90-6839-4a51-cb35-5f0a41340369"
      },
      "execution_count": null,
      "outputs": [
        {
          "output_type": "stream",
          "name": "stdout",
          "text": [
            "+--------------+\n",
            "|        player|\n",
            "+--------------+\n",
            "|Andersson, Ulf|\n",
            "+--------------+\n",
            "\n"
          ]
        }
      ]
    },
    {
      "cell_type": "code",
      "source": [
        "#Question 15"
      ],
      "metadata": {
        "id": "BdhFEmMZB353"
      },
      "execution_count": null,
      "outputs": []
    },
    {
      "cell_type": "markdown",
      "source": [
        "15. List games where player has won game without queen.\n",
        "Result attributes: game_id, event, player_name"
      ],
      "metadata": {
        "id": "u6_f_GFoCG-5"
      }
    },
    {
      "cell_type": "code",
      "source": [
        "#selecting only rows where queen of both black and white is zero and the winner column"
      ],
      "metadata": {
        "id": "W8HEWRK3hp-C"
      },
      "execution_count": null,
      "outputs": []
    },
    {
      "cell_type": "code",
      "source": [
        "combined_df12.show()"
      ],
      "metadata": {
        "colab": {
          "base_uri": "https://localhost:8080/"
        },
        "id": "oLyWf5QTik_V",
        "outputId": "689a1617-8d54-49ca-e0c0-65c98a106106"
      },
      "execution_count": null,
      "outputs": [
        {
          "output_type": "stream",
          "name": "stdout",
          "text": [
            "+----------+--------+---------+-----------+-----+----------------+---------+-------+---------+---------+-----------+-----------+------+----------+-----+---------+---------------------+---+--------------------+---------------+--------------------+-------+------------+----------------+--------+----+-----------+---------+-----+-----+--------------------+--------+-------------+--------------+----------------------+------------+------------------------+-----------+-----------+----------------+----------------+-----------------+-----------------+------------------+------------------+------------------+------------------+----------------+----------------+------------------------+------------------------+--------------------+--------------------+--------------------+--------------------+--------------------+--------------------+--------------------+--------------------+--------------------+--------------------+--------------------+--------------------+--------------------+--------------------+--------------------+--------------------+--------------------+--------------------+--------------------+--------------------+--------------------+--------------------+--------------------+--------------------+--------------------+--------------------+--------------------+--------------------+--------------------+--------------------+--------------------+--------------------+--------------------+\n",
            "|game_order|   event|     site|date_played|round|           white|    black| result|white_elo|black_elo|white_title|black_title|winner|winner_elo|loser|loser_elo|winner_loser_elo_diff|eco|        date_created|tournament_name|             game_id|move_no|move_no_pair|          player|notation|move|from_square|to_square|piece|color|                 fen|is_check|is_check_mate|is_fifty_moves|is_fivefold_repetition|is_game_over|is_insufficient_material|white_count|black_count|white_pawn_count|black_pawn_count|white_queen_count|black_queen_count|white_bishop_count|black_bishop_count|white_knight_count|black_knight_count|white_rook_count|black_rook_count|captured_score_for_white|captured_score_for_black|fen_row1_white_count|fen_row2_white_count|fen_row3_white_count|fen_row4_white_count|fen_row5_white_count|fen_row6_white_count|fen_row7_white_count|fen_row8_white_count|fen_row1_white_value|fen_row2_white_value|fen_row3_white_value|fen_row4_white_value|fen_row5_white_value|fen_row6_white_value|fen_row7_white_value|fen_row8_white_value|fen_row1_black_count|fen_row2_black_count|fen_row3_black_count|fen_row4_black_count|fen_row5_black_count|fen_row6_black_count|fen_row7_black_count|fen_row8_black_count|fen_row1_black_value|fen_row2_black_value|fen_row3_black_value|fen_row4_black_value|fen_row5_black_value|fen_row6_black_value|fen_row7_black_value|fen_row8_black_value|       move_sequence|\n",
            "+----------+--------+---------+-----------+-----+----------------+---------+-------+---------+---------+-----------+-----------+------+----------+-----+---------+---------------------+---+--------------------+---------------+--------------------+-------+------------+----------------+--------+----+-----------+---------+-----+-----+--------------------+--------+-------------+--------------+----------------------+------------+------------------------+-----------+-----------+----------------+----------------+-----------------+-----------------+------------------+------------------+------------------+------------------+----------------+----------------+------------------------+------------------------+--------------------+--------------------+--------------------+--------------------+--------------------+--------------------+--------------------+--------------------+--------------------+--------------------+--------------------+--------------------+--------------------+--------------------+--------------------+--------------------+--------------------+--------------------+--------------------+--------------------+--------------------+--------------------+--------------------+--------------------+--------------------+--------------------+--------------------+--------------------+--------------------+--------------------+--------------------+--------------------+--------------------+\n",
            "|         1|WCh 2021|Dubai UAE| 2021.11.26|    1|Nepomniachtchi,I|Carlsen,M|1/2-1/2|     2782|     2855|       null|       null|  draw|      null| draw|     null|                    0|C88|2022-07-22T22:33:...| WorldChamp2021|86e0b7f5-7b94-4ae...|      1|           1|Nepomniachtchi,I|      e4|e2e4|         e2|       e4|    P|White|rnbqkbnr/pppppppp...|       0|            0|             0|                     0|           0|                       0|         16|         16|               8|               8|                1|                1|                 2|                 2|                 2|                 2|               2|               2|                       0|                       0|                   8|                   7|                   0|                   1|                   0|                   0|                   0|                   0|                  31|                   7|                   0|                   1|                   0|                   0|                   0|                   0|                   0|                   0|                   0|                   0|                   0|                   0|                   8|                   8|                   0|                   0|                   0|                   0|                   0|                   0|                   8|                  31|                  e4|\n",
            "|         1|WCh 2021|Dubai UAE| 2021.11.26|    1|Nepomniachtchi,I|Carlsen,M|1/2-1/2|     2782|     2855|       null|       null|  draw|      null| draw|     null|                    0|C88|2022-07-22T22:33:...| WorldChamp2021|86e0b7f5-7b94-4ae...|      2|           1|       Carlsen,M|      e5|e7e5|         e7|       e5|    P|Black|rnbqkbnr/pppp1ppp...|       0|            0|             0|                     0|           0|                       0|         16|         16|               8|               8|                1|                1|                 2|                 2|                 2|                 2|               2|               2|                       0|                       0|                   8|                   7|                   0|                   1|                   0|                   0|                   0|                   0|                  31|                   7|                   0|                   1|                   0|                   0|                   0|                   0|                   0|                   0|                   0|                   0|                   1|                   0|                   7|                   8|                   0|                   0|                   0|                   0|                   1|                   0|                   7|                  31|               e4|e5|\n",
            "|         1|WCh 2021|Dubai UAE| 2021.11.26|    1|Nepomniachtchi,I|Carlsen,M|1/2-1/2|     2782|     2855|       null|       null|  draw|      null| draw|     null|                    0|C88|2022-07-22T22:33:...| WorldChamp2021|86e0b7f5-7b94-4ae...|      3|           2|Nepomniachtchi,I|     Nf3|g1f3|         g1|       f3|    N|White|rnbqkbnr/pppp1ppp...|       0|            0|             0|                     0|           0|                       0|         16|         16|               8|               8|                1|                1|                 2|                 2|                 2|                 2|               2|               2|                       0|                       0|                   7|                   7|                   1|                   1|                   0|                   0|                   0|                   0|                  28|                   7|                   3|                   1|                   0|                   0|                   0|                   0|                   0|                   0|                   0|                   0|                   1|                   0|                   7|                   8|                   0|                   0|                   0|                   0|                   1|                   0|                   7|                  31|           e4|e5|Nf3|\n",
            "|         1|WCh 2021|Dubai UAE| 2021.11.26|    1|Nepomniachtchi,I|Carlsen,M|1/2-1/2|     2782|     2855|       null|       null|  draw|      null| draw|     null|                    0|C88|2022-07-22T22:33:...| WorldChamp2021|86e0b7f5-7b94-4ae...|      4|           2|       Carlsen,M|     Nc6|b8c6|         b8|       c6|    N|Black|r1bqkbnr/pppp1ppp...|       0|            0|             0|                     0|           0|                       0|         16|         16|               8|               8|                1|                1|                 2|                 2|                 2|                 2|               2|               2|                       0|                       0|                   7|                   7|                   1|                   1|                   0|                   0|                   0|                   0|                  28|                   7|                   3|                   1|                   0|                   0|                   0|                   0|                   0|                   0|                   0|                   0|                   1|                   1|                   7|                   7|                   0|                   0|                   0|                   0|                   1|                   3|                   7|                  28|       e4|e5|Nf3|Nc6|\n",
            "|         1|WCh 2021|Dubai UAE| 2021.11.26|    1|Nepomniachtchi,I|Carlsen,M|1/2-1/2|     2782|     2855|       null|       null|  draw|      null| draw|     null|                    0|C88|2022-07-22T22:33:...| WorldChamp2021|86e0b7f5-7b94-4ae...|      5|           3|Nepomniachtchi,I|     Bb5|f1b5|         f1|       b5|    B|White|r1bqkbnr/pppp1ppp...|       0|            0|             0|                     0|           0|                       0|         16|         16|               8|               8|                1|                1|                 2|                 2|                 2|                 2|               2|               2|                       0|                       0|                   6|                   7|                   1|                   1|                   1|                   0|                   0|                   0|                  25|                   7|                   3|                   1|                   3|                   0|                   0|                   0|                   0|                   0|                   0|                   0|                   1|                   1|                   7|                   7|                   0|                   0|                   0|                   0|                   1|                   3|                   7|                  28|   e4|e5|Nf3|Nc6|Bb5|\n",
            "|         1|WCh 2021|Dubai UAE| 2021.11.26|    1|Nepomniachtchi,I|Carlsen,M|1/2-1/2|     2782|     2855|       null|       null|  draw|      null| draw|     null|                    0|C88|2022-07-22T22:33:...| WorldChamp2021|86e0b7f5-7b94-4ae...|      6|           3|       Carlsen,M|      a6|a7a6|         a7|       a6|    P|Black|r1bqkbnr/1ppp1ppp...|       0|            0|             0|                     0|           0|                       0|         16|         16|               8|               8|                1|                1|                 2|                 2|                 2|                 2|               2|               2|                       0|                       0|                   6|                   7|                   1|                   1|                   1|                   0|                   0|                   0|                  25|                   7|                   3|                   1|                   3|                   0|                   0|                   0|                   0|                   0|                   0|                   0|                   1|                   2|                   6|                   7|                   0|                   0|                   0|                   0|                   1|                   4|                   6|                  28|e4|e5|Nf3|Nc6|Bb5|a6|\n",
            "|         1|WCh 2021|Dubai UAE| 2021.11.26|    1|Nepomniachtchi,I|Carlsen,M|1/2-1/2|     2782|     2855|       null|       null|  draw|      null| draw|     null|                    0|C88|2022-07-22T22:33:...| WorldChamp2021|86e0b7f5-7b94-4ae...|      7|           4|Nepomniachtchi,I|     Ba4|b5a4|         b5|       a4|    B|White|r1bqkbnr/1ppp1ppp...|       0|            0|             0|                     0|           0|                       0|         16|         16|               8|               8|                1|                1|                 2|                 2|                 2|                 2|               2|               2|                       0|                       0|                   6|                   7|                   1|                   2|                   0|                   0|                   0|                   0|                  25|                   7|                   3|                   4|                   0|                   0|                   0|                   0|                   0|                   0|                   0|                   0|                   1|                   2|                   6|                   7|                   0|                   0|                   0|                   0|                   1|                   4|                   6|                  28|e4|e5|Nf3|Nc6|Bb5...|\n",
            "|         1|WCh 2021|Dubai UAE| 2021.11.26|    1|Nepomniachtchi,I|Carlsen,M|1/2-1/2|     2782|     2855|       null|       null|  draw|      null| draw|     null|                    0|C88|2022-07-22T22:33:...| WorldChamp2021|86e0b7f5-7b94-4ae...|      8|           4|       Carlsen,M|     Nf6|g8f6|         g8|       f6|    N|Black|r1bqkb1r/1ppp1ppp...|       0|            0|             0|                     0|           0|                       0|         16|         16|               8|               8|                1|                1|                 2|                 2|                 2|                 2|               2|               2|                       0|                       0|                   6|                   7|                   1|                   2|                   0|                   0|                   0|                   0|                  25|                   7|                   3|                   4|                   0|                   0|                   0|                   0|                   0|                   0|                   0|                   0|                   1|                   3|                   6|                   6|                   0|                   0|                   0|                   0|                   1|                   7|                   6|                  25|e4|e5|Nf3|Nc6|Bb5...|\n",
            "|         1|WCh 2021|Dubai UAE| 2021.11.26|    1|Nepomniachtchi,I|Carlsen,M|1/2-1/2|     2782|     2855|       null|       null|  draw|      null| draw|     null|                    0|C88|2022-07-22T22:33:...| WorldChamp2021|86e0b7f5-7b94-4ae...|      9|           5|Nepomniachtchi,I|     O-O|e1g1|         e1|       g1|    K|White|r1bqkb1r/1ppp1ppp...|       0|            0|             0|                     0|           0|                       0|         16|         16|               8|               8|                1|                1|                 2|                 2|                 2|                 2|               2|               2|                       0|                       0|                   6|                   7|                   1|                   2|                   0|                   0|                   0|                   0|                  25|                   7|                   3|                   4|                   0|                   0|                   0|                   0|                   0|                   0|                   0|                   0|                   1|                   3|                   6|                   6|                   0|                   0|                   0|                   0|                   1|                   7|                   6|                  25|e4|e5|Nf3|Nc6|Bb5...|\n",
            "|         1|WCh 2021|Dubai UAE| 2021.11.26|    1|Nepomniachtchi,I|Carlsen,M|1/2-1/2|     2782|     2855|       null|       null|  draw|      null| draw|     null|                    0|C88|2022-07-22T22:33:...| WorldChamp2021|86e0b7f5-7b94-4ae...|     10|           5|       Carlsen,M|     Be7|f8e7|         f8|       e7|    B|Black|r1bqk2r/1pppbppp/...|       0|            0|             0|                     0|           0|                       0|         16|         16|               8|               8|                1|                1|                 2|                 2|                 2|                 2|               2|               2|                       0|                       0|                   6|                   7|                   1|                   2|                   0|                   0|                   0|                   0|                  25|                   7|                   3|                   4|                   0|                   0|                   0|                   0|                   0|                   0|                   0|                   0|                   1|                   3|                   7|                   5|                   0|                   0|                   0|                   0|                   1|                   7|                   9|                  22|e4|e5|Nf3|Nc6|Bb5...|\n",
            "|         1|WCh 2021|Dubai UAE| 2021.11.26|    1|Nepomniachtchi,I|Carlsen,M|1/2-1/2|     2782|     2855|       null|       null|  draw|      null| draw|     null|                    0|C88|2022-07-22T22:33:...| WorldChamp2021|86e0b7f5-7b94-4ae...|     11|           6|Nepomniachtchi,I|     Re1|f1e1|         f1|       e1|    R|White|r1bqk2r/1pppbppp/...|       0|            0|             0|                     0|           0|                       0|         16|         16|               8|               8|                1|                1|                 2|                 2|                 2|                 2|               2|               2|                       0|                       0|                   6|                   7|                   1|                   2|                   0|                   0|                   0|                   0|                  25|                   7|                   3|                   4|                   0|                   0|                   0|                   0|                   0|                   0|                   0|                   0|                   1|                   3|                   7|                   5|                   0|                   0|                   0|                   0|                   1|                   7|                   9|                  22|e4|e5|Nf3|Nc6|Bb5...|\n",
            "|         1|WCh 2021|Dubai UAE| 2021.11.26|    1|Nepomniachtchi,I|Carlsen,M|1/2-1/2|     2782|     2855|       null|       null|  draw|      null| draw|     null|                    0|C88|2022-07-22T22:33:...| WorldChamp2021|86e0b7f5-7b94-4ae...|     12|           6|       Carlsen,M|      b5|b7b5|         b7|       b5|    P|Black|r1bqk2r/2ppbppp/p...|       0|            0|             0|                     0|           0|                       0|         16|         16|               8|               8|                1|                1|                 2|                 2|                 2|                 2|               2|               2|                       0|                       0|                   6|                   7|                   1|                   2|                   0|                   0|                   0|                   0|                  25|                   7|                   3|                   4|                   0|                   0|                   0|                   0|                   0|                   0|                   0|                   0|                   2|                   3|                   6|                   5|                   0|                   0|                   0|                   0|                   2|                   7|                   8|                  22|e4|e5|Nf3|Nc6|Bb5...|\n",
            "|         1|WCh 2021|Dubai UAE| 2021.11.26|    1|Nepomniachtchi,I|Carlsen,M|1/2-1/2|     2782|     2855|       null|       null|  draw|      null| draw|     null|                    0|C88|2022-07-22T22:33:...| WorldChamp2021|86e0b7f5-7b94-4ae...|     13|           7|Nepomniachtchi,I|     Bb3|a4b3|         a4|       b3|    B|White|r1bqk2r/2ppbppp/p...|       0|            0|             0|                     0|           0|                       0|         16|         16|               8|               8|                1|                1|                 2|                 2|                 2|                 2|               2|               2|                       0|                       0|                   6|                   7|                   2|                   1|                   0|                   0|                   0|                   0|                  25|                   7|                   6|                   1|                   0|                   0|                   0|                   0|                   0|                   0|                   0|                   0|                   2|                   3|                   6|                   5|                   0|                   0|                   0|                   0|                   2|                   7|                   8|                  22|e4|e5|Nf3|Nc6|Bb5...|\n",
            "|         1|WCh 2021|Dubai UAE| 2021.11.26|    1|Nepomniachtchi,I|Carlsen,M|1/2-1/2|     2782|     2855|       null|       null|  draw|      null| draw|     null|                    0|C88|2022-07-22T22:33:...| WorldChamp2021|86e0b7f5-7b94-4ae...|     14|           7|       Carlsen,M|     O-O|e8g8|         e8|       g8|    K|Black|r1bq1rk1/2ppbppp/...|       0|            0|             0|                     0|           0|                       0|         16|         16|               8|               8|                1|                1|                 2|                 2|                 2|                 2|               2|               2|                       0|                       0|                   6|                   7|                   2|                   1|                   0|                   0|                   0|                   0|                  25|                   7|                   6|                   1|                   0|                   0|                   0|                   0|                   0|                   0|                   0|                   0|                   2|                   3|                   6|                   5|                   0|                   0|                   0|                   0|                   2|                   7|                   8|                  22|e4|e5|Nf3|Nc6|Bb5...|\n",
            "|         1|WCh 2021|Dubai UAE| 2021.11.26|    1|Nepomniachtchi,I|Carlsen,M|1/2-1/2|     2782|     2855|       null|       null|  draw|      null| draw|     null|                    0|C88|2022-07-22T22:33:...| WorldChamp2021|86e0b7f5-7b94-4ae...|     15|           8|Nepomniachtchi,I|      h3|h2h3|         h2|       h3|    P|White|r1bq1rk1/2ppbppp/...|       0|            0|             0|                     0|           0|                       0|         16|         16|               8|               8|                1|                1|                 2|                 2|                 2|                 2|               2|               2|                       0|                       0|                   6|                   6|                   3|                   1|                   0|                   0|                   0|                   0|                  25|                   6|                   7|                   1|                   0|                   0|                   0|                   0|                   0|                   0|                   0|                   0|                   2|                   3|                   6|                   5|                   0|                   0|                   0|                   0|                   2|                   7|                   8|                  22|e4|e5|Nf3|Nc6|Bb5...|\n",
            "|         1|WCh 2021|Dubai UAE| 2021.11.26|    1|Nepomniachtchi,I|Carlsen,M|1/2-1/2|     2782|     2855|       null|       null|  draw|      null| draw|     null|                    0|C88|2022-07-22T22:33:...| WorldChamp2021|86e0b7f5-7b94-4ae...|     16|           8|       Carlsen,M|     Na5|c6a5|         c6|       a5|    N|Black|r1bq1rk1/2ppbppp/...|       0|            0|             0|                     0|           0|                       0|         16|         16|               8|               8|                1|                1|                 2|                 2|                 2|                 2|               2|               2|                       0|                       0|                   6|                   6|                   3|                   1|                   0|                   0|                   0|                   0|                  25|                   6|                   7|                   1|                   0|                   0|                   0|                   0|                   0|                   0|                   0|                   0|                   3|                   2|                   6|                   5|                   0|                   0|                   0|                   0|                   5|                   4|                   8|                  22|e4|e5|Nf3|Nc6|Bb5...|\n",
            "|         1|WCh 2021|Dubai UAE| 2021.11.26|    1|Nepomniachtchi,I|Carlsen,M|1/2-1/2|     2782|     2855|       null|       null|  draw|      null| draw|     null|                    0|C88|2022-07-22T22:33:...| WorldChamp2021|86e0b7f5-7b94-4ae...|     17|           9|Nepomniachtchi,I|    Nxe5|f3e5|         f3|       e5|    N|White|r1bq1rk1/2ppbppp/...|       0|            0|             0|                     0|           0|                       0|         16|         15|               8|               7|                1|                1|                 2|                 2|                 2|                 2|               2|               2|                       1|                       0|                   6|                   6|                   2|                   1|                   1|                   0|                   0|                   0|                  25|                   6|                   4|                   1|                   3|                   0|                   0|                   0|                   0|                   0|                   0|                   0|                   2|                   2|                   6|                   5|                   0|                   0|                   0|                   0|                   4|                   4|                   8|                  22|e4|e5|Nf3|Nc6|Bb5...|\n",
            "|         1|WCh 2021|Dubai UAE| 2021.11.26|    1|Nepomniachtchi,I|Carlsen,M|1/2-1/2|     2782|     2855|       null|       null|  draw|      null| draw|     null|                    0|C88|2022-07-22T22:33:...| WorldChamp2021|86e0b7f5-7b94-4ae...|     18|           9|       Carlsen,M|    Nxb3|a5b3|         a5|       b3|    N|Black|r1bq1rk1/2ppbppp/...|       0|            0|             0|                     0|           0|                       0|         15|         15|               8|               7|                1|                1|                 1|                 2|                 2|                 2|               2|               2|                       1|                       3|                   6|                   6|                   1|                   1|                   1|                   0|                   0|                   0|                  25|                   6|                   1|                   1|                   3|                   0|                   0|                   0|                   0|                   0|                   1|                   0|                   1|                   2|                   6|                   5|                   0|                   0|                   3|                   0|                   1|                   4|                   8|                  22|e4|e5|Nf3|Nc6|Bb5...|\n",
            "|         1|WCh 2021|Dubai UAE| 2021.11.26|    1|Nepomniachtchi,I|Carlsen,M|1/2-1/2|     2782|     2855|       null|       null|  draw|      null| draw|     null|                    0|C88|2022-07-22T22:33:...| WorldChamp2021|86e0b7f5-7b94-4ae...|     19|          10|Nepomniachtchi,I|    axb3|a2b3|         a2|       b3|    P|White|r1bq1rk1/2ppbppp/...|       0|            0|             0|                     0|           0|                       0|         15|         14|               8|               7|                1|                1|                 1|                 2|                 2|                 1|               2|               2|                       4|                       3|                   6|                   5|                   2|                   1|                   1|                   0|                   0|                   0|                  25|                   5|                   2|                   1|                   3|                   0|                   0|                   0|                   0|                   0|                   0|                   0|                   1|                   2|                   6|                   5|                   0|                   0|                   0|                   0|                   1|                   4|                   8|                  22|e4|e5|Nf3|Nc6|Bb5...|\n",
            "|         1|WCh 2021|Dubai UAE| 2021.11.26|    1|Nepomniachtchi,I|Carlsen,M|1/2-1/2|     2782|     2855|       null|       null|  draw|      null| draw|     null|                    0|C88|2022-07-22T22:33:...| WorldChamp2021|86e0b7f5-7b94-4ae...|     20|          10|       Carlsen,M|     Bb7|c8b7|         c8|       b7|    B|Black|r2q1rk1/1bppbppp/...|       0|            0|             0|                     0|           0|                       0|         15|         14|               8|               7|                1|                1|                 1|                 2|                 2|                 1|               2|               2|                       4|                       3|                   6|                   5|                   2|                   1|                   1|                   0|                   0|                   0|                  25|                   5|                   2|                   1|                   3|                   0|                   0|                   0|                   0|                   0|                   0|                   0|                   1|                   2|                   7|                   4|                   0|                   0|                   0|                   0|                   1|                   4|                  11|                  19|e4|e5|Nf3|Nc6|Bb5...|\n",
            "+----------+--------+---------+-----------+-----+----------------+---------+-------+---------+---------+-----------+-----------+------+----------+-----+---------+---------------------+---+--------------------+---------------+--------------------+-------+------------+----------------+--------+----+-----------+---------+-----+-----+--------------------+--------+-------------+--------------+----------------------+------------+------------------------+-----------+-----------+----------------+----------------+-----------------+-----------------+------------------+------------------+------------------+------------------+----------------+----------------+------------------------+------------------------+--------------------+--------------------+--------------------+--------------------+--------------------+--------------------+--------------------+--------------------+--------------------+--------------------+--------------------+--------------------+--------------------+--------------------+--------------------+--------------------+--------------------+--------------------+--------------------+--------------------+--------------------+--------------------+--------------------+--------------------+--------------------+--------------------+--------------------+--------------------+--------------------+--------------------+--------------------+--------------------+--------------------+\n",
            "only showing top 20 rows\n",
            "\n"
          ]
        }
      ]
    },
    {
      "cell_type": "code",
      "source": [
        "ques15=combined_df12.select(\"game_id\",\"winner\",\"event\",\"white_queen_count\",\"black_queen_count\").filter((combined_df12.white_queen_count==0)&(combined_df12.black_queen_count==0))\n"
      ],
      "metadata": {
        "id": "T2vCz_AlAtpe"
      },
      "execution_count": null,
      "outputs": []
    },
    {
      "cell_type": "code",
      "source": [
        "ques15.select(\"game_id\",\"event\",\"winner\").withColumnRenamed(\"winner\",\"player_name\").filter(ques15.winner!=\"draw\").distinct().show()  #filtering the data by removing the draw rows"
      ],
      "metadata": {
        "id": "lUp72_2dBd7q",
        "colab": {
          "base_uri": "https://localhost:8080/"
        },
        "outputId": "111ab96f-64d7-4865-9a37-8c3825c5f8d5"
      },
      "execution_count": null,
      "outputs": [
        {
          "output_type": "stream",
          "name": "stdout",
          "text": [
            "+--------------------+--------------------+--------------------+\n",
            "|             game_id|               event|         player_name|\n",
            "+--------------------+--------------------+--------------------+\n",
            "|083a4003-8f7e-4bf...|World Championshi...|     Lasker, Emanuel|\n",
            "|ae3e67f9-d68f-410...|                 WCh|           Kramnik,V|\n",
            "|36691f61-7595-4a9...|         FIDE WCh KO|   Azmaiparashvili,Z|\n",
            "|4385b082-8c63-407...|         FIDE WCh KO|          Tiviakov,S|\n",
            "|71510a9d-780a-44d...|         FIDE WCh KO|            Dautov,R|\n",
            "|b666519c-cc97-443...|World Championshi...|  Botvinnik, Mikhail|\n",
            "|d73df018-bdb1-4ef...|World Championshi...|   Steinitz, William|\n",
            "|b65310bb-688c-48e...|                 WCh|           Topalov,V|\n",
            "|0aa739ee-2619-4a3...|         FIDE WCh KO|          Radjabov,T|\n",
            "|1713d71d-8d83-46a...|         FIDE WCh KO|              Leko,P|\n",
            "|32171e06-cf7b-48b...|World Championshi...|    Spassky, Boris V|\n",
            "|994fd75a-a32a-4b0...|World Championshi...|  Botvinnik, Mikhail|\n",
            "|8923c02d-e59b-4c3...|World Championshi...|Zukertort, Johann...|\n",
            "|265e237d-8f8a-404...|                 WCh|           Kramnik,V|\n",
            "|d290cdbc-88ef-43b...|         FIDE WCh KO|            Bacrot,E|\n",
            "|30ab76b1-1b2f-45f...|World Championshi...|           Euwe, Max|\n",
            "|34417a35-c210-4e3...|         FIDE WCh KO|          Radjabov,T|\n",
            "|1431868f-364c-4d5...|         FIDE WCh KO|           Bologan,V|\n",
            "|f2549fd5-4b8a-452...|         FIDE WCh KO|             Anand,V|\n",
            "|a91c904f-76d5-4b7...|FIDE-Wch k.o. g/2...|Nisipeanu, Liviu ...|\n",
            "+--------------------+--------------------+--------------------+\n",
            "only showing top 20 rows\n",
            "\n"
          ]
        }
      ]
    },
    {
      "cell_type": "markdown",
      "source": [
        "**Section 3: Save results from Section 2 into google drive**"
      ],
      "metadata": {
        "id": "Z-VLVNxvCRPd"
      }
    },
    {
      "cell_type": "markdown",
      "source": [
        "1. Function will accept list of spark dataframe as argument."
      ],
      "metadata": {
        "id": "G124S4hRl27y"
      }
    },
    {
      "cell_type": "code",
      "source": [
        "import pandas as pd  #importing pandas for converting spark dataframe to pandas daframe\n",
        "import os.path       #importing os to create directory or files in the given path\n",
        "from os import path"
      ],
      "metadata": {
        "id": "WtNhI4rNteCY"
      },
      "execution_count": null,
      "outputs": []
    },
    {
      "cell_type": "code",
      "source": [
        "def mount_drive(pyspark_df1,pyspark_df2,pyspark_df3):\n",
        "    from google.colab import drive\n",
        "    drive.mount('/content/gdrive')    #2. Mount your Google Drive if not mounted onto your colab notebook\n",
        "    path1='/content/gdrive/MyDrive/DE_SOLUTION_DURGAVENKATASUBRAHMANYAM_PALA/'\n",
        "    new_file='results/'\n",
        "    path2=path1+new_file\n",
        "    if path.exists(path1)==False:\n",
        "        os.mkdir(path1)\n",
        "        #os.mkdir(path2)\n",
        "    if path.exists(path2)==False:\n",
        "        os.mkdir(path2) \n",
        "\n",
        "    pandas_df1=pyspark_df1.toPandas()    \n",
        "    pandas_df2=pyspark_df2.toPandas() #Convert spark dataframe to pandas dataframe  \n",
        "    pandas_df3=pyspark_df3.toPandas() \n",
        "    pandas_df1.to_csv(r'/content/gdrive/MyDrive/DE_SOLUTION_DURGAVENKATASUBRAHMANYAM_PALA/results/df1.csv')\n",
        "    pandas_df2.to_csv(r'/content/gdrive/MyDrive/DE_SOLUTION_DURGAVENKATASUBRAHMANYAM_PALA/results/df2.csv') # Convert the pandas dataframe to csv and save it to goggle drive under DE_SOLUTION_FirstName_LastName/results/\n",
        "    pandas_df3.to_csv(r'/content/gdrive/MyDrive/DE_SOLUTION_DURGAVENKATASUBRAHMANYAM_PALA/results/df3.csv')  "
      ],
      "metadata": {
        "id": "Ek0hmMiiyjHj"
      },
      "execution_count": null,
      "outputs": []
    },
    {
      "cell_type": "code",
      "source": [
        "mount_drive(pyspark_df1,pyspark_df2,pyspark_df3)    # calling the function with spark dataframes as arguments"
      ],
      "metadata": {
        "colab": {
          "base_uri": "https://localhost:8080/"
        },
        "id": "2frWN-UxtVYy",
        "outputId": "6a77852f-4773-446d-9e95-f509f6590d72"
      },
      "execution_count": null,
      "outputs": [
        {
          "output_type": "stream",
          "name": "stdout",
          "text": [
            "Drive already mounted at /content/gdrive; to attempt to forcibly remount, call drive.mount(\"/content/gdrive\", force_remount=True).\n"
          ]
        }
      ]
    },
    {
      "cell_type": "code",
      "source": [
        "# ************************************************END***********************************************************# "
      ],
      "metadata": {
        "id": "kS_b0Dqh9_yv"
      },
      "execution_count": null,
      "outputs": []
    }
  ]
}